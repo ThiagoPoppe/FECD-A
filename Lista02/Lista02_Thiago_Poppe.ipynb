{
 "cells": [
  {
   "cell_type": "markdown",
   "id": "a8f33ce2-33da-4eba-a907-8146ef54a161",
   "metadata": {},
   "source": [
    "# Lista 02 - Fundamentos Estatísticos para Ciência dos Dados A\n",
    "- Aluno: Thiago Martin Poppe\n",
    "- Matrícula: 2017014324"
   ]
  },
  {
   "cell_type": "markdown",
   "id": "c2940b51-4c6e-433f-a216-e32ef1ac3b58",
   "metadata": {},
   "source": [
    "# Conjunto de exercícios \\#1\n",
    "- Usando pandas, ler os dados do arquivo ``BloodPressure01.txt``;\n",
    "- Reproduzir os comandos do slide 10 de T01-RDados.pdf;\n",
    "- Histograma básico do slide 13;\n",
    "- Gráficos do slide 15."
   ]
  },
  {
   "cell_type": "code",
   "execution_count": 1,
   "id": "8734e7d9-577d-47bb-b516-9c182f530bf4",
   "metadata": {},
   "outputs": [],
   "source": [
    "import numpy as np\n",
    "import pandas as pd\n",
    "import matplotlib.pyplot as plt\n",
    "\n",
    "%matplotlib inline"
   ]
  },
  {
   "cell_type": "code",
   "execution_count": 2,
   "id": "bbbbe25a-7d51-41d4-b3f0-3aef30d6f13d",
   "metadata": {},
   "outputs": [
    {
     "data": {
      "text/html": [
       "<div>\n",
       "<style scoped>\n",
       "    .dataframe tbody tr th:only-of-type {\n",
       "        vertical-align: middle;\n",
       "    }\n",
       "\n",
       "    .dataframe tbody tr th {\n",
       "        vertical-align: top;\n",
       "    }\n",
       "\n",
       "    .dataframe thead th {\n",
       "        text-align: right;\n",
       "    }\n",
       "</style>\n",
       "<table border=\"1\" class=\"dataframe\">\n",
       "  <thead>\n",
       "    <tr style=\"text-align: right;\">\n",
       "      <th></th>\n",
       "      <th>sbp</th>\n",
       "      <th>gender</th>\n",
       "      <th>married</th>\n",
       "      <th>smoke</th>\n",
       "      <th>exercise</th>\n",
       "      <th>age</th>\n",
       "      <th>weight</th>\n",
       "      <th>height</th>\n",
       "      <th>overwt</th>\n",
       "      <th>race</th>\n",
       "      <th>...</th>\n",
       "      <th>g474</th>\n",
       "      <th>g475</th>\n",
       "      <th>g476</th>\n",
       "      <th>g477</th>\n",
       "      <th>g478</th>\n",
       "      <th>g479</th>\n",
       "      <th>g480</th>\n",
       "      <th>g481</th>\n",
       "      <th>g482</th>\n",
       "      <th>g483</th>\n",
       "    </tr>\n",
       "  </thead>\n",
       "  <tbody>\n",
       "    <tr>\n",
       "      <th>0</th>\n",
       "      <td>133</td>\n",
       "      <td>F</td>\n",
       "      <td>N</td>\n",
       "      <td>N</td>\n",
       "      <td>3</td>\n",
       "      <td>60</td>\n",
       "      <td>159</td>\n",
       "      <td>56</td>\n",
       "      <td>3</td>\n",
       "      <td>1</td>\n",
       "      <td>...</td>\n",
       "      <td>0_0</td>\n",
       "      <td>0_0</td>\n",
       "      <td>0_1</td>\n",
       "      <td>0_1</td>\n",
       "      <td>0_1</td>\n",
       "      <td>1_1</td>\n",
       "      <td>0_0</td>\n",
       "      <td>0_0</td>\n",
       "      <td>0_1</td>\n",
       "      <td>0_1</td>\n",
       "    </tr>\n",
       "    <tr>\n",
       "      <th>1</th>\n",
       "      <td>115</td>\n",
       "      <td>M</td>\n",
       "      <td>N</td>\n",
       "      <td>Y</td>\n",
       "      <td>1</td>\n",
       "      <td>55</td>\n",
       "      <td>107</td>\n",
       "      <td>65</td>\n",
       "      <td>1</td>\n",
       "      <td>1</td>\n",
       "      <td>...</td>\n",
       "      <td>0_1</td>\n",
       "      <td>0_1</td>\n",
       "      <td>0_0</td>\n",
       "      <td>1_1</td>\n",
       "      <td>0_0</td>\n",
       "      <td>1_1</td>\n",
       "      <td>0_0</td>\n",
       "      <td>0_0</td>\n",
       "      <td>1_1</td>\n",
       "      <td>0_1</td>\n",
       "    </tr>\n",
       "    <tr>\n",
       "      <th>2</th>\n",
       "      <td>140</td>\n",
       "      <td>M</td>\n",
       "      <td>N</td>\n",
       "      <td>Y</td>\n",
       "      <td>1</td>\n",
       "      <td>18</td>\n",
       "      <td>130</td>\n",
       "      <td>59</td>\n",
       "      <td>2</td>\n",
       "      <td>1</td>\n",
       "      <td>...</td>\n",
       "      <td>0_0</td>\n",
       "      <td>0_1</td>\n",
       "      <td>0_1</td>\n",
       "      <td>0_1</td>\n",
       "      <td>0_1</td>\n",
       "      <td>0_1</td>\n",
       "      <td>0_0</td>\n",
       "      <td>0_0</td>\n",
       "      <td>1_1</td>\n",
       "      <td>0_1</td>\n",
       "    </tr>\n",
       "    <tr>\n",
       "      <th>3</th>\n",
       "      <td>132</td>\n",
       "      <td>M</td>\n",
       "      <td>Y</td>\n",
       "      <td>N</td>\n",
       "      <td>2</td>\n",
       "      <td>19</td>\n",
       "      <td>230</td>\n",
       "      <td>57</td>\n",
       "      <td>3</td>\n",
       "      <td>2</td>\n",
       "      <td>...</td>\n",
       "      <td>0_0</td>\n",
       "      <td>0_0</td>\n",
       "      <td>1_1</td>\n",
       "      <td>0_0</td>\n",
       "      <td>1_1</td>\n",
       "      <td>0_1</td>\n",
       "      <td>1_1</td>\n",
       "      <td>0_1</td>\n",
       "      <td>1_1</td>\n",
       "      <td>0_1</td>\n",
       "    </tr>\n",
       "    <tr>\n",
       "      <th>4</th>\n",
       "      <td>133</td>\n",
       "      <td>M</td>\n",
       "      <td>N</td>\n",
       "      <td>N</td>\n",
       "      <td>2</td>\n",
       "      <td>58</td>\n",
       "      <td>201</td>\n",
       "      <td>74</td>\n",
       "      <td>2</td>\n",
       "      <td>1</td>\n",
       "      <td>...</td>\n",
       "      <td>0_0</td>\n",
       "      <td>0_0</td>\n",
       "      <td>0_0</td>\n",
       "      <td>0_0</td>\n",
       "      <td>1_1</td>\n",
       "      <td>1_1</td>\n",
       "      <td>0_0</td>\n",
       "      <td>0_1</td>\n",
       "      <td>0_1</td>\n",
       "      <td>0_0</td>\n",
       "    </tr>\n",
       "  </tbody>\n",
       "</table>\n",
       "<p>5 rows × 501 columns</p>\n",
       "</div>"
      ],
      "text/plain": [
       "   sbp gender married smoke  exercise  age  weight  height  overwt  race  ...  \\\n",
       "0  133      F       N     N         3   60     159      56       3     1  ...   \n",
       "1  115      M       N     Y         1   55     107      65       1     1  ...   \n",
       "2  140      M       N     Y         1   18     130      59       2     1  ...   \n",
       "3  132      M       Y     N         2   19     230      57       3     2  ...   \n",
       "4  133      M       N     N         2   58     201      74       2     1  ...   \n",
       "\n",
       "   g474  g475  g476  g477  g478  g479  g480  g481 g482 g483  \n",
       "0   0_0   0_0   0_1   0_1   0_1   1_1   0_0   0_0  0_1  0_1  \n",
       "1   0_1   0_1   0_0   1_1   0_0   1_1   0_0   0_0  1_1  0_1  \n",
       "2   0_0   0_1   0_1   0_1   0_1   0_1   0_0   0_0  1_1  0_1  \n",
       "3   0_0   0_0   1_1   0_0   1_1   0_1   1_1   0_1  1_1  0_1  \n",
       "4   0_0   0_0   0_0   0_0   1_1   1_1   0_0   0_1  0_1  0_0  \n",
       "\n",
       "[5 rows x 501 columns]"
      ]
     },
     "execution_count": 2,
     "metadata": {},
     "output_type": "execute_result"
    }
   ],
   "source": [
    "pressao = pd.read_csv(\"BloodPressure01.txt\")\n",
    "pressao.head()"
   ]
  },
  {
   "cell_type": "code",
   "execution_count": 3,
   "id": "b5a9d814-20dd-496b-88d5-dc52058f1aff",
   "metadata": {},
   "outputs": [
    {
     "data": {
      "text/plain": [
       "(500, 501)"
      ]
     },
     "execution_count": 3,
     "metadata": {},
     "output_type": "execute_result"
    }
   ],
   "source": [
    "pressao.shape"
   ]
  },
  {
   "cell_type": "code",
   "execution_count": 4,
   "id": "988d016e-3424-499b-b16f-313d7c755f83",
   "metadata": {},
   "outputs": [
    {
     "data": {
      "text/plain": [
       "Index(['sbp', 'gender', 'married', 'smoke', 'exercise', 'age', 'weight',\n",
       "       'height', 'overwt', 'race', 'alcohol', 'trt', 'bmi', 'stress', 'salt',\n",
       "       'chldbear', 'income', 'educatn'],\n",
       "      dtype='object')"
      ]
     },
     "execution_count": 4,
     "metadata": {},
     "output_type": "execute_result"
    }
   ],
   "source": [
    "pressao = pressao.iloc[:, :18] # selecionando as primeiras 18 colunas\n",
    "pressao.columns"
   ]
  },
  {
   "cell_type": "code",
   "execution_count": 5,
   "id": "39b54539-b9e3-46a1-9120-4510028a82e6",
   "metadata": {},
   "outputs": [
    {
     "data": {
      "image/png": "[encoded data removed]",
      "text/plain": [
       "<Figure size 432x288 with 1 Axes>"
      ]
     },
     "metadata": {
      "needs_background": "light"
     },
     "output_type": "display_data"
    }
   ],
   "source": [
    "plt.title('Histogram of pressão[\"sbp\"]')\n",
    "plt.ylabel(\"Frequency\")\n",
    "plt.xlabel('pressao[\"sbp\"]')\n",
    "plt.hist(pressao[\"sbp\"], fill=False)\n",
    "plt.show()"
   ]
  },
  {
   "cell_type": "code",
   "execution_count": 6,
   "id": "845b00b1-034c-4848-9916-046e8d8c3e22",
   "metadata": {},
   "outputs": [
    {
     "data": {
      "image/png": "[encoded data removed]",
      "text/plain": [
       "<Figure size 576x432 with 4 Axes>"
      ]
     },
     "metadata": {
      "needs_background": "light"
     },
     "output_type": "display_data"
    }
   ],
   "source": [
    "sbp = pressao[\"sbp\"]\n",
    "fig, ((ax1, ax2), (ax3, ax4)) = plt.subplots(nrows=2, ncols=2, figsize=(8,6))\n",
    "\n",
    "# Primeiro plot (histograma)\n",
    "ax1.set_title(\"Histogram of sbp\")\n",
    "ax1.set_xlabel(\"sbp\")\n",
    "ax1.set_ylabel(\"Frequency\")\n",
    "ax1.hist(sbp, fill=False)\n",
    "\n",
    "# Segundo plot (histograma como distribuição de probabilidade)\n",
    "ax2.set_title(\"Histogram of sbp\")\n",
    "ax2.set_xlabel(\"sbp\")\n",
    "ax2.set_ylabel(\"Density\")\n",
    "ax2.hist(sbp, density=True, fill=False)\n",
    "\n",
    "# Terceiro plot (histograma como distribuiçãoa de probabilidade e bins)\n",
    "ax3.set_title(\"PS\")\n",
    "ax3.set_xlabel(\"sbp\")\n",
    "ax3.set_ylabel(\"Density\")\n",
    "ax3.hist(sbp, density=True, bins=[50, 130, 160, 200, max(sbp)], fill=False)\n",
    "\n",
    "# Quarto plot (histograma + rug)\n",
    "ax4.set_title(\"Pressao sistolica\")\n",
    "ax4.set_xlabel(\"pressao\")\n",
    "ax4.set_ylabel(\"Density\")\n",
    "ax4.hist(sbp, density=True, bins=13, fill=False)\n",
    "ax4.plot(sbp, np.zeros(sbp.shape), \"b+\", ms=8)  # rug plot\n",
    "\n",
    "fig.tight_layout()\n",
    "fig.show()"
   ]
  },
  {
   "cell_type": "markdown",
   "id": "1a8803ee-25da-4842-942e-6678985cfc4a",
   "metadata": {},
   "source": [
    "# Conjunto de exercícios \\#2\n",
    "- Usando pandas, ler os dados de população por município: arquivo ``POP2006.csv``;\n",
    "- Refazer os histogramas dos slides 17 e 18."
   ]
  },
  {
   "cell_type": "code",
   "execution_count": 7,
   "id": "79741777-fb66-492d-b949-4f6d4c24c0f1",
   "metadata": {},
   "outputs": [
    {
     "data": {
      "text/html": [
       "<div>\n",
       "<style scoped>\n",
       "    .dataframe tbody tr th:only-of-type {\n",
       "        vertical-align: middle;\n",
       "    }\n",
       "\n",
       "    .dataframe tbody tr th {\n",
       "        vertical-align: top;\n",
       "    }\n",
       "\n",
       "    .dataframe thead th {\n",
       "        text-align: right;\n",
       "    }\n",
       "</style>\n",
       "<table border=\"1\" class=\"dataframe\">\n",
       "  <thead>\n",
       "    <tr style=\"text-align: right;\">\n",
       "      <th></th>\n",
       "      <th>ESTADO</th>\n",
       "      <th>MUNICIPIO</th>\n",
       "      <th>POP2006</th>\n",
       "    </tr>\n",
       "  </thead>\n",
       "  <tbody>\n",
       "    <tr>\n",
       "      <th>0</th>\n",
       "      <td>RO</td>\n",
       "      <td>Alta Floresta D'Oeste</td>\n",
       "      <td>29005</td>\n",
       "    </tr>\n",
       "    <tr>\n",
       "      <th>1</th>\n",
       "      <td>RO</td>\n",
       "      <td>Alto Alegre dos Parecis</td>\n",
       "      <td>15454</td>\n",
       "    </tr>\n",
       "    <tr>\n",
       "      <th>2</th>\n",
       "      <td>RO</td>\n",
       "      <td>Alto Paraíso</td>\n",
       "      <td>16510</td>\n",
       "    </tr>\n",
       "    <tr>\n",
       "      <th>3</th>\n",
       "      <td>RO</td>\n",
       "      <td>Alvorada D'Oeste</td>\n",
       "      <td>19542</td>\n",
       "    </tr>\n",
       "    <tr>\n",
       "      <th>4</th>\n",
       "      <td>RO</td>\n",
       "      <td>Ariquemes</td>\n",
       "      <td>86924</td>\n",
       "    </tr>\n",
       "  </tbody>\n",
       "</table>\n",
       "</div>"
      ],
      "text/plain": [
       "  ESTADO                MUNICIPIO  POP2006\n",
       "0     RO    Alta Floresta D'Oeste    29005\n",
       "1     RO  Alto Alegre dos Parecis    15454\n",
       "2     RO             Alto Paraíso    16510\n",
       "3     RO         Alvorada D'Oeste    19542\n",
       "4     RO                Ariquemes    86924"
      ]
     },
     "execution_count": 7,
     "metadata": {},
     "output_type": "execute_result"
    }
   ],
   "source": [
    "pop = pd.read_csv(\"POP2006.csv\", encoding=\"latin1\")\n",
    "pop.head()"
   ]
  },
  {
   "cell_type": "code",
   "execution_count": 8,
   "id": "e7273329-a0bb-4fb2-9901-03937ea2868c",
   "metadata": {},
   "outputs": [
    {
     "data": {
      "image/png": "[encoded data removed]",
      "text/plain": [
       "<Figure size 864x432 with 4 Axes>"
      ]
     },
     "metadata": {
      "needs_background": "light"
     },
     "output_type": "display_data"
    }
   ],
   "source": [
    "fig, ((ax1, ax2), (ax3, ax4)) = plt.subplots(nrows=2, ncols=2, figsize=(12,6))\n",
    "\n",
    "# Primeiro plot (histograma)\n",
    "ax1.set_title(\"populacao municipal em 2006\")\n",
    "ax1.ticklabel_format(axis=\"x\", style=\"sci\", scilimits=(0,0))\n",
    "ax1.hist(pop[\"POP2006\"], fill=False)\n",
    "\n",
    "# Segundo plot (histograma com população menor que 1 milhão)\n",
    "mask = pop[\"POP2006\"] < 1000000\n",
    "ax2.set_title(\"pop < 1 milhao\")\n",
    "ax2.ticklabel_format(axis=\"x\", style=\"sci\", scilimits=(0,0))\n",
    "ax2.hist(pop[mask][\"POP2006\"], fill=False)\n",
    "\n",
    "# Terceiro plot (histograma com população menor que 500 mil)\n",
    "mask = pop[\"POP2006\"] < 500000\n",
    "ax3.set_title(\"pop < 500 mil\")\n",
    "ax3.ticklabel_format(axis=\"x\", style=\"sci\", scilimits=(0,0))\n",
    "ax3.hist(pop[mask][\"POP2006\"], fill=False)\n",
    "\n",
    "# Quarto plot (histograma com população menor que 100 mil)\n",
    "mask = pop[\"POP2006\"] < 100000\n",
    "ax4.set_title(\"pop < 100 mil\")\n",
    "ax4.ticklabel_format(axis=\"x\", style=\"sci\", scilimits=(0,0))\n",
    "ax4.hist(pop[mask][\"POP2006\"], fill=False)\n",
    "\n",
    "fig.tight_layout()\n",
    "fig.show()"
   ]
  },
  {
   "cell_type": "code",
   "execution_count": 9,
   "id": "2dcc5118-c7c9-4c5a-b87a-0ffcb2bf69e3",
   "metadata": {},
   "outputs": [
    {
     "data": {
      "image/png": "[encoded data removed]",
      "text/plain": [
       "<Figure size 864x432 with 2 Axes>"
      ]
     },
     "metadata": {
      "needs_background": "light"
     },
     "output_type": "display_data"
    }
   ],
   "source": [
    "fig, (ax1, ax2) = plt.subplots(nrows=1, ncols=2, figsize=(12,6))\n",
    "\n",
    "# Primeiro plot (histograma com log10 da população)\n",
    "ax1.set_title(\"populacao, escala log_10\")\n",
    "ax1.hist(np.log10(pop[\"POP2006\"]), fill=False)\n",
    "\n",
    "# Segundo plot (histograma com log10 da população na escala original)\n",
    "ax2.set_title(\"rotulos na escala original\")\n",
    "ax2.set_xticks(range(3,8))\n",
    "ax2.set_xticklabels(\"10^{}\".format(d) for d in range(3,8))\n",
    "ax2.hist(np.log10(pop[\"POP2006\"]), fill=False)\n",
    "\n",
    "fig.tight_layout()\n",
    "fig.show()"
   ]
  },
  {
   "cell_type": "markdown",
   "id": "5f66daa8-01e1-4b83-9268-a3b4701e3e29",
   "metadata": {},
   "source": [
    "# Conjunto de exercícios \\#3\n",
    "\n",
    "- Usando pandas, ler os dados de futebol do arquivo ``CampeonatoBrasileiro2014.txt``;\n",
    "- Refazer os ``stem-and-leaf`` (ramo-e-folhas) dos slides 21 e 22\n",
    "    - Link para fazer gráficos ``stem-and-leaf`` em Python [aqui](https://www.geeksforgeeks.org/stem-and-leaf-plots-in-python/)."
   ]
  },
  {
   "cell_type": "code",
   "execution_count": 10,
   "id": "fe570bf1-c8c9-4655-975d-d96ac2a51cc1",
   "metadata": {},
   "outputs": [],
   "source": [
    "# Instalando o pacote stemgraphic para fazermos as visualizações desse conjunto\n",
    "try:\n",
    "    import stemgraphic\n",
    "except Exception as e:\n",
    "    print(e)\n",
    "    print(\"Installing stemgraphic module with pip!\")\n",
    "    \n",
    "    import sys\n",
    "    !{sys.executable} -m pip install stemgraphic"
   ]
  },
  {
   "cell_type": "code",
   "execution_count": 11,
   "id": "01ce105c-95c7-4194-b4da-1aa195068583",
   "metadata": {},
   "outputs": [
    {
     "data": {
      "text/html": [
       "<div>\n",
       "<style scoped>\n",
       "    .dataframe tbody tr th:only-of-type {\n",
       "        vertical-align: middle;\n",
       "    }\n",
       "\n",
       "    .dataframe tbody tr th {\n",
       "        vertical-align: top;\n",
       "    }\n",
       "\n",
       "    .dataframe thead th {\n",
       "        text-align: right;\n",
       "    }\n",
       "</style>\n",
       "<table border=\"1\" class=\"dataframe\">\n",
       "  <thead>\n",
       "    <tr style=\"text-align: right;\">\n",
       "      <th></th>\n",
       "      <th>Time</th>\n",
       "      <th>Pts</th>\n",
       "      <th>Jogos</th>\n",
       "      <th>Vit</th>\n",
       "      <th>Emp</th>\n",
       "      <th>Der</th>\n",
       "      <th>Gols</th>\n",
       "      <th>GolsSofr</th>\n",
       "      <th>SaldoGols</th>\n",
       "      <th>Aprov</th>\n",
       "    </tr>\n",
       "  </thead>\n",
       "  <tbody>\n",
       "    <tr>\n",
       "      <th>0</th>\n",
       "      <td>Cruzeiro</td>\n",
       "      <td>80</td>\n",
       "      <td>38</td>\n",
       "      <td>24</td>\n",
       "      <td>8</td>\n",
       "      <td>6</td>\n",
       "      <td>67</td>\n",
       "      <td>38</td>\n",
       "      <td>29</td>\n",
       "      <td>70</td>\n",
       "    </tr>\n",
       "    <tr>\n",
       "      <th>1</th>\n",
       "      <td>Sao Paulo</td>\n",
       "      <td>70</td>\n",
       "      <td>38</td>\n",
       "      <td>20</td>\n",
       "      <td>10</td>\n",
       "      <td>8</td>\n",
       "      <td>59</td>\n",
       "      <td>40</td>\n",
       "      <td>19</td>\n",
       "      <td>61</td>\n",
       "    </tr>\n",
       "    <tr>\n",
       "      <th>2</th>\n",
       "      <td>Internacional</td>\n",
       "      <td>69</td>\n",
       "      <td>38</td>\n",
       "      <td>21</td>\n",
       "      <td>6</td>\n",
       "      <td>11</td>\n",
       "      <td>53</td>\n",
       "      <td>41</td>\n",
       "      <td>12</td>\n",
       "      <td>60</td>\n",
       "    </tr>\n",
       "    <tr>\n",
       "      <th>3</th>\n",
       "      <td>Corinthians</td>\n",
       "      <td>69</td>\n",
       "      <td>38</td>\n",
       "      <td>19</td>\n",
       "      <td>12</td>\n",
       "      <td>7</td>\n",
       "      <td>49</td>\n",
       "      <td>31</td>\n",
       "      <td>18</td>\n",
       "      <td>60</td>\n",
       "    </tr>\n",
       "    <tr>\n",
       "      <th>4</th>\n",
       "      <td>Atletico Mineiro</td>\n",
       "      <td>62</td>\n",
       "      <td>38</td>\n",
       "      <td>17</td>\n",
       "      <td>11</td>\n",
       "      <td>10</td>\n",
       "      <td>51</td>\n",
       "      <td>38</td>\n",
       "      <td>13</td>\n",
       "      <td>54</td>\n",
       "    </tr>\n",
       "  </tbody>\n",
       "</table>\n",
       "</div>"
      ],
      "text/plain": [
       "               Time  Pts  Jogos  Vit  Emp  Der  Gols  GolsSofr  SaldoGols  \\\n",
       "0          Cruzeiro   80     38   24    8    6    67        38         29   \n",
       "1         Sao Paulo   70     38   20   10    8    59        40         19   \n",
       "2     Internacional   69     38   21    6   11    53        41         12   \n",
       "3       Corinthians   69     38   19   12    7    49        31         18   \n",
       "4  Atletico Mineiro   62     38   17   11   10    51        38         13   \n",
       "\n",
       "   Aprov  \n",
       "0     70  \n",
       "1     61  \n",
       "2     60  \n",
       "3     60  \n",
       "4     54  "
      ]
     },
     "execution_count": 11,
     "metadata": {},
     "output_type": "execute_result"
    }
   ],
   "source": [
    "campeonato = pd.read_csv(\"CampeonatoBrasileiro2014.txt\")\n",
    "\n",
    "# Removing \\t (tabulation) from each column name\n",
    "campeonato = campeonato.rename(columns={col: col.replace(\"\\t\", \"\") for col in campeonato.columns})\n",
    "\n",
    "campeonato.head()"
   ]
  },
  {
   "cell_type": "code",
   "execution_count": 12,
   "id": "b457113d-b837-4284-a3fe-129cf5318a00",
   "metadata": {},
   "outputs": [],
   "source": [
    "# Definindo configurações padrões para as visualizações stem-and-leafs\n",
    "stem_kwargs = {\n",
    "    \"asc\": True,        # ordenar os dados de forma ascendente\n",
    "    \"break_on\": 20,     # limite de folhas por linha\n",
    "    \"compact\": True,    # não exibir ramos vazios entre outros ramos\n",
    "    \"outliers\": False,  # exibir valores extremos (mínimo e maximo)\n",
    "    \"legend_pos\": None  # posição da \"legenda\" (None -> remoção da legenda)\n",
    "}"
   ]
  },
  {
   "cell_type": "code",
   "execution_count": 13,
   "id": "8cd687c1-3353-42f4-b751-0c8440836182",
   "metadata": {},
   "outputs": [
    {
     "name": "stdout",
     "output_type": "stream",
     "text": [
      "Gols: 67 59 53 49 51 61 36 43 42 46 36 38 37 42 39 34 37 31 31 28 \n",
      "\n",
      "  2 | 8\n",
      "  3 | 114667789\n",
      "  4 | 22369\n",
      "  5 | 139\n",
      "  6 | 17\n"
     ]
    }
   ],
   "source": [
    "print(\"Gols:\", *campeonato[\"Gols\"], \"\\n\")\n",
    "\n",
    "stemgraphic.stem_text(campeonato[\"Gols\"], **stem_kwargs)\n",
    "plt.show()"
   ]
  },
  {
   "cell_type": "code",
   "execution_count": 14,
   "id": "569045a6-1fd4-44a4-bc09-229de1671102",
   "metadata": {},
   "outputs": [
    {
     "name": "stdout",
     "output_type": "stream",
     "text": [
      "Saldo de gols: 29 19 12 18 13 19 12 1 7 -1 -10 -2 -10 -3 -5 -25 -17 -12 -17 -28 \n",
      "\n",
      " -2 | 85\n",
      " -1 | 77200\n",
      " -0 | 5321\n",
      "  0 | 17\n",
      "  1 | 223899\n",
      "  2 | 9\n"
     ]
    }
   ],
   "source": [
    "print(\"Saldo de gols:\", *campeonato[\"SaldoGols\"], \"\\n\")\n",
    "\n",
    "stemgraphic.stem_text(campeonato[\"SaldoGols\"], **stem_kwargs)\n",
    "plt.show()"
   ]
  },
  {
   "cell_type": "code",
   "execution_count": 15,
   "id": "849d44b3-39c8-4f77-bf94-2ed05a365f67",
   "metadata": {},
   "outputs": [
    {
     "name": "stdout",
     "output_type": "stream",
     "text": [
      "Gols: 67 59 53 49 51 61 36 43 42 46 36 38 37 42 39 34 37 31 31 28 \n",
      "\n",
      "  2 | 8\n",
      "  3 | 114\n",
      "    | 667789\n",
      "  4 | 223\n",
      "    | 69\n",
      "  5 | 139\n",
      "  6 | 1\n",
      "    | 7\n"
     ]
    }
   ],
   "source": [
    "print(\"Gols:\", *campeonato[\"Gols\"], \"\\n\")\n",
    "\n",
    "stem_kwargs[\"break_on\"] = 5 # quebrar cada categoria-dígito em grupos de 5\n",
    "stemgraphic.stem_text(campeonato[\"Gols\"], **stem_kwargs)\n",
    "plt.show()"
   ]
  },
  {
   "cell_type": "markdown",
   "id": "01914bef-c913-45a3-aa08-ac516767cb8d",
   "metadata": {},
   "source": [
    "# Conjunto de exercícios \\#4\n",
    "\n",
    "- Com os dados do arquivo de pressão sistólica, refazer o box-plot simples do slide 23;\n",
    "- Refazer slides 28, 29, 30, 33."
   ]
  },
  {
   "cell_type": "code",
   "execution_count": 16,
   "id": "20c30509-1040-4f05-866b-8b133dca8156",
   "metadata": {},
   "outputs": [
    {
     "data": {
      "text/html": [
       "<div>\n",
       "<style scoped>\n",
       "    .dataframe tbody tr th:only-of-type {\n",
       "        vertical-align: middle;\n",
       "    }\n",
       "\n",
       "    .dataframe tbody tr th {\n",
       "        vertical-align: top;\n",
       "    }\n",
       "\n",
       "    .dataframe thead th {\n",
       "        text-align: right;\n",
       "    }\n",
       "</style>\n",
       "<table border=\"1\" class=\"dataframe\">\n",
       "  <thead>\n",
       "    <tr style=\"text-align: right;\">\n",
       "      <th></th>\n",
       "      <th>sbp</th>\n",
       "      <th>gender</th>\n",
       "      <th>married</th>\n",
       "      <th>smoke</th>\n",
       "      <th>exercise</th>\n",
       "      <th>age</th>\n",
       "      <th>weight</th>\n",
       "      <th>height</th>\n",
       "      <th>overwt</th>\n",
       "      <th>race</th>\n",
       "      <th>alcohol</th>\n",
       "      <th>trt</th>\n",
       "      <th>bmi</th>\n",
       "      <th>stress</th>\n",
       "      <th>salt</th>\n",
       "      <th>chldbear</th>\n",
       "      <th>income</th>\n",
       "      <th>educatn</th>\n",
       "    </tr>\n",
       "  </thead>\n",
       "  <tbody>\n",
       "    <tr>\n",
       "      <th>0</th>\n",
       "      <td>133</td>\n",
       "      <td>F</td>\n",
       "      <td>N</td>\n",
       "      <td>N</td>\n",
       "      <td>3</td>\n",
       "      <td>60</td>\n",
       "      <td>159</td>\n",
       "      <td>56</td>\n",
       "      <td>3</td>\n",
       "      <td>1</td>\n",
       "      <td>2</td>\n",
       "      <td>0</td>\n",
       "      <td>35</td>\n",
       "      <td>2</td>\n",
       "      <td>2</td>\n",
       "      <td>2</td>\n",
       "      <td>2</td>\n",
       "      <td>2</td>\n",
       "    </tr>\n",
       "    <tr>\n",
       "      <th>1</th>\n",
       "      <td>115</td>\n",
       "      <td>M</td>\n",
       "      <td>N</td>\n",
       "      <td>Y</td>\n",
       "      <td>1</td>\n",
       "      <td>55</td>\n",
       "      <td>107</td>\n",
       "      <td>65</td>\n",
       "      <td>1</td>\n",
       "      <td>1</td>\n",
       "      <td>2</td>\n",
       "      <td>0</td>\n",
       "      <td>17</td>\n",
       "      <td>2</td>\n",
       "      <td>2</td>\n",
       "      <td>1</td>\n",
       "      <td>3</td>\n",
       "      <td>2</td>\n",
       "    </tr>\n",
       "    <tr>\n",
       "      <th>2</th>\n",
       "      <td>140</td>\n",
       "      <td>M</td>\n",
       "      <td>N</td>\n",
       "      <td>Y</td>\n",
       "      <td>1</td>\n",
       "      <td>18</td>\n",
       "      <td>130</td>\n",
       "      <td>59</td>\n",
       "      <td>2</td>\n",
       "      <td>1</td>\n",
       "      <td>1</td>\n",
       "      <td>0</td>\n",
       "      <td>26</td>\n",
       "      <td>3</td>\n",
       "      <td>2</td>\n",
       "      <td>1</td>\n",
       "      <td>1</td>\n",
       "      <td>3</td>\n",
       "    </tr>\n",
       "    <tr>\n",
       "      <th>3</th>\n",
       "      <td>132</td>\n",
       "      <td>M</td>\n",
       "      <td>Y</td>\n",
       "      <td>N</td>\n",
       "      <td>2</td>\n",
       "      <td>19</td>\n",
       "      <td>230</td>\n",
       "      <td>57</td>\n",
       "      <td>3</td>\n",
       "      <td>2</td>\n",
       "      <td>3</td>\n",
       "      <td>1</td>\n",
       "      <td>49</td>\n",
       "      <td>3</td>\n",
       "      <td>3</td>\n",
       "      <td>1</td>\n",
       "      <td>1</td>\n",
       "      <td>2</td>\n",
       "    </tr>\n",
       "    <tr>\n",
       "      <th>4</th>\n",
       "      <td>133</td>\n",
       "      <td>M</td>\n",
       "      <td>N</td>\n",
       "      <td>N</td>\n",
       "      <td>2</td>\n",
       "      <td>58</td>\n",
       "      <td>201</td>\n",
       "      <td>74</td>\n",
       "      <td>2</td>\n",
       "      <td>1</td>\n",
       "      <td>3</td>\n",
       "      <td>0</td>\n",
       "      <td>25</td>\n",
       "      <td>2</td>\n",
       "      <td>2</td>\n",
       "      <td>1</td>\n",
       "      <td>2</td>\n",
       "      <td>3</td>\n",
       "    </tr>\n",
       "  </tbody>\n",
       "</table>\n",
       "</div>"
      ],
      "text/plain": [
       "   sbp gender married smoke  exercise  age  weight  height  overwt  race  \\\n",
       "0  133      F       N     N         3   60     159      56       3     1   \n",
       "1  115      M       N     Y         1   55     107      65       1     1   \n",
       "2  140      M       N     Y         1   18     130      59       2     1   \n",
       "3  132      M       Y     N         2   19     230      57       3     2   \n",
       "4  133      M       N     N         2   58     201      74       2     1   \n",
       "\n",
       "   alcohol  trt  bmi  stress  salt  chldbear  income  educatn  \n",
       "0        2    0   35       2     2         2       2        2  \n",
       "1        2    0   17       2     2         1       3        2  \n",
       "2        1    0   26       3     2         1       1        3  \n",
       "3        3    1   49       3     3         1       1        2  \n",
       "4        3    0   25       2     2         1       2        3  "
      ]
     },
     "execution_count": 16,
     "metadata": {},
     "output_type": "execute_result"
    }
   ],
   "source": [
    "pressao.head()"
   ]
  },
  {
   "cell_type": "code",
   "execution_count": 17,
   "id": "ec8dd8e1-4908-429c-baf5-7386f1b2b72a",
   "metadata": {},
   "outputs": [
    {
     "data": {
      "image/png": "[encoded data removed]",
      "text/plain": [
       "<Figure size 432x288 with 1 Axes>"
      ]
     },
     "metadata": {
      "needs_background": "light"
     },
     "output_type": "display_data"
    }
   ],
   "source": [
    "plt.title(\"Boxplot de pressao\")\n",
    "plt.ylabel(\"pressao\")\n",
    "plt.boxplot(pressao[\"sbp\"])\n",
    "plt.show()"
   ]
  },
  {
   "cell_type": "code",
   "execution_count": 18,
   "id": "43634787-91ee-4256-9334-059ea40c2e2f",
   "metadata": {},
   "outputs": [
    {
     "data": {
      "image/png": "[encoded data removed]",
      "text/plain": [
       "<Figure size 432x288 with 1 Axes>"
      ]
     },
     "metadata": {
      "needs_background": "light"
     },
     "output_type": "display_data"
    }
   ],
   "source": [
    "# Agrupando os dados pela coluna de peso (overwt -> categorias de peso)\n",
    "pressao_por_peso = pressao.groupby(\"overwt\")[\"sbp\"]\n",
    "grupos = [pressao_por_peso.get_group(i) for i in [1,2,3]]\n",
    "\n",
    "plt.title(\"Pressao por Sobrepeso\")\n",
    "plt.ylabel(\"pressao\")\n",
    "plt.xlabel(\"1=Normal, 2=Overweight, 3=Obese\")\n",
    "plt.boxplot(grupos)\n",
    "plt.show()"
   ]
  },
  {
   "cell_type": "code",
   "execution_count": 19,
   "id": "f139287c-7e1f-451d-b4ee-051c9fb2195a",
   "metadata": {},
   "outputs": [
    {
     "data": {
      "image/png": "[encoded data removed]",
      "text/plain": [
       "<Figure size 432x288 with 1 Axes>"
      ]
     },
     "metadata": {
      "needs_background": "light"
     },
     "output_type": "display_data"
    }
   ],
   "source": [
    "# Agrupando os dados pela coluna de renda (income -> categorias de renda)\n",
    "pressao_por_renda = pressao.groupby(\"income\")[\"sbp\"]\n",
    "grupos = [pressao_por_renda.get_group(i) for i in [1,2,3]]\n",
    "\n",
    "plt.title(\"Pressao por Renda\")\n",
    "plt.ylabel(\"pressao\")\n",
    "plt.xlabel(\"1=Low, 2=Middle, 3=High\")\n",
    "plt.boxplot(grupos)\n",
    "plt.show()"
   ]
  },
  {
   "cell_type": "code",
   "execution_count": 20,
   "id": "f1be915f-201b-4413-baba-c2b696b3d82e",
   "metadata": {},
   "outputs": [
    {
     "data": {
      "image/png": "[encoded data removed]",
      "text/plain": [
       "<Figure size 432x288 with 1 Axes>"
      ]
     },
     "metadata": {
      "needs_background": "light"
     },
     "output_type": "display_data"
    }
   ],
   "source": [
    "# Agrupando os dados pela coluna de sobrepeso e sexo\n",
    "pressao_por_peso_sexo = pressao.groupby([\"overwt\", \"gender\"])[\"sbp\"]\n",
    "grupos = [pressao_por_peso_sexo.get_group((i,j)) for j in [\"F\",\"M\"] for i in [1,2,3]]\n",
    "\n",
    "plt.title(\"Pressao por sobrepeso e sexo\")\n",
    "plt.ylabel(\"pressao\")\n",
    "plt.xlabel(\"sobrepeso e sexo\")\n",
    "plt.boxplot(grupos, labels=[f\"{i}.{j}\" for j in [\"F\",\"M\"] for i in [1,2,3]])\n",
    "plt.show()"
   ]
  },
  {
   "cell_type": "markdown",
   "id": "613dcea7-3029-4510-ba40-4f9add276853",
   "metadata": {},
   "source": [
    "# Conjunto de exercícios \\#5\n",
    "\n",
    "- Usando os dados do arquivo ``mtcars.csv``, fazer uma matriz de scatterplots como no slide 38.\n",
    "    - Ver a descrição das variáveis (que eu já não me lembrava em sala de aula) [aqui](https://rpubs.com/neros/61800)."
   ]
  },
  {
   "cell_type": "code",
   "execution_count": 21,
   "id": "36e847c7-66f5-4d4c-8f22-85922ccec839",
   "metadata": {},
   "outputs": [
    {
     "data": {
      "text/html": [
       "<div>\n",
       "<style scoped>\n",
       "    .dataframe tbody tr th:only-of-type {\n",
       "        vertical-align: middle;\n",
       "    }\n",
       "\n",
       "    .dataframe tbody tr th {\n",
       "        vertical-align: top;\n",
       "    }\n",
       "\n",
       "    .dataframe thead th {\n",
       "        text-align: right;\n",
       "    }\n",
       "</style>\n",
       "<table border=\"1\" class=\"dataframe\">\n",
       "  <thead>\n",
       "    <tr style=\"text-align: right;\">\n",
       "      <th></th>\n",
       "      <th>mpg</th>\n",
       "      <th>disp</th>\n",
       "      <th>drat</th>\n",
       "      <th>wt</th>\n",
       "    </tr>\n",
       "  </thead>\n",
       "  <tbody>\n",
       "    <tr>\n",
       "      <th>0</th>\n",
       "      <td>21.0</td>\n",
       "      <td>160.0</td>\n",
       "      <td>3.90</td>\n",
       "      <td>2.620</td>\n",
       "    </tr>\n",
       "    <tr>\n",
       "      <th>1</th>\n",
       "      <td>21.0</td>\n",
       "      <td>160.0</td>\n",
       "      <td>3.90</td>\n",
       "      <td>2.875</td>\n",
       "    </tr>\n",
       "    <tr>\n",
       "      <th>2</th>\n",
       "      <td>22.8</td>\n",
       "      <td>108.0</td>\n",
       "      <td>3.85</td>\n",
       "      <td>2.320</td>\n",
       "    </tr>\n",
       "    <tr>\n",
       "      <th>3</th>\n",
       "      <td>21.4</td>\n",
       "      <td>258.0</td>\n",
       "      <td>3.08</td>\n",
       "      <td>3.215</td>\n",
       "    </tr>\n",
       "    <tr>\n",
       "      <th>4</th>\n",
       "      <td>18.7</td>\n",
       "      <td>360.0</td>\n",
       "      <td>3.15</td>\n",
       "      <td>3.440</td>\n",
       "    </tr>\n",
       "  </tbody>\n",
       "</table>\n",
       "</div>"
      ],
      "text/plain": [
       "    mpg   disp  drat     wt\n",
       "0  21.0  160.0  3.90  2.620\n",
       "1  21.0  160.0  3.90  2.875\n",
       "2  22.8  108.0  3.85  2.320\n",
       "3  21.4  258.0  3.08  3.215\n",
       "4  18.7  360.0  3.15  3.440"
      ]
     },
     "execution_count": 21,
     "metadata": {},
     "output_type": "execute_result"
    }
   ],
   "source": [
    "mtcars = pd.read_csv(\"mtcars.csv\")\n",
    "mtcars = mtcars[[\"mpg\", \"disp\", \"drat\", \"wt\"]] # filtrando apenas colunas necessárias\n",
    "mtcars.head()"
   ]
  },
  {
   "cell_type": "code",
   "execution_count": 22,
   "id": "619da14f-ae46-479d-a02b-98ce9b9d71b4",
   "metadata": {},
   "outputs": [],
   "source": [
    "# Instalando o pacote seaborn para fazermos a visualização desse conjunto\n",
    "try:\n",
    "    import seaborn as sns\n",
    "except Exception as e:\n",
    "    print(e)\n",
    "    print(\"Installing seaborn module with pip!\")\n",
    "    \n",
    "    import sys\n",
    "    !{sys.executable} -m pip install seaborn"
   ]
  },
  {
   "cell_type": "code",
   "execution_count": 23,
   "id": "9fa66bf4-a5ec-4e3d-9388-92cca85c4cdc",
   "metadata": {},
   "outputs": [
    {
     "data": {
      "text/plain": [
       "<seaborn.axisgrid.PairGrid at 0x7f09f1329f10>"
      ]
     },
     "execution_count": 23,
     "metadata": {},
     "output_type": "execute_result"
    },
    {
     "data": {
      "image/png": "[encoded data removed]",
      "text/plain": [
       "<Figure size 720x720 with 16 Axes>"
      ]
     },
     "metadata": {
      "needs_background": "light"
     },
     "output_type": "display_data"
    }
   ],
   "source": [
    "sns.pairplot(mtcars, diag_kind=None)"
   ]
  }
 ],
 "metadata": {
  "kernelspec": {
   "display_name": "Python 3",
   "language": "python",
   "name": "python3"
  },
  "language_info": {
   "codemirror_mode": {
    "name": "ipython",
    "version": 3
   },
   "file_extension": ".py",
   "mimetype": "text/x-python",
   "name": "python",
   "nbconvert_exporter": "python",
   "pygments_lexer": "ipython3",
   "version": "3.8.8"
  }
 },
 "nbformat": 4,
 "nbformat_minor": 5
}
