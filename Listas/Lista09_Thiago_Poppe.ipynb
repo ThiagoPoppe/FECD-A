{
 "cells": [
  {
   "cell_type": "markdown",
   "id": "f687b1e6",
   "metadata": {},
   "source": [
    "# Lista 09 - Fundamentos Estatísticos para Ciência dos Dados A\n",
    "- Aluno: Thiago Martin Poppe\n",
    "- Matrícula: 2017014324"
   ]
  },
  {
   "cell_type": "code",
   "execution_count": 19,
   "id": "f3b412d0",
   "metadata": {},
   "outputs": [],
   "source": [
    "import numpy as np\n",
    "import matplotlib.pyplot as plt\n",
    "from sklearn.decomposition import PCA"
   ]
  },
  {
   "cell_type": "markdown",
   "id": "707af1ec",
   "metadata": {},
   "source": [
    "# Exercícios da seção 8.1"
   ]
  },
  {
   "cell_type": "markdown",
   "id": "b93cfe0c",
   "metadata": {},
   "source": [
    "## Questão 01)\n",
    "O objetivo do exercício é inteiramente análogo ao de reconhecimento de faces. Queremos um método de classificação de novas imagens de dígitos manuscritos. Assim, você deverá:"
   ]
  },
  {
   "cell_type": "markdown",
   "id": "9e8633be",
   "metadata": {},
   "source": [
    "- Usando um conjunto de treinamento, criar uma regra de classificação de novas imagens de dígitos. Use os primeiros $k$ autovetores da matriz de covariância entre os pixels para fazer esta regra de classificação. Você deve fazer seus cálculos com $k = 5, 10, 15, 20$."
   ]
  },
  {
   "cell_type": "code",
   "execution_count": 2,
   "id": "2f5db6a7",
   "metadata": {},
   "outputs": [],
   "source": [
    "# Leitura dos dados de treinamento\n",
    "# As imagens possuem tamanho 16x16 pixels (256 pixels)\n",
    "# O primeiro valor de cada linha do arquivo representa a classe daquela imagem\n",
    "with open('zip_code_dataset/zip.train') as ftrain:\n",
    "    train_data = np.loadtxt(ftrain)\n",
    "    train_labels = train_data[:, 0].astype(int)\n",
    "    train_images = train_data[:, 1:]"
   ]
  },
  {
   "cell_type": "code",
   "execution_count": 3,
   "id": "10842d61",
   "metadata": {},
   "outputs": [
    {
     "data": {
      "image/png": "[encoded data removed]",
      "text/plain": [
       "<Figure size 432x288 with 3 Axes>"
      ]
     },
     "metadata": {
      "needs_background": "light"
     },
     "output_type": "display_data"
    }
   ],
   "source": [
    "# Visualizando as 3 primeiras imagens do conjunto de treino\n",
    "n_images = 3\n",
    "fig, axs = plt.subplots(ncols=n_images)\n",
    "\n",
    "for i in range(n_images):\n",
    "    axs[i].imshow(train_images[i].reshape((16,16)), cmap='gray')\n",
    "    axs[i].set_title('Dígito {}'.format(train_labels[i]))\n",
    "    axs[i].axis('off')\n",
    "\n",
    "fig.tight_layout()"
   ]
  },
  {
   "cell_type": "code",
   "execution_count": 4,
   "id": "b102e520",
   "metadata": {},
   "outputs": [
    {
     "data": {
      "image/png": "[encoded data removed]",
      "text/plain": [
       "<Figure size 432x288 with 1 Axes>"
      ]
     },
     "metadata": {
      "needs_background": "light"
     },
     "output_type": "display_data"
    }
   ],
   "source": [
    "# Iremos obter agora a imagem média e visualizá-la\n",
    "mean_image = np.mean(train_images, axis=0)\n",
    "\n",
    "plt.title('Imagem média')\n",
    "plt.imshow(mean_image.reshape((16,16)), cmap='gray')\n",
    "plt.axis('off')\n",
    "plt.show()"
   ]
  },
  {
   "cell_type": "code",
   "execution_count": 7,
   "id": "ae7b78b9",
   "metadata": {},
   "outputs": [
    {
     "name": "stdout",
     "output_type": "stream",
     "text": [
      "Formato da matriz de covariâncias: (256, 256)\n"
     ]
    }
   ],
   "source": [
    "# O próximo passo é obtermos os autovalores da matriz de covariâncias\n",
    "train_centralized_images = train_images - mean_image\n",
    "covariance_matrix = np.cov(train_centralized_images.T)\n",
    "\n",
    "print('Formato da matriz de covariâncias:', covariance_matrix.shape)"
   ]
  },
  {
   "cell_type": "code",
   "execution_count": 63,
   "id": "9c029c87",
   "metadata": {},
   "outputs": [
    {
     "data": {
      "image/png": "[encoded data removed]",
      "text/plain": [
       "<Figure size 432x288 with 1 Axes>"
      ]
     },
     "metadata": {
      "needs_background": "light"
     },
     "output_type": "display_data"
    }
   ],
   "source": [
    "# Através dessa matriz iremos computar os componentes principais\n",
    "# Iremos primeiramente computar todos os componentes principais para analisarmos\n",
    "# a variância explicada como feito em sala de aula\n",
    "pca = PCA(n_components=256)\n",
    "pca.fit(covariance_matrix)\n",
    "\n",
    "# Podemos perceber pelo plot que de fato nós conseguimos explicar\n",
    "# boa parte da variânca dos dados com poucos componentes!!\n",
    "plt.title('Variância explicada acumulada')\n",
    "plt.xlabel('Número de componentes')\n",
    "plt.plot(np.cumsum(pca.explained_variance_) / sum(pca.explained_variance_))\n",
    "plt.show()"
   ]
  },
  {
   "cell_type": "code",
   "execution_count": 148,
   "id": "165dbe53",
   "metadata": {},
   "outputs": [],
   "source": [
    "# Podemos agora usar K componentes principais para realizar a classificação de um dígito!\n",
    "\n",
    "# Lendo os dados de teste\n",
    "with open('zip_code_dataset/zip.test') as ftest:\n",
    "    test_data = np.loadtxt(ftest)\n",
    "    test_labels = test_data[:, 0].astype(int)\n",
    "    test_images = test_data[:, 1:]\n",
    "\n",
    "# Iremos criar um dicionário para guardas as predições para cada valor de K\n",
    "predictions = {}\n",
    "for k in [5, 10, 15, 20]:\n",
    "    # Criando PCA com K componentes e aprendendo com a matriz de covariâncias\n",
    "    pca = PCA(n_components=k)\n",
    "    pca.fit(covariance_matrix)\n",
    "    \n",
    "    # Obtendo os coeficientes de cada conjunto (treino e teste)\n",
    "    # Para isso, iremos usar a função transform, realizando os cálculos vistos em sala\n",
    "    train_coef = pca.transform(train_images)\n",
    "    test_coef = pca.transform(test_images)\n",
    "    \n",
    "    # Obtendo a média dos coeficientes para cada classe no treino\n",
    "    mean_coefs = np.array([\n",
    "        np.mean(train_coef[train_labels == digit], axis=0) for digit in range(10)\n",
    "    ])\n",
    "    \n",
    "    # Obtendo as predições para cada dado no conjunto de teste\n",
    "    # Iremos escolher a classe que possuir o coeficiente médio mais próximo!\n",
    "    preds = []\n",
    "    predictions[k] = np.array([\n",
    "        np.argmin(np.mean((mean_coefs - coef)**2, axis=1)) for coef in test_coef\n",
    "    ])"
   ]
  },
  {
   "cell_type": "code",
   "execution_count": 153,
   "id": "6d98c0c4",
   "metadata": {},
   "outputs": [
    {
     "name": "stdout",
     "output_type": "stream",
     "text": [
      "Predição para k=5: 1\n",
      "Predição para k=10: 1\n",
      "Predição para k=15: 1\n",
      "Predição para k=20: 1\n"
     ]
    },
    {
     "data": {
      "image/png": "[encoded data removed]",
      "text/plain": [
       "<Figure size 432x288 with 1 Axes>"
      ]
     },
     "metadata": {
      "needs_background": "light"
     },
     "output_type": "display_data"
    }
   ],
   "source": [
    "# Podemos observar as predições para a primeira imagem dos dados de teste\n",
    "# Veremos que com 5 componentes nós teremos um erro!\n",
    "for k in [5, 10, 15, 20]:\n",
    "    print('Predição para k={}: {}'.format(k, predictions[k][42]))\n",
    "    \n",
    "plt.title('Imagem real ({})'.format(test_labels[0]))\n",
    "plt.imshow(test_images[0].reshape((16,16)), cmap='gray')\n",
    "plt.show()"
   ]
  },
  {
   "cell_type": "markdown",
   "id": "9e0b4fd0",
   "metadata": {},
   "source": [
    "- Usando apenas a amostra de TESTE, crie uma tabela de contingência $10 \\times 10$ de confusão $C$. Nesta matriz $C$ as linhas representam a classe verdadeira do dígito (de 0 a 9) e a coluna a classe em que ele foi alocado. Na entrada $C_{ij}$ você deve colocar o número de itens (ou imagens) que caíram naquela categoria cruzada. Crie esta tabela com os quatro valores distintos de $k = 5, 10, 15, 20$."
   ]
  },
  {
   "cell_type": "code",
   "execution_count": null,
   "id": "62344004",
   "metadata": {},
   "outputs": [],
   "source": []
  },
  {
   "cell_type": "markdown",
   "id": "cf402115",
   "metadata": {},
   "source": [
    "## Questão 02)"
   ]
  },
  {
   "cell_type": "code",
   "execution_count": null,
   "id": "d13a6573",
   "metadata": {},
   "outputs": [],
   "source": []
  },
  {
   "cell_type": "markdown",
   "id": "5017605e",
   "metadata": {},
   "source": [
    "# Exercícios da seção 8.2"
   ]
  },
  {
   "cell_type": "markdown",
   "id": "c711c852",
   "metadata": {},
   "source": [
    "## Questão 01)"
   ]
  },
  {
   "cell_type": "code",
   "execution_count": null,
   "id": "a8f2b2a4",
   "metadata": {},
   "outputs": [],
   "source": []
  }
 ],
 "metadata": {
  "kernelspec": {
   "display_name": "Python 3 (ipykernel)",
   "language": "python",
   "name": "python3"
  },
  "language_info": {
   "codemirror_mode": {
    "name": "ipython",
    "version": 3
   },
   "file_extension": ".py",
   "mimetype": "text/x-python",
   "name": "python",
   "nbconvert_exporter": "python",
   "pygments_lexer": "ipython3",
   "version": "3.8.5"
  }
 },
 "nbformat": 4,
 "nbformat_minor": 5
}
