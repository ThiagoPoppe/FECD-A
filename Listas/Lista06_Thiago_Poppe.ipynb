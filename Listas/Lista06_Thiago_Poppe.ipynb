{
 "cells": [
  {
   "cell_type": "markdown",
   "id": "f60f3eb4",
   "metadata": {},
   "source": [
    "# Lista 06 - Fundamentos Estatísticos para Ciência dos Dados A\n",
    "- Aluno: Thiago Martin Poppe\n",
    "- Matrícula: 2017014324"
   ]
  },
  {
   "cell_type": "code",
   "execution_count": 1,
   "id": "37cb3723",
   "metadata": {},
   "outputs": [],
   "source": [
    "import numpy as np\n",
    "import pandas as pd\n",
    "import scipy.stats as ss\n",
    "import matplotlib.pyplot as plt"
   ]
  },
  {
   "cell_type": "markdown",
   "id": "b1aed76b",
   "metadata": {},
   "source": [
    "- **Nota:** para as questões relacionadas com o teste qui-quadrado, utilizei a função `stats.chisquare` do scipy para o cálculo da estatística. Nela, podemos passar o parâmetro `ddof`, que é o valor referente ao número de parâmetros estimados no modelo. Esse valor é usado no cálculo do p-valor através de uma distribuição $\\chi^2$ com $k - 1 - ddof$ graus de liberdade, onde $k$ é o número de valores observados (número de categorias)."
   ]
  },
  {
   "cell_type": "markdown",
   "id": "6ebdb8ec",
   "metadata": {},
   "source": [
    "# Questão 10)\n",
    "- Para verificar sua compreensão do problema, obtenha os números esperados que estão na Tabela 3.1.\n",
    "\n",
    "\n",
    "- **Resposta:** eles representam a linha denotada por ESP, com os seguintes valores:\n",
    "$$ \\text{ESP: \\{165.22, 1401.69, 5202.65, 11034.65, 14627.60, 12409.87, 6580.24, 1993.78, 264.30\\}} $$\n",
    "\n",
    "\n",
    "- Calcule a estatística qui-quadrado neste problema (você deve obter um valor de $\\chi^2 = 91.87$)."
   ]
  },
  {
   "cell_type": "code",
   "execution_count": 2,
   "id": "c04e929f",
   "metadata": {},
   "outputs": [
    {
     "name": "stdout",
     "output_type": "stream",
     "text": [
      "Estatística qui-quadrado = 91.87\n"
     ]
    }
   ],
   "source": [
    "observed_values = np.array([215, 1485, 5331, 10649, 14959, 11929, 6678, 2092, 342])\n",
    "expected_values = np.array([165.22, 1401.69, 5202.65, 11034.65, 14627.60, 12409.87, 6580.24, 1993.78, 264.30])\n",
    "\n",
    "# No caso, como estamos utilizando uma binomial, iremos estimar 2 parâmetros\n",
    "chi_square_test = ss.chisquare(observed_values, expected_values, ddof=2)\n",
    "print('Estatística qui-quadrado = {:.2f}'.format(chi_square_test.statistic))"
   ]
  },
  {
   "cell_type": "markdown",
   "id": "1e16090f",
   "metadata": {},
   "source": [
    "- Qual a distribuição de referência desta estatística?\n",
    "\n",
    "\n",
    "- **Resposta:** a estatística qui-quadrado possui como referência a distribuição $\\chi^2$."
   ]
  },
  {
   "cell_type": "markdown",
   "id": "210fb423",
   "metadata": {},
   "source": [
    "\n",
    "\n",
    "- Qual o p-valor associado com esta estatística?\n",
    "    - DICA: use `pchisq` para obter o p-valor igual a 0.0 (numa aproximação até 15 casas decimais)."
   ]
  },
  {
   "cell_type": "code",
   "execution_count": 3,
   "id": "5727ed05",
   "metadata": {},
   "outputs": [
    {
     "name": "stdout",
     "output_type": "stream",
     "text": [
      "p-valor associado = 1.238663081002473e-17\n"
     ]
    }
   ],
   "source": [
    "print('p-valor associado = {}'.format(chi_square_test.pvalue))"
   ]
  },
  {
   "cell_type": "markdown",
   "id": "e13e6123",
   "metadata": {},
   "source": [
    "# Questão 19)"
   ]
  },
  {
   "cell_type": "markdown",
   "id": "aa3e51a8",
   "metadata": {},
   "source": [
    "- Explique como a equação (3.2) $\\mathbb P(Y=k) = \\frac{c}{k^\\theta}$ implicaria que *the frequency of any word is inversely proportional to its rank*.\n",
    "\n",
    "\n",
    "- **Resposta:** Como mencionado no texto da questão, probabilidades são aproximadamente frequências relativas, onde nesse caso $\\mathbb P(Y = k) \\approx \\frac{n_k}{10^6}$. Com a leitura do texto, definimos $k$ (valor de *rank*) como os possíveis valores da variável aleatória $Y$. Com isso, através da equação (3.2), teremos que a frequência de qualquer palavra será inversamente proporcional ao seu rank: $\\mathbb P(Y=k) = \\textit{frequency} \\propto \\frac{1}{k}$, note que $c$ e $\\theta$ são constantes!"
   ]
  },
  {
   "cell_type": "code",
   "execution_count": 4,
   "id": "6e0f813e",
   "metadata": {},
   "outputs": [
    {
     "data": {
      "image/png": "[encoded data removed]",
      "text/plain": [
       "<Figure size 432x288 with 1 Axes>"
      ]
     },
     "metadata": {
      "needs_background": "light"
     },
     "output_type": "display_data"
    }
   ],
   "source": [
    "ranks = np.array([1, 2, 27, 802, 2087, 8901, 14343, 21531])\n",
    "frequencies = np.array([79607, 48238, 4033, 174, 70, 12, 6, 3])\n",
    "\n",
    "plt.title('log(ranks) x log(frequências)')\n",
    "plt.xlabel('log(ranks)')\n",
    "plt.ylabel('log(frequências)')\n",
    "plt.scatter(np.log(ranks), np.log(frequencies))\n",
    "plt.show()"
   ]
  },
  {
   "cell_type": "code",
   "execution_count": 5,
   "id": "e2e7dc54",
   "metadata": {},
   "outputs": [
    {
     "name": "stdout",
     "output_type": "stream",
     "text": [
      "Inclinação = -0.999\n"
     ]
    }
   ],
   "source": [
    "linear_regression = ss.linregress(np.log(ranks), np.log(frequencies))\n",
    "print('Inclinação = {:.3f}'.format(linear_regression.slope))"
   ]
  },
  {
   "cell_type": "markdown",
   "id": "89d88fb4",
   "metadata": {},
   "source": [
    " # Questão 30)\n",
    "\n",
    "- Estime $\\mathbb E(Y)$ usando a média aritmética $\\bar{X} + 1$ e obtenha assim uma estimativa de $\\theta$.\n",
    "\n",
    "\n",
    "- **Resposta:** Ao estimarmos o valor da esperança através da média aritmética +1, teremos que $\\mathbb E(Y) = \\mathbb E(X) + 1 = \\frac{537}{576} + 1 \\approx 0.9323 + 1$. Tendo em mãos o valor da esperança da variável aleatória $Y$, nós conseguimos estimar o valor de $\\theta$ resolvendo a equação não linear $\\mathbb E(Y) = \\frac{-1}{\\log(1-\\theta)}*\\frac{\\theta}{1-\\theta}$. Para resolver esse problema, optei por variar o valor de $\\theta$ no intervalo $(0,1)$ e guardar o valor que faz com que a esperança teórica se aproxime mais do valor computado anteriormente com os dados."
   ]
  },
  {
   "cell_type": "code",
   "execution_count": 6,
   "id": "ee4c5662",
   "metadata": {},
   "outputs": [
    {
     "name": "stdout",
     "output_type": "stream",
     "text": [
      "O melhor valor de theta encontrado foi 0.69850\n",
      "Gerando o valor E(Y) = 1.93226\n"
     ]
    }
   ],
   "source": [
    "E_y = lambda theta: (-1 / (np.log(1-theta)) * (theta / (1-theta)))\n",
    "\n",
    "diff = np.inf\n",
    "best_theta = 0.01\n",
    "\n",
    "for theta in np.arange(0.01, 1, 0.0001):\n",
    "    expected_value = E_y(theta)\n",
    "    new_diff = np.abs(1.9323 - expected_value)\n",
    "    \n",
    "    if new_diff < diff:\n",
    "        diff = new_diff\n",
    "        best_theta = theta\n",
    "\n",
    "print('O melhor valor de theta encontrado foi {:.5f}'.format(best_theta))\n",
    "print('Gerando o valor E(Y) = {:.5f}'.format(E_y(best_theta)))"
   ]
  },
  {
   "cell_type": "markdown",
   "id": "07284fa6",
   "metadata": {},
   "source": [
    "- Calcule os valores esperados do número de quadrados com $k$ bombas. Por exemplo, o número esperado com 0 bombas é dado por\n",
    "\n",
    "$$576 * \\mathbb P(X = 0) = 576 * \\mathbb P(Y = 1) = \\frac{-1}{log(1 - \\hat{\\theta})}\\frac{\\hat{\\theta}^1}{1} = 576 * 0.585 = 336.96$$"
   ]
  },
  {
   "cell_type": "code",
   "execution_count": 7,
   "id": "03a46982",
   "metadata": {},
   "outputs": [
    {
     "name": "stdout",
     "output_type": "stream",
     "text": [
      "Valores esperados usando theta = 0.69850:\n",
      "[335.56375752 117.19564231  54.5741041   28.59000879  15.97609691\n",
      "  24.10039037]\n"
     ]
    }
   ],
   "source": [
    "def P_y(k):\n",
    "    return (-1 / np.log(1 - best_theta)) * ((best_theta**k) / k)\n",
    "\n",
    "expected_values = np.zeros(6)\n",
    "\n",
    "for i in range(0, 5):\n",
    "    expected_values[i] = 576 * P_y(i+1)\n",
    "    \n",
    "expected_values[5] = 576 * (1 - (P_y(1) + P_y(2) + P_y(3) + P_y(4) + P_y(5)))\n",
    "\n",
    "print('Valores esperados usando theta = {:.5f}:'.format(best_theta))\n",
    "print(expected_values)"
   ]
  },
  {
   "cell_type": "markdown",
   "id": "8c17801e",
   "metadata": {},
   "source": [
    "- Embora seja óbvio que a distribuição logarítimica não se ajusta a estes dados, calcule a estatística qui-quadrado a partir das diferenças entre os valores observados e esperados."
   ]
  },
  {
   "cell_type": "code",
   "execution_count": 8,
   "id": "d5ee0fb5",
   "metadata": {},
   "outputs": [
    {
     "name": "stdout",
     "output_type": "stream",
     "text": [
      "Estatística qui-quadrado = 164.60\n"
     ]
    }
   ],
   "source": [
    "observed_values = np.array([229, 211, 93, 35, 7, 1])\n",
    "\n",
    "# No caso, como estamos utilizando uma distribuição logarítmica, iremos estimar 1 parâmetro\n",
    "chi_square_test = ss.chisquare(observed_values, expected_values, ddof=1)\n",
    "print('Estatística qui-quadrado = {:.2f}'.format(chi_square_test.statistic))"
   ]
  },
  {
   "cell_type": "markdown",
   "id": "10ae00a8",
   "metadata": {},
   "source": [
    "- Obtenha o p-valor associado com a estatística."
   ]
  },
  {
   "cell_type": "code",
   "execution_count": 9,
   "id": "28ebddc6",
   "metadata": {},
   "outputs": [
    {
     "name": "stdout",
     "output_type": "stream",
     "text": [
      "p-valor associado = 1.5066519992287076e-34\n"
     ]
    }
   ],
   "source": [
    "print('p-valor associado = {}'.format(chi_square_test.pvalue))"
   ]
  },
  {
   "cell_type": "markdown",
   "id": "82a7e0b1",
   "metadata": {},
   "source": [
    "# Questão 33)"
   ]
  },
  {
   "cell_type": "markdown",
   "id": "c74bd534",
   "metadata": {},
   "source": [
    "- Vamos usar a desigualdade de Tchebychev abaixo para gerar um intervalo de predição para $X$.\n",
    "$$\n",
    "\\mathbb P\\left(\\left| \\frac{X - \\mu}{\\sigma} \\right| \\geq \\delta \\right) \\leq \\frac{1}{\\delta^2}\n",
    "$$\n",
    "\n",
    "\n",
    "- Suponha que $X$ possua uma distribuição de probabilidade arbitrária com $\\mathbb E(X) = \\mu = 120$ e $\\text{Var}(X) = \\sigma^2 = 10^2$. Usando a desiguadade de Tchebychev, mostre que o intervalo $(120 \\pm 45) = (75, 165)$ deverá conter pelo menos 95% dos dados gerados de $X$, qualquer que seja a distribuição de $X$.\n",
    "\n",
    "\n",
    "- **Resposta:** Note que o intervalo $(75, 165)$ corresponde à um desvio de $4.5\\sigma$ do valor da esperança, fazendo com que o valor de $\\delta$ seja 4.5, nesse caso. Aplicando a desigualdade de Tchebychev, podemos observar que a probabilidade de um valor estar em um intervalo maior do que $4.5\\sigma$, com relação ao valor esperado, será menor que $\\frac{1}{4.5^2} = \\frac{1}{20.25} \\approx 0.04938$. Sendo assim, o intervalo $(75, 165)$ deverá conter **pelo menos** 95% dos dados gerados de $X$ (para qualquer que seja a distribuição de $X$)."
   ]
  },
  {
   "cell_type": "markdown",
   "id": "1415dc70",
   "metadata": {},
   "source": [
    "- Suponha agora que sabemos algo mais sobre a distribuição de $X$. Este conhecimento adicional reduz substancialmente a incerteza acerca dos valores gerados da distribuição. Agora, usando o comando `qnorm` do R, mostre que o intervalo que conterá 95% dos valores de uma amostra de $X$ é $(120 \\pm 1.96 ∗ 10) = (100.4, 139.6)$."
   ]
  },
  {
   "cell_type": "code",
   "execution_count": 10,
   "id": "9529697f",
   "metadata": {},
   "outputs": [
    {
     "name": "stdout",
     "output_type": "stream",
     "text": [
      "Probabilidade de um valor cair no intervalo = 0.95000\n"
     ]
    }
   ],
   "source": [
    "# Para obtermos a probabilidade de um valor cair no intervalo\n",
    "# (a, b), basta realizarmos F(b) - F(a)\n",
    "\n",
    "Fx = ss.norm(120, 10).cdf\n",
    "print('Probabilidade de um valor cair no intervalo = {:.5f}'.format(Fx(139.6) - Fx(100.4)))"
   ]
  }
 ],
 "metadata": {
  "kernelspec": {
   "display_name": "Python 3",
   "language": "python",
   "name": "python3"
  },
  "language_info": {
   "codemirror_mode": {
    "name": "ipython",
    "version": 3
   },
   "file_extension": ".py",
   "mimetype": "text/x-python",
   "name": "python",
   "nbconvert_exporter": "python",
   "pygments_lexer": "ipython3",
   "version": "3.8.8"
  }
 },
 "nbformat": 4,
 "nbformat_minor": 5
}
