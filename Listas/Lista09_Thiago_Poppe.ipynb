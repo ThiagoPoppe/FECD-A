{
 "cells": [
  {
   "cell_type": "markdown",
   "id": "f687b1e6",
   "metadata": {},
   "source": [
    "# Lista 09 - Fundamentos Estatísticos para Ciência dos Dados A\n",
    "- Aluno: Thiago Martin Poppe\n",
    "- Matrícula: 2017014324"
   ]
  },
  {
   "cell_type": "code",
   "execution_count": 1,
   "id": "f3b412d0",
   "metadata": {},
   "outputs": [],
   "source": [
    "import numpy as np\n",
    "import pandas as pd\n",
    "import seaborn as sns\n",
    "import matplotlib.pyplot as plt\n",
    "\n",
    "from sklearn.decomposition import PCA\n",
    "from sklearn.metrics import confusion_matrix\n",
    "from sklearn.preprocessing import StandardScaler"
   ]
  },
  {
   "cell_type": "markdown",
   "id": "707af1ec",
   "metadata": {},
   "source": [
    "# Exercícios da seção 8.1"
   ]
  },
  {
   "cell_type": "markdown",
   "id": "b93cfe0c",
   "metadata": {},
   "source": [
    "## Questão 01)\n",
    "O objetivo do exercício é inteiramente análogo ao de reconhecimento de faces. Queremos um método de classificação de novas imagens de dígitos manuscritos. Assim, você deverá:"
   ]
  },
  {
   "cell_type": "markdown",
   "id": "9e8633be",
   "metadata": {},
   "source": [
    "- Usando um conjunto de treinamento, criar uma regra de classificação de novas imagens de dígitos. Use os primeiros $k$ autovetores da matriz de covariância entre os pixels para fazer esta regra de classificação. Você deve fazer seus cálculos com $k = 5, 10, 15, 20$."
   ]
  },
  {
   "cell_type": "code",
   "execution_count": 2,
   "id": "2f5db6a7",
   "metadata": {},
   "outputs": [],
   "source": [
    "# Leitura dos dados de treinamento\n",
    "# As imagens possuem tamanho 16x16 pixels (256 pixels)\n",
    "# O primeiro valor de cada linha do arquivo representa a classe daquela imagem\n",
    "with open('zip_code_dataset/zip.train') as ftrain:\n",
    "    train_data = np.loadtxt(ftrain)\n",
    "    train_labels = train_data[:, 0].astype(int)\n",
    "    train_images = train_data[:, 1:]"
   ]
  },
  {
   "cell_type": "code",
   "execution_count": 3,
   "id": "24cb05aa",
   "metadata": {},
   "outputs": [
    {
     "data": {
      "image/png": "[encoded data removed]",
      "text/plain": [
       "<Figure size 432x288 with 3 Axes>"
      ]
     },
     "metadata": {
      "needs_background": "light"
     },
     "output_type": "display_data"
    }
   ],
   "source": [
    "# Visualizando as 3 primeiras imagens do conjunto de treino\n",
    "n_images = 3\n",
    "fig, axs = plt.subplots(ncols=n_images)\n",
    "\n",
    "for i in range(n_images):\n",
    "    axs[i].imshow(train_images[i].reshape((16,16)), cmap='gray')\n",
    "    axs[i].set_title('Dígito {}'.format(train_labels[i]))\n",
    "    axs[i].axis('off')\n",
    "\n",
    "fig.tight_layout()"
   ]
  },
  {
   "cell_type": "code",
   "execution_count": 4,
   "id": "4c647225",
   "metadata": {},
   "outputs": [
    {
     "data": {
      "image/png": "[encoded data removed]",
      "text/plain": [
       "<Figure size 432x288 with 1 Axes>"
      ]
     },
     "metadata": {
      "needs_background": "light"
     },
     "output_type": "display_data"
    }
   ],
   "source": [
    "# Iremos obter agora a imagem média e visualizá-la\n",
    "mean_image = np.mean(train_images, axis=0)\n",
    "\n",
    "plt.title('Imagem média')\n",
    "plt.imshow(mean_image.reshape((16,16)), cmap='gray')\n",
    "plt.axis('off')\n",
    "plt.show()"
   ]
  },
  {
   "cell_type": "code",
   "execution_count": 5,
   "id": "9905d26e",
   "metadata": {},
   "outputs": [
    {
     "name": "stdout",
     "output_type": "stream",
     "text": [
      "Formato da matriz de covariâncias: (256, 256)\n"
     ]
    }
   ],
   "source": [
    "# O próximo passo é obtermos os autovalores da matriz de covariâncias\n",
    "train_centralized_images = train_images - mean_image\n",
    "covariance_matrix = np.cov(train_centralized_images.T)\n",
    "\n",
    "print('Formato da matriz de covariâncias:', covariance_matrix.shape)"
   ]
  },
  {
   "cell_type": "code",
   "execution_count": 6,
   "id": "1a58ef38",
   "metadata": {},
   "outputs": [
    {
     "data": {
      "image/png": "[encoded data removed]",
      "text/plain": [
       "<Figure size 432x288 with 1 Axes>"
      ]
     },
     "metadata": {
      "needs_background": "light"
     },
     "output_type": "display_data"
    }
   ],
   "source": [
    "# Através dessa matriz iremos computar os componentes principais\n",
    "# Iremos primeiramente computar todos os componentes principais para analisarmos\n",
    "# a variância explicada como feito em sala de aula\n",
    "pca = PCA(n_components=256)\n",
    "pca.fit(covariance_matrix)\n",
    "\n",
    "# Podemos perceber pelo plot que de fato nós conseguimos explicar\n",
    "# boa parte da variânca dos dados com poucos componentes!!\n",
    "plt.title('Variância explicada acumulada')\n",
    "plt.xlabel('Número de componentes')\n",
    "plt.plot(np.cumsum(pca.explained_variance_) / sum(pca.explained_variance_))\n",
    "plt.show()"
   ]
  },
  {
   "cell_type": "code",
   "execution_count": 7,
   "id": "74e043b4",
   "metadata": {},
   "outputs": [],
   "source": [
    "# Podemos agora usar K componentes principais para realizar a classificação de um dígito!\n",
    "\n",
    "# Lendo os dados de teste\n",
    "with open('zip_code_dataset/zip.test') as ftest:\n",
    "    test_data = np.loadtxt(ftest)\n",
    "    test_labels = test_data[:, 0].astype(int)\n",
    "    test_images = test_data[:, 1:]\n",
    "\n",
    "# Iremos criar um dicionário para guardas as predições para cada valor de K\n",
    "predictions = {}\n",
    "for k in [5, 10, 15, 20]:\n",
    "    # Criando PCA com K componentes e aprendendo com a matriz de covariâncias\n",
    "    pca = PCA(n_components=k)\n",
    "    pca.fit(covariance_matrix)\n",
    "    \n",
    "    # Obtendo os coeficientes de cada conjunto (treino e teste)\n",
    "    # Para isso, iremos usar a função transform, realizando os cálculos vistos em sala\n",
    "    train_coef = pca.transform(train_images)\n",
    "    test_coef = pca.transform(test_images)\n",
    "    \n",
    "    # Obtendo a média dos coeficientes para cada classe no treino\n",
    "    mean_coefs = np.array([\n",
    "        np.mean(train_coef[train_labels == digit], axis=0) for digit in range(10)\n",
    "    ])\n",
    "    \n",
    "    # Obtendo as predições para cada dado no conjunto de teste\n",
    "    # Iremos escolher a classe que possuir o coeficiente médio mais próximo!\n",
    "    preds = []\n",
    "    predictions[k] = np.array([\n",
    "        np.argmin(np.mean((mean_coefs - coef)**2, axis=1)) for coef in test_coef\n",
    "    ])"
   ]
  },
  {
   "cell_type": "code",
   "execution_count": 8,
   "id": "f5e2eb89",
   "metadata": {},
   "outputs": [
    {
     "name": "stdout",
     "output_type": "stream",
     "text": [
      "Predição para k=5: 7\n",
      "Predição para k=10: 9\n",
      "Predição para k=15: 9\n",
      "Predição para k=20: 9\n"
     ]
    },
    {
     "data": {
      "image/png": "[encoded data removed]",
      "text/plain": [
       "<Figure size 432x288 with 1 Axes>"
      ]
     },
     "metadata": {
      "needs_background": "light"
     },
     "output_type": "display_data"
    }
   ],
   "source": [
    "# Podemos observar as predições para a primeira imagem dos dados de teste\n",
    "# Veremos que com 5 componentes nós teremos um erro!\n",
    "for k in [5, 10, 15, 20]:\n",
    "    print('Predição para k={}: {}'.format(k, predictions[k][0]))\n",
    "    \n",
    "plt.title('Imagem real ({})'.format(test_labels[0]))\n",
    "plt.imshow(test_images[0].reshape((16,16)), cmap='gray')\n",
    "plt.show()"
   ]
  },
  {
   "cell_type": "markdown",
   "id": "bccecbff",
   "metadata": {},
   "source": [
    "- Usando apenas a amostra de TESTE, crie uma tabela de contingência $10 \\times 10$ de confusão $C$. Nesta matriz $C$ as linhas representam a classe verdadeira do dígito (de 0 a 9) e a coluna a classe em que ele foi alocado. Na entrada $C_{ij}$ você deve colocar o número de itens (ou imagens) que caíram naquela categoria cruzada. Crie esta tabela com os quatro valores distintos de $k = 5, 10, 15, 20$."
   ]
  },
  {
   "cell_type": "code",
   "execution_count": 9,
   "id": "6cec98ba",
   "metadata": {},
   "outputs": [
    {
     "name": "stdout",
     "output_type": "stream",
     "text": [
      "Matriz de confusão para k = 5:\n",
      "[[274   0   3   1   2   7  62   0  10   0]\n",
      " [  0 258   0   0   1   1   3   0   1   0]\n",
      " [  6   3 128  16  16   4   9   2  14   0]\n",
      " [  9   0   4 106   0  13   2   0  32   0]\n",
      " [  2  10   7   0 127   1  10  16   1  26]\n",
      " [ 16   0   1  21  13  91   7   0   9   2]\n",
      " [ 21   0   2   0   4   2 139   0   2   0]\n",
      " [  0   3   1   0  10   1   0 113   4  15]\n",
      " [  6   2  13  11   2  11   3   5 102  11]\n",
      " [  0  13   1   0  21   0   0  31   8 103]]\n",
      "\n",
      "Matriz de confusão para k = 10:\n",
      "[[285   0   3   3   5   8  45   1   8   1]\n",
      " [  0 259   0   0   3   0   2   0   0   0]\n",
      " [  7   1 138  12  20   3   0   3  14   0]\n",
      " [  7   0   3 121   1  16   0   0  16   2]\n",
      " [  1   7   5   0 140   1   5   2   3  36]\n",
      " [ 14   1   0  15   5 106   4   0   9   6]\n",
      " [ 18   0   4   0   4   5 138   0   1   0]\n",
      " [  0   2   2   0   6   0   0 111   3  23]\n",
      " [  4   2   6   9   4   7   1   2 121  10]\n",
      " [  0   9   1   0  20   1   0  12   3 131]]\n",
      "\n",
      "Matriz de confusão para k = 15:\n",
      "[[294   0   3   2   4   3  40   1  11   1]\n",
      " [  0 259   0   0   3   0   2   0   0   0]\n",
      " [  7   0 138  10  19   2   3   3  16   0]\n",
      " [  6   0   5 124   0  19   1   0   9   2]\n",
      " [  1   6   5   0 143   1   5   2   3  34]\n",
      " [ 10   1   0  11   6 116   2   0   7   7]\n",
      " [ 15   0   4   0   4   4 142   0   1   0]\n",
      " [  0   2   3   0   7   0   0 115   1  19]\n",
      " [  4   2   5  10   5   8   0   1 121  10]\n",
      " [  0   7   0   0  17   1   0  11   4 137]]\n",
      "\n",
      "Matriz de confusão para k = 20:\n",
      "[[296   0   2   3   4   3  39   1  10   1]\n",
      " [  0 259   0   1   2   0   2   0   0   0]\n",
      " [  6   0 143   8  17   3   2   3  16   0]\n",
      " [  6   0   4 131   1  13   1   0   8   2]\n",
      " [  1   6   5   0 141   1   5   2   3  36]\n",
      " [  9   1   0  10   6 120   0   0   7   7]\n",
      " [ 14   0   4   0   4   4 143   0   1   0]\n",
      " [  0   2   2   0   7   0   0 113   2  21]\n",
      " [  4   2   5  11   6   6   0   1 123   8]\n",
      " [  0   7   0   0  16   1   0  12   4 137]]\n",
      "\n"
     ]
    }
   ],
   "source": [
    "confusion_matrices = {}\n",
    "for k in [5, 10, 15, 20]:\n",
    "    confusion_matrices[k] = confusion_matrix(test_labels, predictions[k])\n",
    "    print('Matriz de confusão para k = {}:'.format(k))\n",
    "    print('{}\\n'.format(confusion_matrices[k]))"
   ]
  },
  {
   "cell_type": "markdown",
   "id": "aeac65fb",
   "metadata": {},
   "source": [
    "- Calcule a proporção total das imagens da amostra de teste que caem na diagonal principal. Esta é uma medida global de classificação correta do método. Para qual valor de $k$ esta proporção foi máxima?"
   ]
  },
  {
   "cell_type": "code",
   "execution_count": 10,
   "id": "10166332",
   "metadata": {},
   "outputs": [
    {
     "name": "stdout",
     "output_type": "stream",
     "text": [
      "Proporção da diagonal principal para k = 5: 0.71799\n",
      "Proporção da diagonal principal para k = 10: 0.77230\n",
      "Proporção da diagonal principal para k = 15: 0.79173\n",
      "Proporção da diagonal principal para k = 20: 0.80020\n"
     ]
    }
   ],
   "source": [
    "for k in [5, 10, 15, 20]:\n",
    "    cm = confusion_matrices[k]\n",
    "    prop = cm.diagonal().sum() / cm.sum()\n",
    "    print('Proporção da diagonal principal para k = {}: {:.5f}'.format(k, prop))"
   ]
  },
  {
   "cell_type": "markdown",
   "id": "c4a5bc65",
   "metadata": {},
   "source": [
    "- Preencha uma tabela com o valor de precisão média e a revocação média para cada valor de $k$.\n",
    "\n",
    "\n",
    "- Precisão média é a média aritmética da precisão das 10 classes e definida pela equação abaixo, com $C_{i+}$ sendo a soma da linha $i$ na matriz de confusão.\n",
    "$$\n",
    "pm = \\frac{1}{10}\\sum_{i=0}^9 \\frac{C_{ii}}{C_{i+}}\n",
    "$$\n",
    "\n",
    "\n",
    "- Revocação média é a média aritmética da revocação das 10 classes e definida pela equação abaixo, com $C{+i}$ sendo a soma da coluna $i$ na matriz de confusão.\n",
    "$$\n",
    "rm = \\frac{1}{10}\\sum_{i=0}^9\\frac{C_{ii}}{C_{+i}}\n",
    "$$"
   ]
  },
  {
   "cell_type": "code",
   "execution_count": 11,
   "id": "821da6f1",
   "metadata": {},
   "outputs": [
    {
     "data": {
      "text/html": [
       "<div>\n",
       "<style scoped>\n",
       "    .dataframe tbody tr th:only-of-type {\n",
       "        vertical-align: middle;\n",
       "    }\n",
       "\n",
       "    .dataframe tbody tr th {\n",
       "        vertical-align: top;\n",
       "    }\n",
       "\n",
       "    .dataframe thead th {\n",
       "        text-align: right;\n",
       "    }\n",
       "</style>\n",
       "<table border=\"1\" class=\"dataframe\">\n",
       "  <thead>\n",
       "    <tr style=\"text-align: right;\">\n",
       "      <th></th>\n",
       "      <th>k</th>\n",
       "      <th>Precisão Média</th>\n",
       "      <th>Revocação Média</th>\n",
       "    </tr>\n",
       "  </thead>\n",
       "  <tbody>\n",
       "    <tr>\n",
       "      <th>0</th>\n",
       "      <td>5</td>\n",
       "      <td>0.701201</td>\n",
       "      <td>0.702114</td>\n",
       "    </tr>\n",
       "    <tr>\n",
       "      <th>1</th>\n",
       "      <td>10</td>\n",
       "      <td>0.759921</td>\n",
       "      <td>0.763378</td>\n",
       "    </tr>\n",
       "    <tr>\n",
       "      <th>2</th>\n",
       "      <td>15</td>\n",
       "      <td>0.780449</td>\n",
       "      <td>0.782927</td>\n",
       "    </tr>\n",
       "    <tr>\n",
       "      <th>3</th>\n",
       "      <td>20</td>\n",
       "      <td>0.789681</td>\n",
       "      <td>0.792127</td>\n",
       "    </tr>\n",
       "  </tbody>\n",
       "</table>\n",
       "</div>"
      ],
      "text/plain": [
       "    k  Precisão Média  Revocação Média\n",
       "0   5        0.701201         0.702114\n",
       "1  10        0.759921         0.763378\n",
       "2  15        0.780449         0.782927\n",
       "3  20        0.789681         0.792127"
      ]
     },
     "execution_count": 11,
     "metadata": {},
     "output_type": "execute_result"
    }
   ],
   "source": [
    "table = pd.DataFrame({'k': [5, 10, 15, 20]})\n",
    "\n",
    "# Calculando a precisão média\n",
    "table['Precisão Média'] = [np.mean(cm.diagonal() / cm.sum(axis=1)) for cm in confusion_matrices.values()]\n",
    "table['Revocação Média'] = [np.mean(cm.diagonal() / cm.sum(axis=0)) for cm in confusion_matrices.values()]\n",
    "\n",
    "table"
   ]
  },
  {
   "cell_type": "markdown",
   "id": "cf402115",
   "metadata": {},
   "source": [
    "## Questão 02)\n",
    "- Neste exercício, você vai gerar alguns vetores gaussianos tri-dimensionais que, de fato vivem em duas dimensões.\n",
    "\n",
    "- **Nota:** o código abaixo foi originalmente escrito em R. Os plots foram omitidos e executados separadamente em uma IDE online da linguagem (apenas para melhor entendimento)."
   ]
  },
  {
   "cell_type": "code",
   "execution_count": 12,
   "id": "a9a5d933",
   "metadata": {},
   "outputs": [
    {
     "name": "stdout",
     "output_type": "stream",
     "text": [
      "var.pts:\n",
      "\n",
      "[[  3   2  17]\n",
      " [  2   4  22]\n",
      " [ 17  22 139]]\n",
      "\n",
      "round(cov(pts),2):\n",
      "[[  3.05   2.23  18.07]\n",
      " [  2.23   4.24  23.66]\n",
      " [ 18.07  23.66 148.86]]\n",
      "\n",
      "eigen(var.pts):\n",
      "- autovalores: [ 1.44561163e+02  1.43883735e+00 -1.46570351e-15]\n",
      "- autovetores:\n",
      "[[-0.11994934 -0.79966137 -0.58834841]\n",
      " [-0.15518217  0.60044473 -0.78446454]\n",
      " [-0.98057669  0.00279482  0.19611614]]\n",
      "\n",
      "eigen(cov(pts)):\n",
      "- autovalores: [1.54811417e+02 1.33415512e+00 8.18055046e-15]\n",
      "- autovetores:\n",
      "[[-0.1190624  -0.79979391 -0.58834841]\n",
      " [-0.155848    0.60027226 -0.78446454]\n",
      " [-0.98057919  0.00170731  0.19611614]]\n",
      "\n"
     ]
    }
   ],
   "source": [
    "nsims = 200\n",
    "Sigma = np.array([[3,2], [2,4]])\n",
    "\n",
    "pts = np.random.multivariate_normal(mean=np.array([1,2]), cov=Sigma, size=nsims)\n",
    "pts = np.append(pts, 3*pts[:,[0]] + 4*pts[:,[1]], axis=1)\n",
    "\n",
    "A = np.array([1,0,0,1,3,4]).reshape((3,2))\n",
    "var_pts = A @ Sigma @ A.T\n",
    "\n",
    "print('var.pts:\\n')\n",
    "print(var_pts, end='\\n\\n')\n",
    "\n",
    "print('round(cov(pts),2):')\n",
    "print(np.round(np.cov(pts.T),2), end='\\n\\n')\n",
    "\n",
    "print('eigen(var.pts):')\n",
    "w, v = np.linalg.eig(var_pts)\n",
    "print('- autovalores:', w)\n",
    "print('- autovetores:')\n",
    "print(v, end='\\n\\n')\n",
    "\n",
    "print('eigen(cov(pts)):')\n",
    "w, v = np.linalg.eig(np.cov(pts.T))\n",
    "print('- autovalores:', w)\n",
    "print('- autovetores:')\n",
    "print(v, end='\\n\\n')"
   ]
  },
  {
   "cell_type": "markdown",
   "id": "cdef0cae",
   "metadata": {},
   "source": [
    "- Quais os parâmetros $\\mu$ e $\\Sigma$ da distribuição gaussiana do vetor ``pts``?\n",
    "\n",
    "\n",
    "**Resposta:** Teremos $\\mu = [1,2]^T$ e que\n",
    "$\n",
    "\\Sigma =\n",
    "\\begin{bmatrix}\n",
    "3 & 2 \\\\\n",
    "2 & 4\n",
    "\\end{bmatrix}\n",
    "$.\n",
    "\n",
    "Já para o vetor ``pts`` com 3-dimensões, isto é $\\mathbf{X}=(X_1,X_2,X_3)^T$, teremos que:\n",
    "$$\n",
    "\\begin{align}\n",
    "\\mu & = \\mathbb{E}(\\mathbf{X}) \\\\\n",
    "    & = \\mathbb{E}\\left(\\mathbf{A}\\begin{pmatrix}X_1\\\\X_2\\end{pmatrix}\\right) \\\\\n",
    "    & = \\mathbf{A}\\mathbb{E}\\left(\\begin{pmatrix}X_1\\\\X_2\\end{pmatrix}\\right) \\\\\n",
    "    & = \\begin{pmatrix} 1&0\\\\0&1\\\\3&4 \\end{pmatrix}\\begin{pmatrix} 1\\\\2 \\end{pmatrix} \\\\\n",
    "    & = \\begin{pmatrix} 1&2&12 \\end{pmatrix}^T\n",
    "\\end{align}\n",
    "$$\n",
    "\n",
    "Para a matriz $\\Sigma$ nós temos o seu valor no print da variável ``var.pts``."
   ]
  },
  {
   "cell_type": "markdown",
   "id": "1e8e633a",
   "metadata": {},
   "source": [
    "- Por que o comando ``round(cov(pts),2)`` não gera exatamente $\\Sigma$ (ignore o erro de aproximação puramente numérico, não estocástico).\n",
    "\n",
    "\n",
    "**Resposta:** Isto ocorre já que o cálculo da covariância de ``pts`` é uma estimativa empírica (através de uma amostra de tamanho 200) do resultado teórico $A \\Sigma A^T$. Logo, quanto maior a nossa amostra mais próximo essa estimativa fica da real. Note que a matriz A é literalmente uma transformação que mantêm as duas colunas originais de ``pts`` e \"cria\" uma terceira realizando a combinação linear das colunas ($3\\text{col}_1 + 4\\text{col}_2$), assim como fizemos para adicionar a terceira coluna na matriz ``pts``!"
   ]
  },
  {
   "cell_type": "markdown",
   "id": "04348c82",
   "metadata": {},
   "source": [
    "- Qual o menor autovalor de $\\Sigma$?\n",
    "\n",
    "**Resposta:** Podemos ver através dos prints, tanto no cálculo dos autovalores na estimativa empírica ``cov(pts)`` quanto de ``var.pts``, que o menor autovalor será aproximadamente 0. Sendo assim, nós teremos que esse vetor gaussiano tri-dimensional \"vive\" de fato em duas dimensões, retratado pelas suas duas primeiras componentes (autovetores)."
   ]
  },
  {
   "cell_type": "markdown",
   "id": "5017605e",
   "metadata": {},
   "source": [
    "# Exercícios da seção 8.2"
   ]
  },
  {
   "cell_type": "markdown",
   "id": "c711c852",
   "metadata": {},
   "source": [
    "## Questão 01)\n",
    "Neste exercício, você vai analisar os dados de uma análise química de vinhos. Você vai ler uma matriz com 178 amostras de diferentes vinhos. Haverá uma linha para cada vinho. A primeira coluna indica o cultivar do vinho (entenda como o tipo de uva usada na fabricação do vinho) tal como Sauvignon Blanc, Cabernet ou Chardonnay (rotulados como 1, 2 ou 3). As 13 colunas seguintes contêm as concentrações de 13 diferentes compostos químicos na amostra.\n",
    "\n",
    "O objetivo é diferenciar entre os 3 tipos de vinho com base na sua composição química representada pelo vetor 13-dimensional $\\mathbf{X}$. Você precisa criar uma regra para predizer o tipo de vinho (a primeira coluna) a partir das 13 variáveis de composição química. Vamos verificar que, ao invés de usarmos as 13 variáveis, poderemos nos basear em dois índices, os dois primeiros PCAs, que resumem toda a variabilidade simultânea das 13 variáveis.\n",
    "\n",
    "**Nota:** o código abaixo foi originalmente escrito em R. Alguns plots foram omitidos e feito em uma IDE online separadamente para melhor entendimento."
   ]
  },
  {
   "cell_type": "code",
   "execution_count": 13,
   "id": "a8f2b2a4",
   "metadata": {},
   "outputs": [
    {
     "data": {
      "text/html": [
       "<div>\n",
       "<style scoped>\n",
       "    .dataframe tbody tr th:only-of-type {\n",
       "        vertical-align: middle;\n",
       "    }\n",
       "\n",
       "    .dataframe tbody tr th {\n",
       "        vertical-align: top;\n",
       "    }\n",
       "\n",
       "    .dataframe thead th {\n",
       "        text-align: right;\n",
       "    }\n",
       "</style>\n",
       "<table border=\"1\" class=\"dataframe\">\n",
       "  <thead>\n",
       "    <tr style=\"text-align: right;\">\n",
       "      <th></th>\n",
       "      <th>1</th>\n",
       "      <th>2</th>\n",
       "      <th>3</th>\n",
       "      <th>4</th>\n",
       "      <th>5</th>\n",
       "      <th>6</th>\n",
       "      <th>7</th>\n",
       "      <th>8</th>\n",
       "      <th>9</th>\n",
       "      <th>10</th>\n",
       "      <th>11</th>\n",
       "      <th>12</th>\n",
       "      <th>13</th>\n",
       "    </tr>\n",
       "  </thead>\n",
       "  <tbody>\n",
       "    <tr>\n",
       "      <th>0</th>\n",
       "      <td>14.23</td>\n",
       "      <td>1.71</td>\n",
       "      <td>2.43</td>\n",
       "      <td>15.6</td>\n",
       "      <td>127</td>\n",
       "      <td>2.80</td>\n",
       "      <td>3.06</td>\n",
       "      <td>0.28</td>\n",
       "      <td>2.29</td>\n",
       "      <td>5.64</td>\n",
       "      <td>1.04</td>\n",
       "      <td>3.92</td>\n",
       "      <td>1065</td>\n",
       "    </tr>\n",
       "    <tr>\n",
       "      <th>1</th>\n",
       "      <td>13.20</td>\n",
       "      <td>1.78</td>\n",
       "      <td>2.14</td>\n",
       "      <td>11.2</td>\n",
       "      <td>100</td>\n",
       "      <td>2.65</td>\n",
       "      <td>2.76</td>\n",
       "      <td>0.26</td>\n",
       "      <td>1.28</td>\n",
       "      <td>4.38</td>\n",
       "      <td>1.05</td>\n",
       "      <td>3.40</td>\n",
       "      <td>1050</td>\n",
       "    </tr>\n",
       "    <tr>\n",
       "      <th>2</th>\n",
       "      <td>13.16</td>\n",
       "      <td>2.36</td>\n",
       "      <td>2.67</td>\n",
       "      <td>18.6</td>\n",
       "      <td>101</td>\n",
       "      <td>2.80</td>\n",
       "      <td>3.24</td>\n",
       "      <td>0.30</td>\n",
       "      <td>2.81</td>\n",
       "      <td>5.68</td>\n",
       "      <td>1.03</td>\n",
       "      <td>3.17</td>\n",
       "      <td>1185</td>\n",
       "    </tr>\n",
       "    <tr>\n",
       "      <th>3</th>\n",
       "      <td>14.37</td>\n",
       "      <td>1.95</td>\n",
       "      <td>2.50</td>\n",
       "      <td>16.8</td>\n",
       "      <td>113</td>\n",
       "      <td>3.85</td>\n",
       "      <td>3.49</td>\n",
       "      <td>0.24</td>\n",
       "      <td>2.18</td>\n",
       "      <td>7.80</td>\n",
       "      <td>0.86</td>\n",
       "      <td>3.45</td>\n",
       "      <td>1480</td>\n",
       "    </tr>\n",
       "    <tr>\n",
       "      <th>4</th>\n",
       "      <td>13.24</td>\n",
       "      <td>2.59</td>\n",
       "      <td>2.87</td>\n",
       "      <td>21.0</td>\n",
       "      <td>118</td>\n",
       "      <td>2.80</td>\n",
       "      <td>2.69</td>\n",
       "      <td>0.39</td>\n",
       "      <td>1.82</td>\n",
       "      <td>4.32</td>\n",
       "      <td>1.04</td>\n",
       "      <td>2.93</td>\n",
       "      <td>735</td>\n",
       "    </tr>\n",
       "  </tbody>\n",
       "</table>\n",
       "</div>"
      ],
      "text/plain": [
       "      1     2     3     4    5     6     7     8     9     10    11    12  \\\n",
       "0  14.23  1.71  2.43  15.6  127  2.80  3.06  0.28  2.29  5.64  1.04  3.92   \n",
       "1  13.20  1.78  2.14  11.2  100  2.65  2.76  0.26  1.28  4.38  1.05  3.40   \n",
       "2  13.16  2.36  2.67  18.6  101  2.80  3.24  0.30  2.81  5.68  1.03  3.17   \n",
       "3  14.37  1.95  2.50  16.8  113  3.85  3.49  0.24  2.18  7.80  0.86  3.45   \n",
       "4  13.24  2.59  2.87  21.0  118  2.80  2.69  0.39  1.82  4.32  1.04  2.93   \n",
       "\n",
       "     13  \n",
       "0  1065  \n",
       "1  1050  \n",
       "2  1185  \n",
       "3  1480  \n",
       "4   735  "
      ]
     },
     "execution_count": 13,
     "metadata": {},
     "output_type": "execute_result"
    }
   ],
   "source": [
    "filepath = \"http://archive.ics.uci.edu/ml/machine-learning-databases/wine/wine.data\"\n",
    "wine = pd.read_csv(filepath, header=None)\n",
    "\n",
    "labels = wine.iloc[:, 0]\n",
    "features = wine.iloc[:, 1:]\n",
    "\n",
    "# Note que as variáveis estão em escalas diferentes!\n",
    "# Logo, devemos padronizar as escalas\n",
    "features.head()"
   ]
  },
  {
   "cell_type": "code",
   "execution_count": 14,
   "id": "baaede8c",
   "metadata": {},
   "outputs": [
    {
     "data": {
      "text/html": [
       "<div>\n",
       "<style scoped>\n",
       "    .dataframe tbody tr th:only-of-type {\n",
       "        vertical-align: middle;\n",
       "    }\n",
       "\n",
       "    .dataframe tbody tr th {\n",
       "        vertical-align: top;\n",
       "    }\n",
       "\n",
       "    .dataframe thead th {\n",
       "        text-align: right;\n",
       "    }\n",
       "</style>\n",
       "<table border=\"1\" class=\"dataframe\">\n",
       "  <thead>\n",
       "    <tr style=\"text-align: right;\">\n",
       "      <th></th>\n",
       "      <th>0</th>\n",
       "      <th>1</th>\n",
       "      <th>2</th>\n",
       "      <th>3</th>\n",
       "      <th>4</th>\n",
       "      <th>5</th>\n",
       "      <th>6</th>\n",
       "      <th>7</th>\n",
       "      <th>8</th>\n",
       "      <th>9</th>\n",
       "      <th>10</th>\n",
       "      <th>11</th>\n",
       "      <th>12</th>\n",
       "    </tr>\n",
       "  </thead>\n",
       "  <tbody>\n",
       "    <tr>\n",
       "      <th>0</th>\n",
       "      <td>1.518613</td>\n",
       "      <td>-0.562250</td>\n",
       "      <td>0.232053</td>\n",
       "      <td>-1.169593</td>\n",
       "      <td>1.913905</td>\n",
       "      <td>0.808997</td>\n",
       "      <td>1.034819</td>\n",
       "      <td>-0.659563</td>\n",
       "      <td>1.224884</td>\n",
       "      <td>0.251717</td>\n",
       "      <td>0.362177</td>\n",
       "      <td>1.847920</td>\n",
       "      <td>1.013009</td>\n",
       "    </tr>\n",
       "    <tr>\n",
       "      <th>1</th>\n",
       "      <td>0.246290</td>\n",
       "      <td>-0.499413</td>\n",
       "      <td>-0.827996</td>\n",
       "      <td>-2.490847</td>\n",
       "      <td>0.018145</td>\n",
       "      <td>0.568648</td>\n",
       "      <td>0.733629</td>\n",
       "      <td>-0.820719</td>\n",
       "      <td>-0.544721</td>\n",
       "      <td>-0.293321</td>\n",
       "      <td>0.406051</td>\n",
       "      <td>1.113449</td>\n",
       "      <td>0.965242</td>\n",
       "    </tr>\n",
       "    <tr>\n",
       "      <th>2</th>\n",
       "      <td>0.196879</td>\n",
       "      <td>0.021231</td>\n",
       "      <td>1.109334</td>\n",
       "      <td>-0.268738</td>\n",
       "      <td>0.088358</td>\n",
       "      <td>0.808997</td>\n",
       "      <td>1.215533</td>\n",
       "      <td>-0.498407</td>\n",
       "      <td>2.135968</td>\n",
       "      <td>0.269020</td>\n",
       "      <td>0.318304</td>\n",
       "      <td>0.788587</td>\n",
       "      <td>1.395148</td>\n",
       "    </tr>\n",
       "    <tr>\n",
       "      <th>3</th>\n",
       "      <td>1.691550</td>\n",
       "      <td>-0.346811</td>\n",
       "      <td>0.487926</td>\n",
       "      <td>-0.809251</td>\n",
       "      <td>0.930918</td>\n",
       "      <td>2.491446</td>\n",
       "      <td>1.466525</td>\n",
       "      <td>-0.981875</td>\n",
       "      <td>1.032155</td>\n",
       "      <td>1.186068</td>\n",
       "      <td>-0.427544</td>\n",
       "      <td>1.184071</td>\n",
       "      <td>2.334574</td>\n",
       "    </tr>\n",
       "    <tr>\n",
       "      <th>4</th>\n",
       "      <td>0.295700</td>\n",
       "      <td>0.227694</td>\n",
       "      <td>1.840403</td>\n",
       "      <td>0.451946</td>\n",
       "      <td>1.281985</td>\n",
       "      <td>0.808997</td>\n",
       "      <td>0.663351</td>\n",
       "      <td>0.226796</td>\n",
       "      <td>0.401404</td>\n",
       "      <td>-0.319276</td>\n",
       "      <td>0.362177</td>\n",
       "      <td>0.449601</td>\n",
       "      <td>-0.037874</td>\n",
       "    </tr>\n",
       "  </tbody>\n",
       "</table>\n",
       "</div>"
      ],
      "text/plain": [
       "         0         1         2         3         4         5         6   \\\n",
       "0  1.518613 -0.562250  0.232053 -1.169593  1.913905  0.808997  1.034819   \n",
       "1  0.246290 -0.499413 -0.827996 -2.490847  0.018145  0.568648  0.733629   \n",
       "2  0.196879  0.021231  1.109334 -0.268738  0.088358  0.808997  1.215533   \n",
       "3  1.691550 -0.346811  0.487926 -0.809251  0.930918  2.491446  1.466525   \n",
       "4  0.295700  0.227694  1.840403  0.451946  1.281985  0.808997  0.663351   \n",
       "\n",
       "         7         8         9         10        11        12  \n",
       "0 -0.659563  1.224884  0.251717  0.362177  1.847920  1.013009  \n",
       "1 -0.820719 -0.544721 -0.293321  0.406051  1.113449  0.965242  \n",
       "2 -0.498407  2.135968  0.269020  0.318304  0.788587  1.395148  \n",
       "3 -0.981875  1.032155  1.186068 -0.427544  1.184071  2.334574  \n",
       "4  0.226796  0.401404 -0.319276  0.362177  0.449601 -0.037874  "
      ]
     },
     "execution_count": 14,
     "metadata": {},
     "output_type": "execute_result"
    }
   ],
   "source": [
    "# Podemos padronizar as features usando o módulo StandardScaler do scikit-learn\n",
    "scaler = StandardScaler().fit(features)\n",
    "z_features = scaler.transform(features)\n",
    "\n",
    "pd.DataFrame(z_features).head()"
   ]
  },
  {
   "cell_type": "code",
   "execution_count": 15,
   "id": "1b4ecf0f",
   "metadata": {},
   "outputs": [
    {
     "name": "stdout",
     "output_type": "stream",
     "text": [
      "Formato da matriz de covariâncias: (13, 13)\n",
      "Número de componentes: 13\n"
     ]
    },
    {
     "data": {
      "image/png": "[encoded data removed]",
      "text/plain": [
       "<Figure size 432x288 with 1 Axes>"
      ]
     },
     "metadata": {
      "needs_background": "light"
     },
     "output_type": "display_data"
    }
   ],
   "source": [
    "# Computando a matriz de covariâncias\n",
    "covariance_matrix = np.cov(z_features.T)\n",
    "print('Formato da matriz de covariâncias:', covariance_matrix.shape)\n",
    "\n",
    "pca = PCA().fit(covariance_matrix)\n",
    "print('Número de componentes:', pca.n_components_)\n",
    "\n",
    "# Podemos perceber pelo plot que de fato nós conseguimos explicar\n",
    "# boa parte da variânca dos dados com poucos componentes!!\n",
    "plt.title('Variância explicada acumulada')\n",
    "plt.xlabel('Número de componentes')\n",
    "plt.plot(np.cumsum(pca.explained_variance_) / sum(pca.explained_variance_))\n",
    "plt.show()"
   ]
  },
  {
   "cell_type": "markdown",
   "id": "437bd6d2",
   "metadata": {},
   "source": [
    "Seja $\\mathbf{X}_i = (X_{i,1}, \\dots, X_{i,13})$ a linha $i$ da matriz ``wine``. Seja $\\mathbf{Z}_i = (Z_{i,1}, \\dots, Z_{i,13})$ a linha $i$ da matriz ``wine`` PADRONIZADA. Isto é, $Z_{ij} = (X_{ij} - \\bar{x}_j )/s_j$ onde $\\bar{x}_j$ é a média aritmética e $s_j$ é o desvio-padrão da coluna $j$ da matriz ``wine``.\n",
    "\n",
    "Vamos considerar $Z_i$ como um vetor-coluna 13-dimensional. Ao invés de usarmos o vetor $Z_i$, estamos usando apenas o vetor $Y_i$ composto pelos dois índices formados pelos dois primeiros componentes principais:\n",
    "$$\\mathbf{Y}_i = \\begin{bmatrix}Y_{i1}\\\\Y_{i2}\\end{bmatrix} = \\begin{bmatrix}\\mathbf{v}'_1 Z_i\\\\\\mathbf{v}'_2 Z_i\\end{bmatrix} $$\n",
    "\n",
    "onde $\\mathbf{v}_1$ e $\\mathbf{v}_2$ são os dois primeiros autovetores da matriz de correlação de $\\mathbf{X}$."
   ]
  },
  {
   "cell_type": "markdown",
   "id": "d14a2e77",
   "metadata": {},
   "source": [
    "- Preencha os locais com (??) com os valores numéricos corretos (duas casa decimais apenas):\n",
    "\n",
    "$$\n",
    "\\begin{align}\n",
    "Y_{i1} & = (??) Z_{i1} + (??) Z_{i2} + (??) Z_{i3} + \\dots + (??) Z_{i13} \\\\\n",
    "Y_{i2} & = (??) Z_{i1} + (??) Z_{i2} + (??) Z_{i3} + \\dots + (??) Z_{i13} \\\\\n",
    "\\end{align}\n",
    "$$"
   ]
  },
  {
   "cell_type": "code",
   "execution_count": 16,
   "id": "7bf047a3",
   "metadata": {
    "scrolled": true
   },
   "outputs": [
    {
     "name": "stdout",
     "output_type": "stream",
     "text": [
      "Valores númericos para Y_i1: [-0.07  0.3   0.1   0.28 -0.09 -0.36 -0.4   0.33 -0.29  0.17 -0.32 -0.38\n",
      " -0.23]\n",
      "Valores númericos para Y_i2: [ 0.52  0.11  0.08 -0.26  0.27  0.05 -0.   -0.13  0.01  0.52 -0.28 -0.17\n",
      "  0.41]\n"
     ]
    }
   ],
   "source": [
    "print('Valores númericos para Y_i1:', np.round(pca.components_[0], 2))\n",
    "print('Valores númericos para Y_i2:', np.round(pca.components_[1], 2))"
   ]
  },
  {
   "cell_type": "markdown",
   "id": "7af9d7c4",
   "metadata": {},
   "source": [
    "- O último gráfico do script R apresentado na questão é um plot dos pontos $Y_i$ dos 178 vinhos. Identifique três regiões do plano $Y_1$, $Y_2$ que podem ser usadas para classificar futuras amostras de vinhos em uma das três categorias."
   ]
  },
  {
   "cell_type": "code",
   "execution_count": 17,
   "id": "5ea756ce",
   "metadata": {
    "scrolled": false
   },
   "outputs": [
    {
     "data": {
      "image/png": "[encoded data removed]",
      "text/plain": [
       "<Figure size 576x432 with 1 Axes>"
      ]
     },
     "metadata": {
      "needs_background": "light"
     },
     "output_type": "display_data"
    }
   ],
   "source": [
    "yi1 = pca.components_[0] @ z_features.T\n",
    "yi2 = pca.components_[1] @ z_features.T\n",
    "\n",
    "plt.figure(figsize=(8,6))\n",
    "plt.title('Scatterplot dos valores de Yi1 e Yi2')\n",
    "plt.scatter(yi1, yi2, s=16, c=labels)\n",
    "plt.xlabel('Valores de Yi1')\n",
    "plt.ylabel('Valores de Yi2')\n",
    "plt.show()"
   ]
  },
  {
   "cell_type": "code",
   "execution_count": 18,
   "id": "33a5a5bd",
   "metadata": {
    "scrolled": false
   },
   "outputs": [
    {
     "data": {
      "image/png": "[encoded data removed]",
      "text/plain": [
       "<IPython.core.display.Image object>"
      ]
     },
     "execution_count": 18,
     "metadata": {},
     "output_type": "execute_result"
    }
   ],
   "source": [
    "from IPython.display import Image\n",
    "Image('esboco-areas.png')"
   ]
  },
  {
   "cell_type": "markdown",
   "id": "af998f2d",
   "metadata": {},
   "source": [
    "Suponha que uma nova amostra de vinho tem sua composição química medida e encontra-se:\n",
    "\n",
    "$$ \\mathbf{x} = (13.95, 3.65, 2.25, 18.4, 90.18, 1.55, 0.48, 0.5, 1.34, 10.2, 0.71, 1.48, 587.14) $$\n",
    "\n",
    "Obtenha seu vetor $\\mathbf{z}$, as suas coordenadas $(y_1, y_2)$ e prediga o seu tipo."
   ]
  },
  {
   "cell_type": "code",
   "execution_count": 19,
   "id": "73bb21a8",
   "metadata": {},
   "outputs": [
    {
     "name": "stdout",
     "output_type": "stream",
     "text": [
      "Vetor z da nova amostra:\n",
      "[[ 1.17273835  1.1792167  -0.42590882 -0.3287952  -0.67134998 -1.19391704\n",
      "  -1.55541519  1.11315422 -0.43959594  2.22423597 -1.0856445  -1.5984409\n",
      "  -0.50873325]]\n",
      "\n",
      "Suas coordenadas (y1, y2):  (array([3.19596154]), array([1.94330925]))\n"
     ]
    }
   ],
   "source": [
    "new_wine = np.array([[13.95,3.65,2.25,18.4,90.18,1.55,0.48,0.5,1.34,10.2,0.71,1.48,587.14]])\n",
    "new_z = scaler.transform(new_wine)\n",
    "\n",
    "new_y1 = pca.components_[0] @ new_z.T\n",
    "new_y2 = pca.components_[1] @ new_z.T\n",
    "\n",
    "print('Vetor z da nova amostra:')\n",
    "print(new_z, end='\\n\\n')\n",
    "\n",
    "print('Suas coordenadas (y1, y2): ', (new_y1, new_y2))"
   ]
  },
  {
   "cell_type": "code",
   "execution_count": 20,
   "id": "b152f9c1",
   "metadata": {},
   "outputs": [
    {
     "data": {
      "image/png": "[encoded data removed]",
      "text/plain": [
       "<Figure size 720x576 with 1 Axes>"
      ]
     },
     "metadata": {
      "needs_background": "light"
     },
     "output_type": "display_data"
    }
   ],
   "source": [
    "# Ao plotarmos esse ponto, podemos perceber que iriamos predizer esse vinho como da classe 3 (Chardonnay)\n",
    "# Podemos também realizar cálculos similares aos que foram feitos no exercício dos dígitos!\n",
    "\n",
    "plt.figure(figsize=(10,8))\n",
    "plt.title('Scatterplot dos valores de Yi1 e Yi2')\n",
    "\n",
    "plt.scatter(yi1[labels == 1], yi2[labels == 1], s=15, label='classe 1 (Sauvignon Blanc)')\n",
    "plt.scatter(yi1[labels == 2], yi2[labels == 2], s=15, label='classe 2 (Cabernet)')\n",
    "plt.scatter(yi1[labels == 3], yi2[labels == 3], s=15, label='classe 3 (Chardonnay)')\n",
    "plt.scatter(new_y1, new_y2, s=60, marker='*', label='new wine')\n",
    "\n",
    "plt.legend()\n",
    "plt.xlabel('Valores de Yi1')\n",
    "plt.ylabel('Valores de Yi2')\n",
    "plt.show()"
   ]
  }
 ],
 "metadata": {
  "kernelspec": {
   "display_name": "Python 3",
   "language": "python",
   "name": "python3"
  },
  "language_info": {
   "codemirror_mode": {
    "name": "ipython",
    "version": 3
   },
   "file_extension": ".py",
   "mimetype": "text/x-python",
   "name": "python",
   "nbconvert_exporter": "python",
   "pygments_lexer": "ipython3",
   "version": "3.8.8"
  }
 },
 "nbformat": 4,
 "nbformat_minor": 5
}
