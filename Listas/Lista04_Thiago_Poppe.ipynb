{
 "cells": [
  {
   "cell_type": "markdown",
   "id": "947a5e5f",
   "metadata": {},
   "source": [
    "# Lista 04 - Fundamentos Estatísticos para Ciência dos Dados A\n",
    "- Aluno: Thiago Martin Poppe\n",
    "- Matrícula: 2017014324"
   ]
  },
  {
   "cell_type": "code",
   "execution_count": 1,
   "id": "a3de609a",
   "metadata": {},
   "outputs": [],
   "source": [
    "import numpy as np\n",
    "import pandas as pd\n",
    "import matplotlib.pyplot as plt"
   ]
  },
  {
   "cell_type": "markdown",
   "id": "714e0bfb",
   "metadata": {},
   "source": [
    "# Questão 01)"
   ]
  },
  {
   "cell_type": "code",
   "execution_count": 2,
   "id": "47a86251",
   "metadata": {},
   "outputs": [],
   "source": [
    "from scipy.stats import binom\n",
    "\n",
    "k = np.array(range(0, 21))\n",
    "X = binom(n=20, p=0.15) # iremos nos referenciar à X quando falarmos de Bin(n=20, \\theta=0.15)\n",
    "\n",
    "probs = X.pmf(k)\n",
    "cumulative_prob = np.cumsum(probs)"
   ]
  },
  {
   "cell_type": "markdown",
   "id": "f5cb5d68",
   "metadata": {},
   "source": [
    "- Obtenha o gráfico das probabilidades $\\mathbb{P}(X = k)$ e da função de probabilidade acumulada $\\mathbb{F}(x)$ para uma v.a. $X \\sim \\text{Bin}(n=20, \\, \\theta = 0.15)$. Em seguida, responda às questões abaixo."
   ]
  },
  {
   "cell_type": "code",
   "execution_count": 3,
   "id": "3298d07c",
   "metadata": {},
   "outputs": [
    {
     "data": {
      "image/png": "[encoded data removed]",
      "text/plain": [
       "<Figure size 864x288 with 2 Axes>"
      ]
     },
     "metadata": {
      "needs_background": "light"
     },
     "output_type": "display_data"
    }
   ],
   "source": [
    "fig, (ax1, ax2) = plt.subplots(ncols=2, figsize=(12,4))\n",
    "\n",
    "ax1.vlines(x=k, ymin=0, ymax=probs)\n",
    "ax2.plot(k, cumulative_prob, ds='steps')\n",
    "\n",
    "# Configurando o eixo X para representar os valores de k de 5 em 5\n",
    "xticks = list(filter(lambda x: x % 5 == 0, k))\n",
    "ax1.set_xticks(xticks)\n",
    "ax2.set_xticks(xticks)\n",
    "\n",
    "fig.tight_layout()\n",
    "fig.show()"
   ]
  },
  {
   "cell_type": "markdown",
   "id": "8203e78d",
   "metadata": {},
   "source": [
    "- Qual o valor k em que $\\mathbb{P}(X = k)$ é máxima? Quanto é esta probabilidade máxima?"
   ]
  },
  {
   "cell_type": "code",
   "execution_count": 4,
   "id": "615da883",
   "metadata": {
    "scrolled": true
   },
   "outputs": [
    {
     "name": "stdout",
     "output_type": "stream",
     "text": [
      "Probabilidade máxima será P(X = 3) = 0.24283\n"
     ]
    }
   ],
   "source": [
    "k_max = np.argmax(probs)\n",
    "print('Probabilidade máxima será P(X = {}) = {:.5f}'.format(k_max, probs[k_max]))"
   ]
  },
  {
   "cell_type": "markdown",
   "id": "53676a47",
   "metadata": {},
   "source": [
    "- VISUALMENTE, obtenha uma faixa de valores $(a, b)$ na qual a probabilidade de $X \\in (a, b)$ seja próxima de $1$. Procure grosseiramente obter a faixa mais estreita possível.\n",
    "\n",
    "\n",
    "- **Resposta:** Na faixa de valores $0 \\leq k \\leq 9$, a probabilidade será próxima de $1$."
   ]
  },
  {
   "cell_type": "markdown",
   "id": "2910954d",
   "metadata": {},
   "source": [
    "- O valor (teórico) de $\\mathbb{E}(X)$ no caso de uma binomial é $n\\theta$. Como é o comportamento da função $\\mathbb{P}(X = k)$ no entorno deste valor $\\mathbb{E}(X)$? Ela tem valores $\\mathbb{P}(X = k)$ relativamente altos?\n",
    "\n",
    "\n",
    "- **Resposta:** O valor teórico de $\\mathbb{E}(X)$ será igual à $n\\theta = 3$. No entorno desse valor, a função possui seus maiores valores, sendo um máximo global o valor de $\\mathbb{P}(X = 3)$."
   ]
  },
  {
   "cell_type": "markdown",
   "id": "732bbbdd",
   "metadata": {},
   "source": [
    "- Confirme esta impressão calculando $\\mathbb{P}(a \\leq X \\leq b)$ (o restante da questão mencionava funções em R)."
   ]
  },
  {
   "cell_type": "code",
   "execution_count": 5,
   "id": "8534ddd3",
   "metadata": {},
   "outputs": [
    {
     "name": "stdout",
     "output_type": "stream",
     "text": [
      "P(0 <= k <= 9) = 0.9997516180103744\n"
     ]
    }
   ],
   "source": [
    "# Os intervalos em Python são da forma [a, b).\n",
    "# Já em R, provavelmente temos intervalos fechados, por isso o uso da subtração por 0.01.\n",
    "\n",
    "print('P(0 <= k <= 9) =', np.sum(probs[0:10]))"
   ]
  },
  {
   "cell_type": "markdown",
   "id": "e0916010",
   "metadata": {},
   "source": [
    "- Use *qbinom* para obter o inteiro $k$ tal que $\\mathbb{F}(k) = \\mathbb{P}(X ≤ k) \\approx 0.95$."
   ]
  },
  {
   "cell_type": "code",
   "execution_count": 6,
   "id": "005f4b82",
   "metadata": {},
   "outputs": [
    {
     "name": "stdout",
     "output_type": "stream",
     "text": [
      "Valor de k = 6\n"
     ]
    }
   ],
   "source": [
    "print('Valor de k =', int(X.ppf(0.95)))"
   ]
  },
  {
   "cell_type": "markdown",
   "id": "90370eac",
   "metadata": {},
   "source": [
    "- Verifique o valor da probabilidade acumulada exata $\\mathbb{F}(k)$ obtida com o inteiro acima usando *pbinom*."
   ]
  },
  {
   "cell_type": "code",
   "execution_count": 7,
   "id": "b9938776",
   "metadata": {},
   "outputs": [
    {
     "name": "stdout",
     "output_type": "stream",
     "text": [
      "P(X <= 6) = 0.9780648991431549\n"
     ]
    }
   ],
   "source": [
    "print('P(X <= 6) =', X.cdf(6))"
   ]
  },
  {
   "cell_type": "markdown",
   "id": "eec1727f",
   "metadata": {},
   "source": [
    "- Gere 1000 valores aleatórios independentes de $X \\sim \\text{Bin}(n=20,\\, \\theta=0.15)$. Estes valores caíram, em sua maioria, na faixa que você escolheu mais acima? Qual a porcentagem de valores que caiu na faixa que você escolheu?"
   ]
  },
  {
   "cell_type": "code",
   "execution_count": 8,
   "id": "80992055",
   "metadata": {},
   "outputs": [
    {
     "name": "stdout",
     "output_type": "stream",
     "text": [
      "Porcentagem na faixa: 100.00%\n"
     ]
    }
   ],
   "source": [
    "values = X.rvs(size=1000, random_state=42) # Fixando o estado aleatório para reprodutibilidade\n",
    "filtered_values = list(filter(lambda v: v >= 0 and v <= 9, values))\n",
    "\n",
    "percentage = 100 * (len(filtered_values) / len(values))\n",
    "print('Porcentagem na faixa: {:.2f}%'.format(percentage))"
   ]
  },
  {
   "cell_type": "markdown",
   "id": "8187699f",
   "metadata": {},
   "source": [
    "- Compare os valores das probabilidades $\\mathbb{P}(X = k)$ para $k = 0, \\dots, 6$ e as frequências relativas destes inteiros nos 100 valores simulados. São parecidos?\n",
    "\n",
    "\n",
    "- **Resposta:** Através da tabela a seguir, onde o índice de cada linha representa o valor de $k$, nós podemos ver que os valores são bem parecidos."
   ]
  },
  {
   "cell_type": "code",
   "execution_count": 9,
   "id": "21f7b5b8",
   "metadata": {
    "scrolled": true
   },
   "outputs": [
    {
     "data": {
      "text/html": [
       "<div>\n",
       "<style scoped>\n",
       "    .dataframe tbody tr th:only-of-type {\n",
       "        vertical-align: middle;\n",
       "    }\n",
       "\n",
       "    .dataframe tbody tr th {\n",
       "        vertical-align: top;\n",
       "    }\n",
       "\n",
       "    .dataframe thead th {\n",
       "        text-align: right;\n",
       "    }\n",
       "</style>\n",
       "<table border=\"1\" class=\"dataframe\">\n",
       "  <thead>\n",
       "    <tr style=\"text-align: right;\">\n",
       "      <th></th>\n",
       "      <th>Probabilities</th>\n",
       "      <th>Frequency</th>\n",
       "    </tr>\n",
       "  </thead>\n",
       "  <tbody>\n",
       "    <tr>\n",
       "      <th>0</th>\n",
       "      <td>0.038760</td>\n",
       "      <td>0.042</td>\n",
       "    </tr>\n",
       "    <tr>\n",
       "      <th>1</th>\n",
       "      <td>0.136798</td>\n",
       "      <td>0.156</td>\n",
       "    </tr>\n",
       "    <tr>\n",
       "      <th>2</th>\n",
       "      <td>0.229338</td>\n",
       "      <td>0.226</td>\n",
       "    </tr>\n",
       "    <tr>\n",
       "      <th>3</th>\n",
       "      <td>0.242829</td>\n",
       "      <td>0.244</td>\n",
       "    </tr>\n",
       "    <tr>\n",
       "      <th>4</th>\n",
       "      <td>0.182122</td>\n",
       "      <td>0.165</td>\n",
       "    </tr>\n",
       "    <tr>\n",
       "      <th>5</th>\n",
       "      <td>0.102845</td>\n",
       "      <td>0.101</td>\n",
       "    </tr>\n",
       "    <tr>\n",
       "      <th>6</th>\n",
       "      <td>0.045373</td>\n",
       "      <td>0.048</td>\n",
       "    </tr>\n",
       "  </tbody>\n",
       "</table>\n",
       "</div>"
      ],
      "text/plain": [
       "   Probabilities  Frequency\n",
       "0       0.038760      0.042\n",
       "1       0.136798      0.156\n",
       "2       0.229338      0.226\n",
       "3       0.242829      0.244\n",
       "4       0.182122      0.165\n",
       "5       0.102845      0.101\n",
       "6       0.045373      0.048"
      ]
     },
     "execution_count": 9,
     "metadata": {},
     "output_type": "execute_result"
    }
   ],
   "source": [
    "frequencies = np.zeros(shape=(7,))\n",
    "for k in range(0, 7):\n",
    "    filtered_values = list(filter(lambda v: v == k, values))\n",
    "    frequencies[k] = len(filtered_values) / len(values)\n",
    "\n",
    "pd.DataFrame({\n",
    "    'Probabilities': probs[0:7],\n",
    "    'Frequency': frequencies\n",
    "})"
   ]
  },
  {
   "cell_type": "markdown",
   "id": "71e432e9",
   "metadata": {},
   "source": [
    "# Questão 02)\n",
    "\n",
    "- Nessa questão usarei $X_1$ e $X_2$ para representar as distribuições de Poisson com $\\lambda$ igual a 0.73 e 10, respectivamente."
   ]
  },
  {
   "cell_type": "code",
   "execution_count": 10,
   "id": "bf7b1982",
   "metadata": {},
   "outputs": [],
   "source": [
    "from scipy.stats import poisson\n",
    "\n",
    "k = np.array(range(0, 21))\n",
    "\n",
    "# Usaremos X1 para referenciar a v.a com \\lambda = 0.73 e X2 com \\lambda 10\n",
    "# Note também que no scipy, a distribuição na verdade possui parâmetro \\mu\n",
    "distributions = {\n",
    "    'X1': poisson(mu=0.73),\n",
    "    'X2': poisson(mu=10.0)\n",
    "}\n",
    "\n",
    "probabilities = {\n",
    "    'X1': distributions['X1'].pmf(k),\n",
    "    'X2': distributions['X2'].pmf(k)\n",
    "}\n",
    "\n",
    "cumulative_probs = {\n",
    "    'X1': np.cumsum(probabilities['X1']),\n",
    "    'X2': np.cumsum(probabilities['X2'])\n",
    "}"
   ]
  },
  {
   "cell_type": "markdown",
   "id": "2ade77cb",
   "metadata": {},
   "source": [
    "- Obtenha o gráfico das probabilidades $\\mathbb{P}(X = k)$ e da função de probabilidade acumulada $\\mathbb{F}(x)$ para uma v.a. $X \\sim \\text{Poisson}(\\lambda)$ usando dois valores: $\\lambda = 0.73$ e $\\lambda = 10$."
   ]
  },
  {
   "cell_type": "code",
   "execution_count": 11,
   "id": "db980992",
   "metadata": {
    "scrolled": false
   },
   "outputs": [
    {
     "data": {
      "image/png": "[encoded data removed]",
      "text/plain": [
       "<Figure size 864x576 with 4 Axes>"
      ]
     },
     "metadata": {
      "needs_background": "light"
     },
     "output_type": "display_data"
    }
   ],
   "source": [
    "fig, ((ax1, ax2), (ax3, ax4)) = plt.subplots(nrows=2, ncols=2, figsize=(12,8))\n",
    "\n",
    "# Definindo gráficos de X1\n",
    "ax1.set_title('P(X=k) com $\\lambda = 0.73$')\n",
    "ax2.set_title('F(x) com $\\lambda = 0.73$')\n",
    "\n",
    "ax1.vlines(x=k, ymin=0, ymax=probabilities['X1'])\n",
    "ax2.plot(k, cumulative_probs['X1'], ds='steps')\n",
    "\n",
    "# Definindo gráficos de X2\n",
    "ax3.set_title('P(X=k) com $\\lambda = 10$')\n",
    "ax4.set_title('F(x) com $\\lambda = 10$')\n",
    "\n",
    "ax3.vlines(x=k, ymin=0, ymax=probabilities['X2'])\n",
    "ax4.plot(k, cumulative_probs['X2'], ds='steps')\n",
    "\n",
    "# Configurando o eixo X para representar os valores de k de 5 em 5\n",
    "xticks = list(filter(lambda x: x % 5 == 0, k))\n",
    "ax1.set_xticks(xticks)\n",
    "ax2.set_xticks(xticks)\n",
    "ax3.set_xticks(xticks)\n",
    "ax4.set_xticks(xticks)\n",
    "\n",
    "fig.tight_layout()\n",
    "fig.show()"
   ]
  },
  {
   "cell_type": "markdown",
   "id": "33b3d23f",
   "metadata": {},
   "source": [
    "- O valor $k$ em que $\\mathbb{P}(X = k)$ é máximo é próximo de $\\mathbb{E}(X) = \\lambda$?\n",
    "\n",
    "\n",
    "- **Resposta**: Através de uma inspeção dos plots acima podemos afirmar que sim."
   ]
  },
  {
   "cell_type": "markdown",
   "id": "fe16653f",
   "metadata": {},
   "source": [
    "- Obtenha um intervalo de valores $(a, b)$, o mais curto possível grosseiramente, para o qual $\\mathbb{P}(X \\in (a, b)) \\approx 1$.\n",
    "\n",
    "\n",
    "- **Resposta:** Visualmente, para $X_1 \\sim \\text{Poisson}(\\lambda=0.73)$ teremos $\\mathbb{P}(X \\in [0,4]) \\approx 1$; já para $X_2 \\sim \\text{Poisson}(\\lambda=10)$ teremos $\\mathbb{P}(X \\in [1,20]) \\approx 1$."
   ]
  },
  {
   "cell_type": "markdown",
   "id": "a49fb558",
   "metadata": {},
   "source": [
    "- Usando *ppois* do R, calcule $\\mathbb{P}(a \\leq X \\leq b)$."
   ]
  },
  {
   "cell_type": "code",
   "execution_count": 12,
   "id": "e6a1a3c1",
   "metadata": {
    "scrolled": true
   },
   "outputs": [
    {
     "name": "stdout",
     "output_type": "stream",
     "text": [
      "P(0 <= X1 <= 4): 0.99905\n",
      "P(1 <= X2 <= 20): 0.99837\n"
     ]
    }
   ],
   "source": [
    "print('P(0 <= X1 <= 4): {:.5f}'.format(np.sum(probabilities['X1'][0:5])))\n",
    "print('P(1 <= X2 <= 20): {:.5f}'.format(np.sum(probabilities['X2'][1:21])))"
   ]
  },
  {
   "cell_type": "markdown",
   "id": "55fd4ac8",
   "metadata": {},
   "source": [
    "- Gere 200 valores aleatórios independentes de $X \\sim \\text{Poisson}(\\lambda)$ com os dois valores acima para $\\lambda$."
   ]
  },
  {
   "cell_type": "code",
   "execution_count": 13,
   "id": "6c2a558b",
   "metadata": {
    "scrolled": true
   },
   "outputs": [
    {
     "name": "stdout",
     "output_type": "stream",
     "text": [
      "Pequena amostra de X1: [0 2 0 0 0 2 0 2 0 0]\n",
      "Pequena amostra de X2: [12  6 11 14  7  8  9 11  8 10]\n"
     ]
    }
   ],
   "source": [
    "random_values = {\n",
    "    'X1': distributions['X1'].rvs(size=200, random_state=42),\n",
    "    'X2': distributions['X2'].rvs(size=200, random_state=42)\n",
    "}\n",
    "\n",
    "print('Pequena amostra de X1:', random_values['X1'][:10])\n",
    "print('Pequena amostra de X2:', random_values['X2'][:10])"
   ]
  },
  {
   "cell_type": "markdown",
   "id": "afcecb2e",
   "metadata": {},
   "source": [
    "- Compare os valores das probabilidades $\\mathbb{P}(X = k)$ para $k = 0, \\dots, 6$ e as frequências relativas destes inteiros nos 100 valores simulados. São parecidos?\n",
    "\n",
    "\n",
    "- **Resposta:** Através das tabelas a seguir, onde o índice de cada linha representa o valor de $k$, nós podemos ver que os valores são bem parecidos."
   ]
  },
  {
   "cell_type": "code",
   "execution_count": 14,
   "id": "5566d059",
   "metadata": {
    "scrolled": true
   },
   "outputs": [
    {
     "name": "stdout",
     "output_type": "stream",
     "text": [
      "Tabela para X1:\n"
     ]
    },
    {
     "data": {
      "text/html": [
       "<div>\n",
       "<style scoped>\n",
       "    .dataframe tbody tr th:only-of-type {\n",
       "        vertical-align: middle;\n",
       "    }\n",
       "\n",
       "    .dataframe tbody tr th {\n",
       "        vertical-align: top;\n",
       "    }\n",
       "\n",
       "    .dataframe thead th {\n",
       "        text-align: right;\n",
       "    }\n",
       "</style>\n",
       "<table border=\"1\" class=\"dataframe\">\n",
       "  <thead>\n",
       "    <tr style=\"text-align: right;\">\n",
       "      <th></th>\n",
       "      <th>Probabilities</th>\n",
       "      <th>Frequency</th>\n",
       "    </tr>\n",
       "  </thead>\n",
       "  <tbody>\n",
       "    <tr>\n",
       "      <th>0</th>\n",
       "      <td>0.481909</td>\n",
       "      <td>0.475</td>\n",
       "    </tr>\n",
       "    <tr>\n",
       "      <th>1</th>\n",
       "      <td>0.351794</td>\n",
       "      <td>0.355</td>\n",
       "    </tr>\n",
       "    <tr>\n",
       "      <th>2</th>\n",
       "      <td>0.128405</td>\n",
       "      <td>0.130</td>\n",
       "    </tr>\n",
       "    <tr>\n",
       "      <th>3</th>\n",
       "      <td>0.031245</td>\n",
       "      <td>0.030</td>\n",
       "    </tr>\n",
       "    <tr>\n",
       "      <th>4</th>\n",
       "      <td>0.005702</td>\n",
       "      <td>0.010</td>\n",
       "    </tr>\n",
       "    <tr>\n",
       "      <th>5</th>\n",
       "      <td>0.000833</td>\n",
       "      <td>0.000</td>\n",
       "    </tr>\n",
       "    <tr>\n",
       "      <th>6</th>\n",
       "      <td>0.000101</td>\n",
       "      <td>0.000</td>\n",
       "    </tr>\n",
       "  </tbody>\n",
       "</table>\n",
       "</div>"
      ],
      "text/plain": [
       "   Probabilities  Frequency\n",
       "0       0.481909      0.475\n",
       "1       0.351794      0.355\n",
       "2       0.128405      0.130\n",
       "3       0.031245      0.030\n",
       "4       0.005702      0.010\n",
       "5       0.000833      0.000\n",
       "6       0.000101      0.000"
      ]
     },
     "execution_count": 14,
     "metadata": {},
     "output_type": "execute_result"
    }
   ],
   "source": [
    "frequencies = np.zeros(shape=(7,))\n",
    "for k in range(0, 7):\n",
    "    filtered_values = list(filter(lambda v: v == k, random_values['X1']))\n",
    "    frequencies[k] = len(filtered_values) / len(random_values['X1'])\n",
    "\n",
    "print('Tabela para X1:')\n",
    "pd.DataFrame({\n",
    "    'Probabilities': probabilities['X1'][0:7],\n",
    "    'Frequency': frequencies\n",
    "})"
   ]
  },
  {
   "cell_type": "code",
   "execution_count": 15,
   "id": "6856a1dd",
   "metadata": {
    "scrolled": true
   },
   "outputs": [
    {
     "name": "stdout",
     "output_type": "stream",
     "text": [
      "Tabela para X2:\n"
     ]
    },
    {
     "data": {
      "text/html": [
       "<div>\n",
       "<style scoped>\n",
       "    .dataframe tbody tr th:only-of-type {\n",
       "        vertical-align: middle;\n",
       "    }\n",
       "\n",
       "    .dataframe tbody tr th {\n",
       "        vertical-align: top;\n",
       "    }\n",
       "\n",
       "    .dataframe thead th {\n",
       "        text-align: right;\n",
       "    }\n",
       "</style>\n",
       "<table border=\"1\" class=\"dataframe\">\n",
       "  <thead>\n",
       "    <tr style=\"text-align: right;\">\n",
       "      <th></th>\n",
       "      <th>Probabilities</th>\n",
       "      <th>Frequency</th>\n",
       "    </tr>\n",
       "  </thead>\n",
       "  <tbody>\n",
       "    <tr>\n",
       "      <th>0</th>\n",
       "      <td>0.000045</td>\n",
       "      <td>0.000</td>\n",
       "    </tr>\n",
       "    <tr>\n",
       "      <th>1</th>\n",
       "      <td>0.000454</td>\n",
       "      <td>0.005</td>\n",
       "    </tr>\n",
       "    <tr>\n",
       "      <th>2</th>\n",
       "      <td>0.002270</td>\n",
       "      <td>0.000</td>\n",
       "    </tr>\n",
       "    <tr>\n",
       "      <th>3</th>\n",
       "      <td>0.007567</td>\n",
       "      <td>0.030</td>\n",
       "    </tr>\n",
       "    <tr>\n",
       "      <th>4</th>\n",
       "      <td>0.018917</td>\n",
       "      <td>0.005</td>\n",
       "    </tr>\n",
       "    <tr>\n",
       "      <th>5</th>\n",
       "      <td>0.037833</td>\n",
       "      <td>0.040</td>\n",
       "    </tr>\n",
       "    <tr>\n",
       "      <th>6</th>\n",
       "      <td>0.063055</td>\n",
       "      <td>0.065</td>\n",
       "    </tr>\n",
       "  </tbody>\n",
       "</table>\n",
       "</div>"
      ],
      "text/plain": [
       "   Probabilities  Frequency\n",
       "0       0.000045      0.000\n",
       "1       0.000454      0.005\n",
       "2       0.002270      0.000\n",
       "3       0.007567      0.030\n",
       "4       0.018917      0.005\n",
       "5       0.037833      0.040\n",
       "6       0.063055      0.065"
      ]
     },
     "execution_count": 15,
     "metadata": {},
     "output_type": "execute_result"
    }
   ],
   "source": [
    "frequencies = np.zeros(shape=(7,))\n",
    "for k in range(0, 7):\n",
    "    filtered_values = list(filter(lambda v: v == k, random_values['X2']))\n",
    "    frequencies[k] = len(filtered_values) / len(random_values['X2'])\n",
    "\n",
    "print('Tabela para X2:')\n",
    "pd.DataFrame({\n",
    "    'Probabilities': probabilities['X2'][0:7],\n",
    "    'Frequency': frequencies\n",
    "})"
   ]
  },
  {
   "cell_type": "markdown",
   "id": "1917380b",
   "metadata": {},
   "source": [
    "# Questão 03)\n",
    "\n",
    "- Nessa questão usarei $X_1$, $X_2$ e $X_3$ para representar as distribuições de Zipf com $\\alpha$ igual a 0.5, 1 e 2, respectivamente."
   ]
  },
  {
   "cell_type": "code",
   "execution_count": 16,
   "id": "8b9aff6a",
   "metadata": {},
   "outputs": [],
   "source": [
    "from scipy.stats import zipf\n",
    "\n",
    "k = np.array(range(0, 21))\n",
    "alphas = [0.5, 1, 2]\n",
    "\n",
    "# Usaremos X1, X2 e X3 para referenciar as v.a. com alpha 0.5, 1 e 2 respectivamente\n",
    "# Note que no scipy, a distribuição recebe na verdade apenas \\alpha ao invés de 1 + \\alpha\n",
    "distributions = {\n",
    "    'X1': zipf(1 + alphas[0]),\n",
    "    'X2': zipf(1 + alphas[1]),\n",
    "    'X3': zipf(1 + alphas[2]),\n",
    "}\n",
    "\n",
    "probabilities = {\n",
    "    'X1': distributions['X1'].pmf(k),\n",
    "    'X2': distributions['X2'].pmf(k),\n",
    "    'X3': distributions['X3'].pmf(k),\n",
    "}\n",
    "\n",
    "cumulative_probs = {\n",
    "    'X1': np.cumsum(probabilities['X1']),\n",
    "    'X2': np.cumsum(probabilities['X2']),\n",
    "    'X3': np.cumsum(probabilities['X3'])\n",
    "}"
   ]
  },
  {
   "cell_type": "markdown",
   "id": "822f812b",
   "metadata": {},
   "source": [
    "- Usando os valores $\\alpha$ iguais à 1/2, 1 e 2, obtenha em R o gráfico das probabilidades $\\mathbb{P}(X = k)$ e da função de probabilidade acumulada $\\mathbb{F}(x)$ para uma v.a. $X \\sim \\text{Zipf}(\\alpha)$ com $N = \\infty$. Faça a escala horizontal variar nos inteiros de 1 a 20. Obtenha $\\mathbb{F}(x)$ usando o comando *cumsum* que retorna o vetor de somas acumuladas de um vetor."
   ]
  },
  {
   "cell_type": "code",
   "execution_count": 17,
   "id": "512b8c5f",
   "metadata": {
    "scrolled": false
   },
   "outputs": [
    {
     "data": {
      "image/png": "[encoded data removed]",
      "text/plain": [
       "<Figure size 576x576 with 6 Axes>"
      ]
     },
     "metadata": {
      "needs_background": "light"
     },
     "output_type": "display_data"
    }
   ],
   "source": [
    "fig, axs = plt.subplots(nrows=3, ncols=2, figsize=(8,8))\n",
    "\n",
    "xticks = list(filter(lambda x: x % 5 == 0, k))\n",
    "for i in range(3):\n",
    "    axs[i, 0].set_title(r'P(X=k) com $\\alpha = {}$'.format(alphas[i]))\n",
    "    axs[i, 1].set_title(r'F(x) com $\\alpha = {}$'.format(alphas[i]))\n",
    "    \n",
    "    axs[i, 0].vlines(x=k, ymin=0, ymax=probabilities[f'X{i+1}'])\n",
    "    axs[i, 1].plot(k, cumulative_probs[f'X{i+1}'], ds='steps')\n",
    "    \n",
    "    axs[i, 0].set_xticks(xticks)\n",
    "    axs[i, 1].set_xticks(xticks)\n",
    "\n",
    "fig.tight_layout()\n",
    "fig.show() "
   ]
  },
  {
   "cell_type": "markdown",
   "id": "6830b85c",
   "metadata": {},
   "source": [
    "- Obtenha a razão entre valores sucessivos de $\\mathbb{P}(X = k)$.\n",
    "- Isto é, mostre que:\n",
    "$$\n",
    "\\frac{\\mathbb{P}(X=k+1)}{\\mathbb{P}(X=k)} = \\left( \\frac{k}{k+1} \\right)^{1+\\alpha}\n",
    "$$\n",
    "- Perceba que, quando $k$ cresce, a razão é sempre menor que 1 mas cada vez mais próxima de 1, e portanto $\\mathbb{P}(X=k+1) \\approx \\mathbb{P}(X=k)$ se $k$ for bem grande."
   ]
  },
  {
   "cell_type": "code",
   "execution_count": 18,
   "id": "0d35477f",
   "metadata": {
    "scrolled": false
   },
   "outputs": [
    {
     "name": "stdout",
     "output_type": "stream",
     "text": [
      "Tabela da razão entre os valores sucessivos de P(X=k) para cada distribuição:\n"
     ]
    },
    {
     "data": {
      "text/html": [
       "<div>\n",
       "<style scoped>\n",
       "    .dataframe tbody tr th:only-of-type {\n",
       "        vertical-align: middle;\n",
       "    }\n",
       "\n",
       "    .dataframe tbody tr th {\n",
       "        vertical-align: top;\n",
       "    }\n",
       "\n",
       "    .dataframe thead th {\n",
       "        text-align: right;\n",
       "    }\n",
       "</style>\n",
       "<table border=\"1\" class=\"dataframe\">\n",
       "  <thead>\n",
       "    <tr style=\"text-align: right;\">\n",
       "      <th></th>\n",
       "      <th>X1</th>\n",
       "      <th>X2</th>\n",
       "      <th>X3</th>\n",
       "    </tr>\n",
       "  </thead>\n",
       "  <tbody>\n",
       "    <tr>\n",
       "      <th>0</th>\n",
       "      <td>0.000000</td>\n",
       "      <td>0.000000</td>\n",
       "      <td>0.000000</td>\n",
       "    </tr>\n",
       "    <tr>\n",
       "      <th>1</th>\n",
       "      <td>0.353553</td>\n",
       "      <td>0.250000</td>\n",
       "      <td>0.125000</td>\n",
       "    </tr>\n",
       "    <tr>\n",
       "      <th>2</th>\n",
       "      <td>0.544331</td>\n",
       "      <td>0.444444</td>\n",
       "      <td>0.296296</td>\n",
       "    </tr>\n",
       "    <tr>\n",
       "      <th>3</th>\n",
       "      <td>0.649519</td>\n",
       "      <td>0.562500</td>\n",
       "      <td>0.421875</td>\n",
       "    </tr>\n",
       "    <tr>\n",
       "      <th>4</th>\n",
       "      <td>0.715542</td>\n",
       "      <td>0.640000</td>\n",
       "      <td>0.512000</td>\n",
       "    </tr>\n",
       "    <tr>\n",
       "      <th>5</th>\n",
       "      <td>0.760726</td>\n",
       "      <td>0.694444</td>\n",
       "      <td>0.578704</td>\n",
       "    </tr>\n",
       "    <tr>\n",
       "      <th>6</th>\n",
       "      <td>0.793560</td>\n",
       "      <td>0.734694</td>\n",
       "      <td>0.629738</td>\n",
       "    </tr>\n",
       "    <tr>\n",
       "      <th>7</th>\n",
       "      <td>0.818488</td>\n",
       "      <td>0.765625</td>\n",
       "      <td>0.669922</td>\n",
       "    </tr>\n",
       "    <tr>\n",
       "      <th>8</th>\n",
       "      <td>0.838052</td>\n",
       "      <td>0.790123</td>\n",
       "      <td>0.702332</td>\n",
       "    </tr>\n",
       "    <tr>\n",
       "      <th>9</th>\n",
       "      <td>0.853815</td>\n",
       "      <td>0.810000</td>\n",
       "      <td>0.729000</td>\n",
       "    </tr>\n",
       "    <tr>\n",
       "      <th>10</th>\n",
       "      <td>0.866784</td>\n",
       "      <td>0.826446</td>\n",
       "      <td>0.751315</td>\n",
       "    </tr>\n",
       "    <tr>\n",
       "      <th>11</th>\n",
       "      <td>0.877642</td>\n",
       "      <td>0.840278</td>\n",
       "      <td>0.770255</td>\n",
       "    </tr>\n",
       "    <tr>\n",
       "      <th>12</th>\n",
       "      <td>0.886864</td>\n",
       "      <td>0.852071</td>\n",
       "      <td>0.786527</td>\n",
       "    </tr>\n",
       "    <tr>\n",
       "      <th>13</th>\n",
       "      <td>0.894794</td>\n",
       "      <td>0.862245</td>\n",
       "      <td>0.800656</td>\n",
       "    </tr>\n",
       "    <tr>\n",
       "      <th>14</th>\n",
       "      <td>0.901686</td>\n",
       "      <td>0.871111</td>\n",
       "      <td>0.813037</td>\n",
       "    </tr>\n",
       "    <tr>\n",
       "      <th>15</th>\n",
       "      <td>0.907730</td>\n",
       "      <td>0.878906</td>\n",
       "      <td>0.823975</td>\n",
       "    </tr>\n",
       "    <tr>\n",
       "      <th>16</th>\n",
       "      <td>0.913075</td>\n",
       "      <td>0.885813</td>\n",
       "      <td>0.833706</td>\n",
       "    </tr>\n",
       "    <tr>\n",
       "      <th>17</th>\n",
       "      <td>0.917835</td>\n",
       "      <td>0.891975</td>\n",
       "      <td>0.842421</td>\n",
       "    </tr>\n",
       "    <tr>\n",
       "      <th>18</th>\n",
       "      <td>0.922101</td>\n",
       "      <td>0.897507</td>\n",
       "      <td>0.850270</td>\n",
       "    </tr>\n",
       "    <tr>\n",
       "      <th>19</th>\n",
       "      <td>0.925945</td>\n",
       "      <td>0.902500</td>\n",
       "      <td>0.857375</td>\n",
       "    </tr>\n",
       "    <tr>\n",
       "      <th>20</th>\n",
       "      <td>0.929429</td>\n",
       "      <td>0.907029</td>\n",
       "      <td>0.863838</td>\n",
       "    </tr>\n",
       "  </tbody>\n",
       "</table>\n",
       "</div>"
      ],
      "text/plain": [
       "          X1        X2        X3\n",
       "0   0.000000  0.000000  0.000000\n",
       "1   0.353553  0.250000  0.125000\n",
       "2   0.544331  0.444444  0.296296\n",
       "3   0.649519  0.562500  0.421875\n",
       "4   0.715542  0.640000  0.512000\n",
       "5   0.760726  0.694444  0.578704\n",
       "6   0.793560  0.734694  0.629738\n",
       "7   0.818488  0.765625  0.669922\n",
       "8   0.838052  0.790123  0.702332\n",
       "9   0.853815  0.810000  0.729000\n",
       "10  0.866784  0.826446  0.751315\n",
       "11  0.877642  0.840278  0.770255\n",
       "12  0.886864  0.852071  0.786527\n",
       "13  0.894794  0.862245  0.800656\n",
       "14  0.901686  0.871111  0.813037\n",
       "15  0.907730  0.878906  0.823975\n",
       "16  0.913075  0.885813  0.833706\n",
       "17  0.917835  0.891975  0.842421\n",
       "18  0.922101  0.897507  0.850270\n",
       "19  0.925945  0.902500  0.857375\n",
       "20  0.929429  0.907029  0.863838"
      ]
     },
     "execution_count": 18,
     "metadata": {},
     "output_type": "execute_result"
    }
   ],
   "source": [
    "ratios = {\n",
    "    'X1': (k / (k+1))**(1+alphas[0]),\n",
    "    'X2': (k / (k+1))**(1+alphas[1]),\n",
    "    'X3': (k / (k+1))**(1+alphas[2])\n",
    "}\n",
    "\n",
    "print('Tabela da razão entre os valores sucessivos de P(X=k) para cada distribuição:')\n",
    "pd.DataFrame(ratios)"
   ]
  },
  {
   "cell_type": "markdown",
   "id": "b2ce27c8",
   "metadata": {},
   "source": [
    "- Quando $\\alpha > 0$ crescer, o que você espera que aconteça ao gerar inteiros Zipf com estes $\\alpha$ grandes em relação a gerar com $\\alpha$ apenas ligeiramente maior que 1.\n",
    "\n",
    "\n",
    "- **Resposta:** Todos os inteiros gerados serão 1. Podemos ver isso através do código a seguir, onde geramos amostras de 100 valores aleatórios que seguem uma distribuição Zipf com $\\alpha = 10$."
   ]
  },
  {
   "cell_type": "code",
   "execution_count": 19,
   "id": "2eac1872",
   "metadata": {
    "scrolled": true
   },
   "outputs": [
    {
     "data": {
      "text/plain": [
       "array([1, 1, 1, 1, 1, 1, 1, 1, 1, 1, 1, 1, 1, 1, 1, 1, 1, 1, 1, 1, 1, 1,\n",
       "       1, 1, 1, 1, 1, 1, 1, 1, 1, 1, 1, 1, 1, 1, 1, 1, 1, 1, 1, 1, 1, 1,\n",
       "       1, 1, 1, 1, 1, 1, 1, 1, 1, 1, 1, 1, 1, 1, 1, 1, 1, 1, 1, 1, 1, 1,\n",
       "       1, 1, 1, 1, 1, 1, 1, 1, 1, 1, 1, 1, 1, 1, 1, 1, 1, 1, 1, 1, 1, 1,\n",
       "       1, 1, 1, 1, 1, 1, 1, 1, 1, 1, 1, 1])"
      ]
     },
     "execution_count": 19,
     "metadata": {},
     "output_type": "execute_result"
    }
   ],
   "source": [
    "alpha = 10\n",
    "zipf(1 + alpha).rvs(size=100, random_state=42)"
   ]
  },
  {
   "cell_type": "markdown",
   "id": "ca907f12",
   "metadata": {},
   "source": [
    "- Faça um gráfico dos pontos $(\\log(k), \\log(\\mathbb{P}(X = k))$. O resultado é o que você esperava? Usando *abline(log(C), -(1+alpha))*, sobreponha uma reta com intercepto $\\log(C)$ e inclinação $−(1 + \\alpha)$."
   ]
  },
  {
   "cell_type": "code",
   "execution_count": 20,
   "id": "4f0181ce",
   "metadata": {
    "scrolled": true
   },
   "outputs": [
    {
     "data": {
      "image/png": "[encoded data removed]",
      "text/plain": [
       "<Figure size 864x288 with 3 Axes>"
      ]
     },
     "metadata": {
      "needs_background": "light"
     },
     "output_type": "display_data"
    }
   ],
   "source": [
    "from scipy.special import zetac\n",
    "\n",
    "# Ignorando possíveis erros relacionados com divisão por zero no cálculo do log\n",
    "np.seterr(divide='ignore')\n",
    "\n",
    "fig, axs = plt.subplots(ncols=3, figsize=(12,4))\n",
    "xticks = list(filter(lambda x: x % 5 == 0, k))\n",
    "\n",
    "for i in range(3):\n",
    "    axs[i].set_title(r'Distribuição com $\\alpha = {}$'.format(alphas[i]))\n",
    "    axs[i].scatter(np.log(k), np.log(probabilities[f'X{i+1}']))\n",
    "    \n",
    "    # Definindo a reta com o intercepto e inclinação solicitados\n",
    "    C = zetac(1 + alphas[i])\n",
    "    x = np.array(axs[i].get_xlim())\n",
    "    y = np.log(C) - (1 + alphas[i]) * x\n",
    "    axs[i].plot(x, y)\n",
    "    \n",
    "fig.tight_layout()\n",
    "fig.show() "
   ]
  },
  {
   "cell_type": "markdown",
   "id": "6a54ffa7",
   "metadata": {},
   "source": [
    "- De fato, como mencionado anteriormente, $\\mathbb{P}(X = k) \\approx \\mathbb{P}(X = k+1)$ para valores grandes de $k$.\n",
    "- Além disso, podemos notar que a depender do valor $\\alpha$ escolhido, a reta solicitada fica acima de todos os pontos ($\\alpha = 0.5$), intercepta todos os pontos ($\\alpha = 1.0$) ou fica abaixo de todos os pontos ($\\alpha = 2.0$)."
   ]
  },
  {
   "cell_type": "markdown",
   "id": "a87f7ea8",
   "metadata": {},
   "source": [
    "- Gere 400 valores de Zipf com $\\alpha$ igual a 1/2, 1 e 2. Verifique que apesar da maioria dos valores ficar num intervalo limitado, valores extremamente grandes (relativamente aos demais) são gerados com facilidade. Repita a geração algumas vezes para observar este efeito. Reporte na lista apenas uma dessas repetições."
   ]
  },
  {
   "cell_type": "code",
   "execution_count": 21,
   "id": "366fdca6",
   "metadata": {},
   "outputs": [],
   "source": [
    "# Irei considerar um valor x > 1 como um valor grande, relativamente aos demais.\n",
    "# O experimento será executado 10.000 vezes e iremos tirar\n",
    "# a média, mediana e desvio padrão da razão entre (# valores > 1) / (# total).\n",
    "\n",
    "n_iterations = 10000\n",
    "ratios = {'X1': [], 'X2': [], 'X3': []}\n",
    "\n",
    "for i in range(3):\n",
    "    for _ in range(n_iterations):\n",
    "        values = distributions[f'X{i+1}'].rvs(400)\n",
    "        ratios[f'X{i+1}'] += [len(list(filter(lambda x: x > 1, values))) / 400]"
   ]
  },
  {
   "cell_type": "code",
   "execution_count": 22,
   "id": "1d232077",
   "metadata": {},
   "outputs": [
    {
     "name": "stdout",
     "output_type": "stream",
     "text": [
      "Estatísticas relacionadas às porcentagens de valores maiores que 1\n"
     ]
    },
    {
     "data": {
      "text/html": [
       "<div>\n",
       "<style scoped>\n",
       "    .dataframe tbody tr th:only-of-type {\n",
       "        vertical-align: middle;\n",
       "    }\n",
       "\n",
       "    .dataframe tbody tr th {\n",
       "        vertical-align: top;\n",
       "    }\n",
       "\n",
       "    .dataframe thead th {\n",
       "        text-align: right;\n",
       "    }\n",
       "</style>\n",
       "<table border=\"1\" class=\"dataframe\">\n",
       "  <thead>\n",
       "    <tr style=\"text-align: right;\">\n",
       "      <th></th>\n",
       "      <th>mean</th>\n",
       "      <th>median</th>\n",
       "      <th>std</th>\n",
       "    </tr>\n",
       "  </thead>\n",
       "  <tbody>\n",
       "    <tr>\n",
       "      <th>X1</th>\n",
       "      <td>0.617428</td>\n",
       "      <td>0.6175</td>\n",
       "      <td>0.024458</td>\n",
       "    </tr>\n",
       "    <tr>\n",
       "      <th>X2</th>\n",
       "      <td>0.392286</td>\n",
       "      <td>0.3925</td>\n",
       "      <td>0.024665</td>\n",
       "    </tr>\n",
       "    <tr>\n",
       "      <th>X3</th>\n",
       "      <td>0.167755</td>\n",
       "      <td>0.1675</td>\n",
       "      <td>0.018538</td>\n",
       "    </tr>\n",
       "  </tbody>\n",
       "</table>\n",
       "</div>"
      ],
      "text/plain": [
       "        mean  median       std\n",
       "X1  0.617428  0.6175  0.024458\n",
       "X2  0.392286  0.3925  0.024665\n",
       "X3  0.167755  0.1675  0.018538"
      ]
     },
     "execution_count": 22,
     "metadata": {},
     "output_type": "execute_result"
    }
   ],
   "source": [
    "statistics = {\n",
    "    'X1': [np.mean(ratios['X1']), np.median(ratios['X1']), np.std(ratios['X1'], ddof=1)],\n",
    "    'X2': [np.mean(ratios['X2']), np.median(ratios['X2']), np.std(ratios['X2'], ddof=1)],\n",
    "    'X3': [np.mean(ratios['X3']), np.median(ratios['X3']), np.std(ratios['X3'], ddof=1)],\n",
    "}\n",
    "\n",
    "print('Estatísticas relacionadas às porcentagens de valores maiores que 1')\n",
    "pd.DataFrame(statistics, index=['mean','median','std']).T"
   ]
  }
 ],
 "metadata": {
  "kernelspec": {
   "display_name": "Python 3",
   "language": "python",
   "name": "python3"
  },
  "language_info": {
   "codemirror_mode": {
    "name": "ipython",
    "version": 3
   },
   "file_extension": ".py",
   "mimetype": "text/x-python",
   "name": "python",
   "nbconvert_exporter": "python",
   "pygments_lexer": "ipython3",
   "version": "3.8.8"
  }
 },
 "nbformat": 4,
 "nbformat_minor": 5
}
