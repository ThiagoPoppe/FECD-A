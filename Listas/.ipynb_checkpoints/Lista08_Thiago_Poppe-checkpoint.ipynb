{
 "cells": [
  {
   "cell_type": "markdown",
   "id": "318f4ce8",
   "metadata": {},
   "source": [
    "# Lista 08 - Fundamentos Estatísticos para Ciência dos Dados A\n",
    "- Aluno: Thiago Martin Poppe\n",
    "- Matrícula: 2017014324"
   ]
  },
  {
   "cell_type": "code",
   "execution_count": 1,
   "id": "09dcee02",
   "metadata": {},
   "outputs": [],
   "source": [
    "import numpy as np\n",
    "import pandas as pd\n",
    "import seaborn as sns"
   ]
  },
  {
   "cell_type": "markdown",
   "id": "22ec2600",
   "metadata": {},
   "source": [
    "# Exercícios do capítulo 06"
   ]
  },
  {
   "cell_type": "markdown",
   "id": "8d5d36b5",
   "metadata": {},
   "source": [
    "## Questão 03)\n",
    "Consideramos um modelo probabilístico para um problema de diagnóstico de falhas.\n",
    "\n",
    "Uma variável binária $C$ representa a integridade de uma unidade de disco: $C = 0$ significa que está operando\n",
    "normalmente e $C = 1$ significa que está em estado de falha. Quando a unidade está em funcionamento, monitora-se continuamente usando um temperatura e sensor de choque, e registra duas características binárias, $X$ e $Y$.\n",
    "\n",
    "Temos $X = 1$ se o drive foi sujeito a choque (por exemplo, caiu), e $X = 0$, caso contrário. Temos $Y = 1$ se a unidade a temperatura já foi acima de 70º e $Y = 0$, caso contrário.\n",
    "\n",
    "A tabela abaixo define a função de massa de probabilidade conjunta dessas três variáveis aleatórias:"
   ]
  },
  {
   "cell_type": "code",
   "execution_count": 2,
   "id": "23ea8a6c",
   "metadata": {},
   "outputs": [
    {
     "data": {
      "text/html": [
       "<div>\n",
       "<style scoped>\n",
       "    .dataframe tbody tr th:only-of-type {\n",
       "        vertical-align: middle;\n",
       "    }\n",
       "\n",
       "    .dataframe tbody tr th {\n",
       "        vertical-align: top;\n",
       "    }\n",
       "\n",
       "    .dataframe thead th {\n",
       "        text-align: right;\n",
       "    }\n",
       "</style>\n",
       "<table border=\"1\" class=\"dataframe\">\n",
       "  <thead>\n",
       "    <tr style=\"text-align: right;\">\n",
       "      <th></th>\n",
       "      <th>x</th>\n",
       "      <th>y</th>\n",
       "      <th>c</th>\n",
       "      <th>prob_conjunta</th>\n",
       "    </tr>\n",
       "  </thead>\n",
       "  <tbody>\n",
       "    <tr>\n",
       "      <th>0</th>\n",
       "      <td>0</td>\n",
       "      <td>0</td>\n",
       "      <td>0</td>\n",
       "      <td>0.10</td>\n",
       "    </tr>\n",
       "    <tr>\n",
       "      <th>1</th>\n",
       "      <td>0</td>\n",
       "      <td>1</td>\n",
       "      <td>0</td>\n",
       "      <td>0.20</td>\n",
       "    </tr>\n",
       "    <tr>\n",
       "      <th>2</th>\n",
       "      <td>1</td>\n",
       "      <td>0</td>\n",
       "      <td>0</td>\n",
       "      <td>0.20</td>\n",
       "    </tr>\n",
       "    <tr>\n",
       "      <th>3</th>\n",
       "      <td>1</td>\n",
       "      <td>1</td>\n",
       "      <td>0</td>\n",
       "      <td>0.10</td>\n",
       "    </tr>\n",
       "    <tr>\n",
       "      <th>4</th>\n",
       "      <td>0</td>\n",
       "      <td>0</td>\n",
       "      <td>1</td>\n",
       "      <td>0.00</td>\n",
       "    </tr>\n",
       "    <tr>\n",
       "      <th>5</th>\n",
       "      <td>0</td>\n",
       "      <td>1</td>\n",
       "      <td>1</td>\n",
       "      <td>0.10</td>\n",
       "    </tr>\n",
       "    <tr>\n",
       "      <th>6</th>\n",
       "      <td>1</td>\n",
       "      <td>0</td>\n",
       "      <td>1</td>\n",
       "      <td>0.05</td>\n",
       "    </tr>\n",
       "    <tr>\n",
       "      <th>7</th>\n",
       "      <td>1</td>\n",
       "      <td>1</td>\n",
       "      <td>1</td>\n",
       "      <td>0.25</td>\n",
       "    </tr>\n",
       "  </tbody>\n",
       "</table>\n",
       "</div>"
      ],
      "text/plain": [
       "   x  y  c  prob_conjunta\n",
       "0  0  0  0           0.10\n",
       "1  0  1  0           0.20\n",
       "2  1  0  0           0.20\n",
       "3  1  1  0           0.10\n",
       "4  0  0  1           0.00\n",
       "5  0  1  1           0.10\n",
       "6  1  0  1           0.05\n",
       "7  1  1  1           0.25"
      ]
     },
     "execution_count": 2,
     "metadata": {},
     "output_type": "execute_result"
    }
   ],
   "source": [
    "table = pd.DataFrame(\n",
    "    columns=['x', 'y', 'c', 'prob_conjunta'],\n",
    "    data=[\n",
    "        [0, 0, 0, 0.10],\n",
    "        [0, 1, 0, 0.20],\n",
    "        [1, 0, 0, 0.20],\n",
    "        [1, 1, 0, 0.10],\n",
    "        [0, 0, 1, 0.00],\n",
    "        [0, 1, 1, 0.10],\n",
    "        [1, 0, 1, 0.05],\n",
    "        [1, 1, 1, 0.25]\n",
    "    ]\n",
    ")\n",
    "\n",
    "table"
   ]
  },
  {
   "cell_type": "markdown",
   "id": "fdaa191e",
   "metadata": {},
   "source": [
    "- Qual a probabilidade $\\mathbb{P}(C=1)?$"
   ]
  },
  {
   "cell_type": "code",
   "execution_count": 3,
   "id": "3248a271",
   "metadata": {},
   "outputs": [
    {
     "name": "stdout",
     "output_type": "stream",
     "text": [
      "P(C = 1) = 0.4\n"
     ]
    }
   ],
   "source": [
    "# Basta fixarmos c = 1 e variar x e y\n",
    "\n",
    "probs = table[table['c'] == 1]['prob_conjunta']\n",
    "print('P(C = 1) =', probs.sum())"
   ]
  },
  {
   "cell_type": "markdown",
   "id": "a16a0842",
   "metadata": {},
   "source": [
    "- Qual é a probabilidade $\\mathbb{P}(C = 0\\,|\\,X = 1, Y = 0)?$"
   ]
  },
  {
   "cell_type": "code",
   "execution_count": 4,
   "id": "8cf36d33",
   "metadata": {},
   "outputs": [
    {
     "name": "stdout",
     "output_type": "stream",
     "text": [
      "P(C = 0 | X = 1, Y = 0) = 0.8\n"
     ]
    }
   ],
   "source": [
    "# Basta filtrarmos pela condicional e somarmos as probabilidades onde C = 0\n",
    "# Note que antes de somarmos nós devemos fazer com que as probabilidades somem 1\n",
    "\n",
    "aux = table[(table['x'] == 1) & (table['y'] == 0)].copy()\n",
    "aux['prob_conjunta'] = aux['prob_conjunta'] / aux['prob_conjunta'].sum()\n",
    "\n",
    "print('P(C = 0 | X = 1, Y = 0) =', aux[aux['c'] == 0]['prob_conjunta'].sum())"
   ]
  },
  {
   "cell_type": "markdown",
   "id": "ef47d929",
   "metadata": {},
   "source": [
    "- Qual é a probabilidade $\\mathbb{P}(X = 0, Y = 0)?$"
   ]
  },
  {
   "cell_type": "code",
   "execution_count": 5,
   "id": "ecfd10da",
   "metadata": {},
   "outputs": [
    {
     "name": "stdout",
     "output_type": "stream",
     "text": [
      "P(X = 0, Y = 0) = 0.1\n"
     ]
    }
   ],
   "source": [
    "# Basta fixarmos x = 0 e y = 0 e variar o valor de c\n",
    "\n",
    "probs = table[(table['x'] == 0) & (table['y'] == 0)]['prob_conjunta']\n",
    "print('P(X = 0, Y = 0) =', probs.sum())"
   ]
  },
  {
   "cell_type": "markdown",
   "id": "a9f1a2ec",
   "metadata": {},
   "source": [
    "- Qual é a probabilidade $\\mathbb{P}(C = 0|X = 0)?$"
   ]
  },
  {
   "cell_type": "code",
   "execution_count": 6,
   "id": "c9799b1b",
   "metadata": {},
   "outputs": [
    {
     "name": "stdout",
     "output_type": "stream",
     "text": [
      "P(C = 0 | X = 0) = 0.75\n"
     ]
    }
   ],
   "source": [
    "# Basta filtrarmos pela condicional e somarmos as probabilidades onde C = 0\n",
    "# Note que antes de somarmos nós devemos fazer com que as probabilidades somem 1\n",
    "\n",
    "aux = table[table['x'] == 0].copy()\n",
    "aux['prob_conjunta'] = aux['prob_conjunta'] / aux['prob_conjunta'].sum()\n",
    "\n",
    "print('P(C = 0 | X = 0) =', aux[aux['c'] == 0]['prob_conjunta'].sum())"
   ]
  },
  {
   "cell_type": "markdown",
   "id": "b9e457ce",
   "metadata": {},
   "source": [
    "- São $X$ e $Y$ independentes? Justifique sua resposta."
   ]
  },
  {
   "cell_type": "code",
   "execution_count": 7,
   "id": "cf84d516",
   "metadata": {},
   "outputs": [
    {
     "name": "stdout",
     "output_type": "stream",
     "text": [
      "P(X = 0, Y = 0) = 0.1\n",
      "P(X = 0) = 0.4\n",
      "P(Y = 0) = 0.35000000000000003\n"
     ]
    }
   ],
   "source": [
    "# Cálculo de P(X = 0, Y = 0)\n",
    "probs = table[(table['x'] == 0) & (table['y'] == 0)]['prob_conjunta']\n",
    "print('P(X = 0, Y = 0) =', probs.sum())\n",
    "\n",
    "# Cálculo de P(X = 0)\n",
    "probs = table[table['x'] == 0]['prob_conjunta']\n",
    "print('P(X = 0) =', probs.sum())\n",
    "\n",
    "# Cálculo de P(Y = 0)\n",
    "probs = table[table['y'] == 0]['prob_conjunta']\n",
    "print('P(Y = 0) =', probs.sum())"
   ]
  },
  {
   "cell_type": "markdown",
   "id": "eb54b2e2",
   "metadata": {},
   "source": [
    "**Resposta:** Temos diversas formas de verificar se duas variáveis são independentes. Uma forma simples é verificar se $\\mathbb{P}(X=x, Y=y) = \\mathbb{P}(X=x) * \\mathbb{P}(Y=y)$. Podemos observar que para $x=0$ e $y=0$ essa igualdade não é válida, uma vez que teremos que $\\mathbb{P}(X=0, Y=0) = 0.1$ (como calculado previamente) e que $\\mathbb{P}(X=0) * \\mathbb{P}(Y=0) = 0.4 * 0.35 = 0.14$."
   ]
  },
  {
   "cell_type": "markdown",
   "id": "ad9bc8f4",
   "metadata": {},
   "source": [
    "- $X$ e $Y$ são condicionalmente independentes dado $C$? Isto é, temos $\\mathbb{P}(X = x, Y = y\\,|\\,C = c) =\n",
    "\\mathbb{P}(X = x\\,|\\,C = c)\\,\\mathbb{P}(Y = y\\,|\\,C = c)?$"
   ]
  },
  {
   "cell_type": "code",
   "execution_count": 8,
   "id": "b0cb028b",
   "metadata": {},
   "outputs": [
    {
     "name": "stdout",
     "output_type": "stream",
     "text": [
      "P(X = 0, Y = 0 | C = 0) = 0.16666666666666669\n",
      "P(X = 0 | C = 0) = 0.5\n",
      "P(Y = 0 | C = 0) = 0.5\n"
     ]
    }
   ],
   "source": [
    "# Cálculo de P(X = 0, Y = 0 | C = 0)\n",
    "aux = table[table['c'] == 0].copy()\n",
    "aux['prob_conjunta'] = aux['prob_conjunta'] / aux['prob_conjunta'].sum()\n",
    "print('P(X = 0, Y = 0 | C = 0) =', aux[(aux['x'] == 0) & (aux['y'] == 0)]['prob_conjunta'].sum())\n",
    "\n",
    "# Cálculo de P(X = 0 | C = 0)\n",
    "aux = table[table['c'] == 0].copy()\n",
    "aux['prob_conjunta'] = aux['prob_conjunta'] / aux['prob_conjunta'].sum()\n",
    "print('P(X = 0 | C = 0) =', aux[aux['x'] == 0]['prob_conjunta'].sum())\n",
    "\n",
    "# Cálculo de P(Y = 0 | C = 0)\n",
    "aux = table[table['c'] == 0].copy()\n",
    "aux['prob_conjunta'] = aux['prob_conjunta'] / aux['prob_conjunta'].sum()\n",
    "print('P(Y = 0 | C = 0) =', aux[aux['y'] == 0]['prob_conjunta'].sum())"
   ]
  },
  {
   "cell_type": "markdown",
   "id": "fca6a06b",
   "metadata": {},
   "source": [
    "**Resposta:** Quando tomamos $x=0$, $y=0$ e $c=0$ percebemos que essa igualdade não é válida. Sendo assim, as variáveis $X$ e $Y$ não são condicionalmente independentes, uma vez que $\\mathbb{P}(X=0, Y=0 \\,|\\, C=0) \\approx 0.167$ e que $\\mathbb{P}(X=0\\,|\\,C=0)*\\mathbb{P}(Y=0\\,|\\,C=0) = 0.5*0.5 = 0.25$."
   ]
  },
  {
   "cell_type": "markdown",
   "id": "4de423a3",
   "metadata": {},
   "source": [
    "# Exercícios do capítulo 07"
   ]
  },
  {
   "cell_type": "markdown",
   "id": "57aeaf28",
   "metadata": {},
   "source": [
    "## Questão 08)"
   ]
  },
  {
   "cell_type": "markdown",
   "id": "36fd9531",
   "metadata": {},
   "source": [
    "A distância de Mahalanobis entre um ponto aleatório gaussiano $X$ em $\\mathbb{R}^p$ e o seu perfil esperado $\\mathbb{E}(X) = \\mu$ é dada pela seguinte fórmula, onde $\\Sigma$ é a matriz $p \\times p$ de covariância de $X$:\n",
    "$$ D^2 = (X - \\mu)' \\, \\Sigma^{-1}(X - \\mu) $$"
   ]
  },
  {
   "cell_type": "markdown",
   "id": "629e3be0",
   "metadata": {},
   "source": [
    "- A quantidade $D^2$ tem um valor típico ou valor esperado $\\mathbb{E}(D^2) = \\,??$\n",
    "- $D^2$ possui um afastamento típico de seu valor esperado. Qual o desvio-padrão de $D^2$, isto é $\\sqrt{\\mathbb{V}(D^2)} = \\,??$\n",
    "- Mais que isto, não somente estes dois resumos da distribuição de $D^2$ são conhecidos mas a própria distribuição de $D^2$ é conhecida. $D^2 \\sim \\,??$"
   ]
  },
  {
   "cell_type": "markdown",
   "id": "971d28b0",
   "metadata": {},
   "source": [
    "**Resposta:** Quando $X \\sim N_p(\\mu, \\Sigma)$ nós teremos que $D^2 \\sim \\chi^2_p$, onde $\\chi^2_p$ denota a distribuição qui-quadrado com $p$ graus de liberdade. Sendo assim, teremos que $\\mathbb{E}(D^2) = \\mathbb{E}(\\chi^2_p) = p$ e que $\\sqrt{\\mathbb{V}(D^2)} = \\sqrt{\\mathbb{V}(\\chi^2_p)} = \\sqrt{2p}$."
   ]
  },
  {
   "cell_type": "markdown",
   "id": "4cef25d1",
   "metadata": {},
   "source": [
    "- Fixando uma constante $c$ qualquer, o conjunto de pontos $\\mathbf{x} \\in \\mathbb{R}^p$ que satisfazem $D^2 = c$ formam um elipsóide em $p$ dimensões. Isto é, os pontos $\\mathbf{x}$ que estão a uma distância $D^2$ igual a $c$ do seu perfil esperado formam um elipsóide. Quais são os eixos deste elipsóide e os seus tamanhos relativos?"
   ]
  },
  {
   "cell_type": "markdown",
   "id": "794bf384",
   "metadata": {},
   "source": [
    "**Resposta:** Teremos que os eixos deste elipsóide serão iguais aos autovetores da matriz de covariância $\\Sigma$ e os seus tamanhos relativos serão a raiz quadrada dos seus respectivos autovalores."
   ]
  },
  {
   "cell_type": "markdown",
   "id": "e1a59f3b",
   "metadata": {},
   "source": [
    "- E possível mostrar que, com probabilidade $1 - \\alpha$, o vetor aleatório $X$ deve cair dentro da\n",
    "elipse $D^2 = c$ onde $c = \\chi^2_p(\\alpha)$ é o quantil $(1 - \\alpha)100\\%$ de uma distribuição qui-quadrado\n",
    "com $p$ graus de liberdade onde $p$ é a dimensão do vetor $X$. No caso particular de um vetor bidimensional, o valor de $c$ associado com a probabilidade $1-\\alpha = 0.95$ é igual a $c = 9.21$. Assim, se $X = (X1, X2)$ estiver fora dessa elipse (isto é, se $D^2 > 9.21$), o ponto pode ser consirado um tanto anômalo ou extremo.\n",
    "\n",
    "\n",
    "- O arquivo `stiffness.txt` contém quatro tipos de medições da rigidez de pranchas de madeira. A primeira é obtida aplicando-se uma onda de choque através da prancha, a segunda aplicando-se uma vibração à prancha e as outas duas são obtidas por meio de testes estáticos. Assuma que cada uma das 4 medições em uma prancha são instâncias de um vetor $N_4(\\mu, \\Sigma)$. Estime o vetor $\\mu$ e a matriz $(4 \\times 4)$ $\\Sigma$ usando os dados da amostra. A seguir, usando estes valores estimados como se fossem os verdadeiros valores de $\\mu$ e $\\Sigma$, calcule o valor de $D^2$ para cada ponto da amostra. Quais pontos parecem extremos? Olhando as variáveis INDIVIDUALMENTE ou em pares através de scatterplots seria possível detectar estes pontos extremos? Faça um scatterplot dos dados para entender sua resposta.\n",
    "\n",
    "\n",
    "- **Nota:** os dados podem ser encontrados em: https://homepages.dcc.ufmg.br/~assuncao/EstatCC/Dados/stiffness.txt."
   ]
  },
  {
   "cell_type": "code",
   "execution_count": 9,
   "id": "9af94896",
   "metadata": {},
   "outputs": [
    {
     "data": {
      "text/html": [
       "<div>\n",
       "<style scoped>\n",
       "    .dataframe tbody tr th:only-of-type {\n",
       "        vertical-align: middle;\n",
       "    }\n",
       "\n",
       "    .dataframe tbody tr th {\n",
       "        vertical-align: top;\n",
       "    }\n",
       "\n",
       "    .dataframe thead th {\n",
       "        text-align: right;\n",
       "    }\n",
       "</style>\n",
       "<table border=\"1\" class=\"dataframe\">\n",
       "  <thead>\n",
       "    <tr style=\"text-align: right;\">\n",
       "      <th></th>\n",
       "      <th>m1</th>\n",
       "      <th>m2</th>\n",
       "      <th>m3</th>\n",
       "      <th>m4</th>\n",
       "    </tr>\n",
       "  </thead>\n",
       "  <tbody>\n",
       "    <tr>\n",
       "      <th>0</th>\n",
       "      <td>1889</td>\n",
       "      <td>1651</td>\n",
       "      <td>1561</td>\n",
       "      <td>1778</td>\n",
       "    </tr>\n",
       "    <tr>\n",
       "      <th>1</th>\n",
       "      <td>2403</td>\n",
       "      <td>2048</td>\n",
       "      <td>2087</td>\n",
       "      <td>2197</td>\n",
       "    </tr>\n",
       "    <tr>\n",
       "      <th>2</th>\n",
       "      <td>2119</td>\n",
       "      <td>1700</td>\n",
       "      <td>1815</td>\n",
       "      <td>2222</td>\n",
       "    </tr>\n",
       "    <tr>\n",
       "      <th>3</th>\n",
       "      <td>1645</td>\n",
       "      <td>1627</td>\n",
       "      <td>1110</td>\n",
       "      <td>1533</td>\n",
       "    </tr>\n",
       "    <tr>\n",
       "      <th>4</th>\n",
       "      <td>1976</td>\n",
       "      <td>1916</td>\n",
       "      <td>1614</td>\n",
       "      <td>1883</td>\n",
       "    </tr>\n",
       "  </tbody>\n",
       "</table>\n",
       "</div>"
      ],
      "text/plain": [
       "     m1    m2    m3    m4\n",
       "0  1889  1651  1561  1778\n",
       "1  2403  2048  2087  2197\n",
       "2  2119  1700  1815  2222\n",
       "3  1645  1627  1110  1533\n",
       "4  1976  1916  1614  1883"
      ]
     },
     "execution_count": 9,
     "metadata": {},
     "output_type": "execute_result"
    }
   ],
   "source": [
    "filepath = 'stiffness.txt' # Insira aqui o caminho para os dados\n",
    "data = pd.read_table('stiffness.txt', sep='\\s+', header=None)\n",
    "\n",
    "# A última coluna do arquivo foi desconsiderada, assumindo apenas as 4 primeiras como as variáveis\n",
    "data = data.iloc[:, :4]\n",
    "data.columns = ['m1', 'm2', 'm3', 'm4']\n",
    "\n",
    "data.head()"
   ]
  },
  {
   "cell_type": "code",
   "execution_count": 10,
   "id": "3e97e591",
   "metadata": {},
   "outputs": [
    {
     "name": "stdout",
     "output_type": "stream",
     "text": [
      "Vetor mu calculado:\n",
      "m1    1906.100000\n",
      "m2    1749.533333\n",
      "m3    1509.133333\n",
      "m4    1724.966667\n",
      "dtype: float64\n",
      "\n",
      "Matriz de covariância encontrada:\n",
      "[[105616.3         94613.53103448  87289.71034483  94230.72758621]\n",
      " [ 94613.53103448 101510.11954023  76137.09885057  81064.36321839]\n",
      " [ 87289.71034483  76137.09885057  91917.08505747  90352.38390805]\n",
      " [ 94230.72758621  81064.36321839  90352.38390805 104227.96436782]]\n"
     ]
    }
   ],
   "source": [
    "# Estimando mu e sigma a partir da amostra (arredondaremos os valores para 5 casas decimais)\n",
    "\n",
    "mu = data.mean()\n",
    "sigma = np.cov(data.T)\n",
    "\n",
    "print('Vetor mu calculado:')\n",
    "print(mu)\n",
    "\n",
    "print('\\nMatriz de covariância encontrada:')\n",
    "print(sigma)"
   ]
  },
  {
   "cell_type": "code",
   "execution_count": 11,
   "id": "ddc9e1d6",
   "metadata": {},
   "outputs": [
    {
     "data": {
      "text/html": [
       "<div>\n",
       "<style scoped>\n",
       "    .dataframe tbody tr th:only-of-type {\n",
       "        vertical-align: middle;\n",
       "    }\n",
       "\n",
       "    .dataframe tbody tr th {\n",
       "        vertical-align: top;\n",
       "    }\n",
       "\n",
       "    .dataframe thead th {\n",
       "        text-align: right;\n",
       "    }\n",
       "</style>\n",
       "<table border=\"1\" class=\"dataframe\">\n",
       "  <thead>\n",
       "    <tr style=\"text-align: right;\">\n",
       "      <th></th>\n",
       "      <th>m1</th>\n",
       "      <th>m2</th>\n",
       "      <th>m3</th>\n",
       "      <th>m4</th>\n",
       "      <th>D2</th>\n",
       "    </tr>\n",
       "  </thead>\n",
       "  <tbody>\n",
       "    <tr>\n",
       "      <th>0</th>\n",
       "      <td>1889</td>\n",
       "      <td>1651</td>\n",
       "      <td>1561</td>\n",
       "      <td>1778</td>\n",
       "      <td>0.600013</td>\n",
       "    </tr>\n",
       "    <tr>\n",
       "      <th>1</th>\n",
       "      <td>2403</td>\n",
       "      <td>2048</td>\n",
       "      <td>2087</td>\n",
       "      <td>2197</td>\n",
       "      <td>5.477020</td>\n",
       "    </tr>\n",
       "    <tr>\n",
       "      <th>2</th>\n",
       "      <td>2119</td>\n",
       "      <td>1700</td>\n",
       "      <td>1815</td>\n",
       "      <td>2222</td>\n",
       "      <td>7.616644</td>\n",
       "    </tr>\n",
       "    <tr>\n",
       "      <th>3</th>\n",
       "      <td>1645</td>\n",
       "      <td>1627</td>\n",
       "      <td>1110</td>\n",
       "      <td>1533</td>\n",
       "      <td>5.207610</td>\n",
       "    </tr>\n",
       "    <tr>\n",
       "      <th>4</th>\n",
       "      <td>1976</td>\n",
       "      <td>1916</td>\n",
       "      <td>1614</td>\n",
       "      <td>1883</td>\n",
       "      <td>1.398078</td>\n",
       "    </tr>\n",
       "  </tbody>\n",
       "</table>\n",
       "</div>"
      ],
      "text/plain": [
       "     m1    m2    m3    m4        D2\n",
       "0  1889  1651  1561  1778  0.600013\n",
       "1  2403  2048  2087  2197  5.477020\n",
       "2  2119  1700  1815  2222  7.616644\n",
       "3  1645  1627  1110  1533  5.207610\n",
       "4  1976  1916  1614  1883  1.398078"
      ]
     },
     "execution_count": 11,
     "metadata": {},
     "output_type": "execute_result"
    }
   ],
   "source": [
    "# Calculando a distância de Mahalanobis para cada ponto da amostra\n",
    "def mahalanobis_distance(X):\n",
    "    return (X - mu).T @ np.linalg.inv(sigma) @ (X - mu)\n",
    "\n",
    "data['D2'] = data.apply(mahalanobis_distance, axis=1)\n",
    "data.head()"
   ]
  },
  {
   "cell_type": "code",
   "execution_count": 12,
   "id": "37d4c6b4",
   "metadata": {},
   "outputs": [
    {
     "data": {
      "text/html": [
       "<div>\n",
       "<style scoped>\n",
       "    .dataframe tbody tr th:only-of-type {\n",
       "        vertical-align: middle;\n",
       "    }\n",
       "\n",
       "    .dataframe tbody tr th {\n",
       "        vertical-align: top;\n",
       "    }\n",
       "\n",
       "    .dataframe thead th {\n",
       "        text-align: right;\n",
       "    }\n",
       "</style>\n",
       "<table border=\"1\" class=\"dataframe\">\n",
       "  <thead>\n",
       "    <tr style=\"text-align: right;\">\n",
       "      <th></th>\n",
       "      <th>m1</th>\n",
       "      <th>m2</th>\n",
       "      <th>m3</th>\n",
       "      <th>m4</th>\n",
       "      <th>D2</th>\n",
       "    </tr>\n",
       "  </thead>\n",
       "  <tbody>\n",
       "    <tr>\n",
       "      <th>8</th>\n",
       "      <td>2983</td>\n",
       "      <td>2794</td>\n",
       "      <td>2412</td>\n",
       "      <td>2581</td>\n",
       "      <td>12.264755</td>\n",
       "    </tr>\n",
       "    <tr>\n",
       "      <th>15</th>\n",
       "      <td>1954</td>\n",
       "      <td>2149</td>\n",
       "      <td>1180</td>\n",
       "      <td>1281</td>\n",
       "      <td>16.847407</td>\n",
       "    </tr>\n",
       "    <tr>\n",
       "      <th>20</th>\n",
       "      <td>2276</td>\n",
       "      <td>2189</td>\n",
       "      <td>1547</td>\n",
       "      <td>2111</td>\n",
       "      <td>9.898038</td>\n",
       "    </tr>\n",
       "  </tbody>\n",
       "</table>\n",
       "</div>"
      ],
      "text/plain": [
       "      m1    m2    m3    m4         D2\n",
       "8   2983  2794  2412  2581  12.264755\n",
       "15  1954  2149  1180  1281  16.847407\n",
       "20  2276  2189  1547  2111   9.898038"
      ]
     },
     "execution_count": 12,
     "metadata": {},
     "output_type": "execute_result"
    }
   ],
   "source": [
    "# Recuperando pontos que são anômalos (D2 > 9.21)\n",
    "data[data['D2'] > 9.21]"
   ]
  },
  {
   "cell_type": "code",
   "execution_count": 13,
   "id": "58b71a55",
   "metadata": {},
   "outputs": [
    {
     "data": {
      "text/plain": [
       "<seaborn.axisgrid.PairGrid at 0x7fe1f29c0d30>"
      ]
     },
     "execution_count": 13,
     "metadata": {},
     "output_type": "execute_result"
    },
    {
     "data": {
      "image/png": "[encoded data removed]",
      "text/plain": [
       "<Figure size 781.25x720 with 20 Axes>"
      ]
     },
     "metadata": {
      "needs_background": "light"
     },
     "output_type": "display_data"
    }
   ],
   "source": [
    "# Criando nova coluna para dizer se um ponto é anômalo ou não (melhor visualização)\n",
    "data['anomaly'] = data['D2'].apply(lambda x: x > 9.21)\n",
    "\n",
    "sns.pairplot(data, vars=data.columns[:4], hue='anomaly', diag_kind='hist')"
   ]
  },
  {
   "cell_type": "markdown",
   "id": "db42f07c",
   "metadata": {},
   "source": [
    "Podemos notar que de fato algumas anomalias podem ser percebidas na análise dos scatterplots (não tão facilmente como observar o valor de $D^2$), porém, não conseguimos dizer a priori se todas as anomalias poderão ser percebidas através desse método."
   ]
  },
  {
   "cell_type": "markdown",
   "id": "a864431b",
   "metadata": {},
   "source": [
    "## Questão 09)\n",
    "\n",
    "- **Nota:** Para esse exercício foi necessário o uso do dataset Iris, disponibilizado no ``UCI - Machine Learning Repository`` em https://archive.ics.uci.edu/ml/datasets/iris."
   ]
  },
  {
   "cell_type": "code",
   "execution_count": 14,
   "id": "20a37d0d",
   "metadata": {},
   "outputs": [
    {
     "data": {
      "text/html": [
       "<div>\n",
       "<style scoped>\n",
       "    .dataframe tbody tr th:only-of-type {\n",
       "        vertical-align: middle;\n",
       "    }\n",
       "\n",
       "    .dataframe tbody tr th {\n",
       "        vertical-align: top;\n",
       "    }\n",
       "\n",
       "    .dataframe thead th {\n",
       "        text-align: right;\n",
       "    }\n",
       "</style>\n",
       "<table border=\"1\" class=\"dataframe\">\n",
       "  <thead>\n",
       "    <tr style=\"text-align: right;\">\n",
       "      <th></th>\n",
       "      <th>sepal_length</th>\n",
       "      <th>sepal_width</th>\n",
       "      <th>petal_length</th>\n",
       "      <th>petal_width</th>\n",
       "      <th>class</th>\n",
       "    </tr>\n",
       "  </thead>\n",
       "  <tbody>\n",
       "    <tr>\n",
       "      <th>0</th>\n",
       "      <td>5.1</td>\n",
       "      <td>3.5</td>\n",
       "      <td>1.4</td>\n",
       "      <td>0.2</td>\n",
       "      <td>Iris-setosa</td>\n",
       "    </tr>\n",
       "    <tr>\n",
       "      <th>1</th>\n",
       "      <td>4.9</td>\n",
       "      <td>3.0</td>\n",
       "      <td>1.4</td>\n",
       "      <td>0.2</td>\n",
       "      <td>Iris-setosa</td>\n",
       "    </tr>\n",
       "    <tr>\n",
       "      <th>2</th>\n",
       "      <td>4.7</td>\n",
       "      <td>3.2</td>\n",
       "      <td>1.3</td>\n",
       "      <td>0.2</td>\n",
       "      <td>Iris-setosa</td>\n",
       "    </tr>\n",
       "    <tr>\n",
       "      <th>3</th>\n",
       "      <td>4.6</td>\n",
       "      <td>3.1</td>\n",
       "      <td>1.5</td>\n",
       "      <td>0.2</td>\n",
       "      <td>Iris-setosa</td>\n",
       "    </tr>\n",
       "    <tr>\n",
       "      <th>4</th>\n",
       "      <td>5.0</td>\n",
       "      <td>3.6</td>\n",
       "      <td>1.4</td>\n",
       "      <td>0.2</td>\n",
       "      <td>Iris-setosa</td>\n",
       "    </tr>\n",
       "  </tbody>\n",
       "</table>\n",
       "</div>"
      ],
      "text/plain": [
       "   sepal_length  sepal_width  petal_length  petal_width        class\n",
       "0           5.1          3.5           1.4          0.2  Iris-setosa\n",
       "1           4.9          3.0           1.4          0.2  Iris-setosa\n",
       "2           4.7          3.2           1.3          0.2  Iris-setosa\n",
       "3           4.6          3.1           1.5          0.2  Iris-setosa\n",
       "4           5.0          3.6           1.4          0.2  Iris-setosa"
      ]
     },
     "execution_count": 14,
     "metadata": {},
     "output_type": "execute_result"
    }
   ],
   "source": [
    "filepath = 'iris.data' # Insira aqui o caminho para os dados\n",
    "iris = pd.read_csv('iris.data', header=None)\n",
    "iris.columns = ['sepal_length', 'sepal_width', 'petal_length', 'petal_width', 'class']\n",
    "\n",
    "iris.head()"
   ]
  },
  {
   "cell_type": "markdown",
   "id": "d0c72548",
   "metadata": {},
   "source": [
    "- Forneça uma estimativa para o vetor $\\mu$, para a matriz $\\Sigma$ e $\\rho$ para a classe `setosa`."
   ]
  },
  {
   "cell_type": "code",
   "execution_count": 15,
   "id": "fbd04de1",
   "metadata": {},
   "outputs": [
    {
     "name": "stdout",
     "output_type": "stream",
     "text": [
      "Estimativa para o vetor mu:\n",
      "[5.006 3.418 1.464 0.244]\n",
      "\n",
      "Estimativa para a matriz sigma:\n",
      "[[0.12424898 0.10029796 0.01613878 0.01054694]\n",
      " [0.10029796 0.14517959 0.01168163 0.01143673]\n",
      " [0.01613878 0.01168163 0.03010612 0.00569796]\n",
      " [0.01054694 0.01143673 0.00569796 0.01149388]]\n",
      "\n",
      "Estimativa para rho:\n",
      "[[1.         0.74678037 0.26387409 0.27909157]\n",
      " [0.74678037 1.         0.17669463 0.27997289]\n",
      " [0.26387409 0.17669463 1.         0.30630821]\n",
      " [0.27909157 0.27997289 0.30630821 1.        ]]\n"
     ]
    }
   ],
   "source": [
    "setosa = iris[iris['class'] == 'Iris-setosa']\n",
    "setosa = setosa.iloc[:, :4]\n",
    "\n",
    "mu = np.mean(setosa.values, axis=0)\n",
    "sigma = np.cov(setosa.T)\n",
    "rho = np.corrcoef(setosa.T)\n",
    "\n",
    "print('Estimativa para o vetor mu:')\n",
    "print(mu)\n",
    "\n",
    "print('\\nEstimativa para a matriz sigma:')\n",
    "print(sigma)\n",
    "\n",
    "print('\\nEstimativa para rho:')\n",
    "print(rho)"
   ]
  },
  {
   "cell_type": "markdown",
   "id": "f04deb25",
   "metadata": {},
   "source": [
    "- A partir da matriz de correlação entre os pares de v.a.'s (e do plot de dispersão dos pontos), quais as variáveis que são mais correlacionadas? E quais são menos correlacionadas?"
   ]
  },
  {
   "cell_type": "markdown",
   "id": "fe2a8c22",
   "metadata": {},
   "source": [
    "**Resposta:** A partir do plot de dispersão dos pontos abaixoe da matriz de correlação acima, nós percebemos que as variáveis mais correlacionadas são `sepal_width` e `sepal_length`. Já as menos correlacionadas são `sepal_width` e `petal_length`."
   ]
  },
  {
   "cell_type": "code",
   "execution_count": 16,
   "id": "0076a282",
   "metadata": {},
   "outputs": [
    {
     "data": {
      "text/plain": [
       "<seaborn.axisgrid.PairGrid at 0x7fe1e9e267f0>"
      ]
     },
     "execution_count": 16,
     "metadata": {},
     "output_type": "execute_result"
    },
    {
     "data": {
      "image/png": "[encoded data removed]",
      "text/plain": [
       "<Figure size 720x720 with 20 Axes>"
      ]
     },
     "metadata": {
      "needs_background": "light"
     },
     "output_type": "display_data"
    }
   ],
   "source": [
    "sns.pairplot(setosa, diag_kind='hist')"
   ]
  },
  {
   "cell_type": "markdown",
   "id": "0917d175",
   "metadata": {},
   "source": [
    "- Obtenha a distribuição MARGINAL do sub-vetor $X^* = (X_1, X_2)$, o comprimento e largura da sépala."
   ]
  },
  {
   "cell_type": "markdown",
   "id": "50f26e70",
   "metadata": {},
   "source": [
    "**Resposta:** Já que o vetor $X$ segue uma normal multivariada, teremos que $X^*$ também seguirá uma distribuição normal multivariada, com $\\mathbf{\\mu^*} = [5.006, 3.418]$ e matriz de covariância igual à (submatriz de $\\Sigma$):\n",
    "\n",
    "$$\n",
    "\\Sigma^* = \n",
    "\\begin{pmatrix}\n",
    "\\sigma_1^2 & \\rho\\sigma_1\\sigma_2 \\\\\n",
    "\\rho\\sigma_2\\sigma_1 & \\sigma_2^2\n",
    "\\end{pmatrix} = \n",
    "\\begin{pmatrix}\n",
    "0.124 & 0.100 \\\\\n",
    "0.100 & 0.145\n",
    "\\end{pmatrix}\n",
    "$$"
   ]
  },
  {
   "cell_type": "markdown",
   "id": "63527b9a",
   "metadata": {},
   "source": [
    "- Obtenha a distribuição CONDICIONAL do sub-vetor $X^* = (X_1, X_2)$ quando são conhecidos os valores $x_3$ e $x_4$ das v.a.'s $(X_3, X_4)$. Obtenha esta distribuição para dois valores genéricos $x_3$ e $x_4$. A seguir use dois valores específicos: $x_3 = 1.8$ e $x_4 = 0.6$, dois valores relativamente altos para estas variáveis. Compare $DP_1 = \\sqrt{\\mathbb{V}(X_1)}$ com $\\sqrt{\\mathbb{V}(X_1\\,|\\,X_3 = 1.8, X_4 = 0.6)}$, o desvio\n",
    "padrão da variável $X_1$ condicionada nos valores de $X_3$ e $X_4$."
   ]
  },
  {
   "cell_type": "code",
   "execution_count": 17,
   "id": "d0b44baa",
   "metadata": {},
   "outputs": [],
   "source": [
    "x3, x4 = 1.8, 0.6\n",
    "\n",
    "sig11 = np.array([\n",
    "    [0.12424898, 0.10029796],\n",
    "    [0.10029796, 0.14517959]\n",
    "])\n",
    "\n",
    "sig12 = np.array([\n",
    "    [0.01613878, 0.01054694],\n",
    "    [0.01168163, 0.01143673]\n",
    "])\n",
    "\n",
    "sig21 = np.array([\n",
    "    [0.01613878, 0.01168163],\n",
    "    [0.01054694, 0.01143673]\n",
    "])\n",
    "\n",
    "sig22 = np.array([\n",
    "    [0.03010612, 0.00569796],\n",
    "    [0.00569796, 0.01149388]\n",
    "])"
   ]
  },
  {
   "cell_type": "markdown",
   "id": "c610348e",
   "metadata": {},
   "source": [
    "**Resposta:** Teremos que o sub-vetor $X^*$ seguirá uma distribuição normal multivariada $N_2(\\mathbf{m}, \\mathbf{V})$ com $\\mathbf{m}$ e $\\mathbf{V}$ igual à:\n",
    "$$\n",
    "\\begin{align}\n",
    "\\mathbf{m} &= \\begin{pmatrix} \\mu_1 \\\\ \\mu_2 \\end{pmatrix} + \\Sigma_{12}\\Sigma_{22}^{-1} \\begin{pmatrix} x_3 - \\mu_3 \\\\ x_4 - \\mu_4 \\end{pmatrix} \\\\\n",
    "&= \\dots \\text{ (cálculos em Python logo abaixo)} \\\\\n",
    "&= \\begin{pmatrix} 5.396 \\\\ 3.807 \\end{pmatrix}\n",
    "\\end{align}\n",
    "$$"
   ]
  },
  {
   "cell_type": "code",
   "execution_count": 18,
   "id": "c0e059fa",
   "metadata": {},
   "outputs": [
    {
     "data": {
      "text/plain": [
       "array([5.39646372, 3.80738264])"
      ]
     },
     "execution_count": 18,
     "metadata": {},
     "output_type": "execute_result"
    }
   ],
   "source": [
    "mu[[0,1]] + sig12 @ np.linalg.inv(sig22) @ (np.array([x3,x4]) - mu[[2,3]])"
   ]
  },
  {
   "cell_type": "markdown",
   "id": "d0bc82ba",
   "metadata": {},
   "source": [
    "$$\n",
    "\\begin{align}\n",
    "\\mathbf{V} &= \\Sigma_{11} - \\Sigma_{12}\\Sigma_{22}^{-1}\\Sigma_{21} \\\\\n",
    "&= \\dots \\text{ (cálculos em Python logo abaixo)} \\\\\n",
    "&= \\begin{pmatrix} 0.110 & 0.087 \\\\ 0.087 & 0.132 \\end{pmatrix}\n",
    "\\end{align}\n",
    "$$"
   ]
  },
  {
   "cell_type": "code",
   "execution_count": 19,
   "id": "4439bc4b",
   "metadata": {},
   "outputs": [
    {
     "data": {
      "text/plain": [
       "array([[0.11020779, 0.08739917],\n",
       "       [0.08739917, 0.13247486]])"
      ]
     },
     "execution_count": 19,
     "metadata": {},
     "output_type": "execute_result"
    }
   ],
   "source": [
    "sig11 - sig12 @ np.linalg.inv(sig22) @ sig21"
   ]
  },
  {
   "cell_type": "markdown",
   "id": "a70ff4d5",
   "metadata": {},
   "source": [
    "Com isso, teremos que $\\sqrt{\\mathbb{V}(X_1)} \\approx 0.35249$ enquanto que $\\sqrt{\\mathbb{V}(X_1\\,|\\,X_3 = 1.8, X_4 = 0.6)} \\approx 0.33197$."
   ]
  },
  {
   "cell_type": "markdown",
   "id": "400e14f8",
   "metadata": {},
   "source": [
    "- Obtenha agora a distribuição CONDICIONAL do sub-vetor $X^* = (X_1, X_2)$ quando é conhecido apenas o valor de $X_3$."
   ]
  },
  {
   "cell_type": "markdown",
   "id": "0cdc0b20",
   "metadata": {},
   "source": [
    "**Resposta:** Podemos raciocinar de forma similar à questão anterior, porém dessa vez será como se a variável $X_4$ não existisse. Portanto, trabalharemos apenas com a seguinte matriz:\n",
    "$$\n",
    "\\Sigma =\n",
    "\\begin{pmatrix}\n",
    "0.124 & 0.1 & 0.016 \\\\\n",
    "0.1 & 0.145 & 0.012 \\\\\n",
    "0.016 & 0.012 & 0.03\n",
    "\\end{pmatrix}\n",
    "$$\n",
    "\n",
    "Da mesma forma, iremos calcular os valores de $\\mathbf{m}$ e $\\mathbf{V}$ da seguinte forma:\n",
    "\n",
    "$$\n",
    "\\begin{align}\n",
    "\\mathbf{m} &= \\begin{pmatrix} \\mu_1 \\\\ \\mu_2 \\end{pmatrix} + \\Sigma_{12}\\Sigma_{22}^{-1} \\begin{pmatrix} x_3 - \\mu_3 \\end{pmatrix} \\\\\n",
    "&= \\begin{pmatrix} 5.006 \\\\ 3.418 \\end{pmatrix} + \\begin{pmatrix} 0.016 \\\\ 0.012 \\end{pmatrix} \\begin{pmatrix} 0.03 \\end{pmatrix}^{-1} \\begin{pmatrix} x_3 - 1.464 \\end{pmatrix}\\\\\n",
    "&= \\dots \\text{ (cálculos em Python logo abaixo)} \\\\\n",
    "&= \\begin{pmatrix} 5.185 \\\\ 3.552 \\end{pmatrix}\n",
    "\\end{align}\n",
    "$$"
   ]
  },
  {
   "cell_type": "code",
   "execution_count": 20,
   "id": "221a0276",
   "metadata": {},
   "outputs": [
    {
     "data": {
      "text/plain": [
       "array([[5.1852],\n",
       "       [3.5524]])"
      ]
     },
     "execution_count": 20,
     "metadata": {},
     "output_type": "execute_result"
    }
   ],
   "source": [
    "m0 = np.array([[5.006], [3.418]])\n",
    "m1 = np.array([[0.016], [0.012]])\n",
    "m2 = np.array([[0.03]])\n",
    "m3 = np.array([[x3 - 1.464]])\n",
    "\n",
    "m0 + m1 @ np.linalg.inv(m2) @ m3"
   ]
  },
  {
   "cell_type": "markdown",
   "id": "9f3887e4",
   "metadata": {},
   "source": [
    "$$\n",
    "\\begin{align}\n",
    "\\mathbf{V} &= \\Sigma_{11} - \\Sigma_{12}\\Sigma_{22}^{-1}\\Sigma_{21} \\\\\n",
    "&= \\begin{pmatrix} 0.124 & 0.1 \\\\ 0.1 & 0.145 \\end{pmatrix} - \\begin{pmatrix} 0.016 \\\\ 0.012 \\end{pmatrix} \\begin{pmatrix} 0.03 \\end{pmatrix}^{-1} \\begin{pmatrix} 0.016 & 0.012 \\end{pmatrix}\\\\\n",
    "&= \\dots \\text{ (cálculos em Python logo abaixo)} \\\\\n",
    "&= \\begin{pmatrix} 0.115 & 0.094 \\\\ 0.094 & 0.140 \\end{pmatrix}\n",
    "\\end{align}\n",
    "$$"
   ]
  },
  {
   "cell_type": "code",
   "execution_count": 21,
   "id": "1514d345",
   "metadata": {},
   "outputs": [
    {
     "data": {
      "text/plain": [
       "array([[0.11546667, 0.0936    ],\n",
       "       [0.0936    , 0.1402    ]])"
      ]
     },
     "execution_count": 21,
     "metadata": {},
     "output_type": "execute_result"
    }
   ],
   "source": [
    "m0 = np.array([[0.124, 0.1], [0.1, 0.145]])\n",
    "m1 = np.array([[0.016], [0.012]])\n",
    "m2 = np.array([[0.03]])\n",
    "m3 = np.array([[0.016, 0.012]])\n",
    "\n",
    "m0 - m1 @ np.linalg.inv(m2) @ m3"
   ]
  },
  {
   "cell_type": "markdown",
   "id": "84abf9a3",
   "metadata": {},
   "source": [
    "- Obtenha também distribuição CONDICIONAL do sub-vetor $X^* = (X_1, X_2)$ quando é conhecido apenas o valor de $X_4$."
   ]
  },
  {
   "cell_type": "markdown",
   "id": "7c0bcf21",
   "metadata": {},
   "source": [
    "**Resposta:** Teremos o **mesmo** procedimento da questão anterior, porém, dessa vez excluíndo a variável $X_3$.\n",
    "\n",
    "$$\n",
    "\\Sigma =\n",
    "\\begin{pmatrix}\n",
    "0.124 & 0.1 & 0.011 \\\\\n",
    "0.1 & 0.145 & 0.011 \\\\\n",
    "0.011 & 0.011 & 0.011\n",
    "\\end{pmatrix}\n",
    "$$\n",
    "\n",
    "Da mesma forma, iremos calcular os valores de $\\mathbf{m}$ e $\\mathbf{V}$ da seguinte forma:\n",
    "\n",
    "$$\n",
    "\\begin{align}\n",
    "\\mathbf{m} &= \\begin{pmatrix} \\mu_1 \\\\ \\mu_2 \\end{pmatrix} + \\Sigma_{12}\\Sigma_{22}^{-1} \\begin{pmatrix} x_4 - \\mu_4 \\end{pmatrix} \\\\\n",
    "&= \\begin{pmatrix} 5.006 \\\\ 3.418 \\end{pmatrix} + \\begin{pmatrix} 0.011 \\\\ 0.011 \\end{pmatrix} \\begin{pmatrix} 0.011 \\end{pmatrix}^{-1} \\begin{pmatrix} x_4 - 0.244 \\end{pmatrix}\\\\\n",
    "&= \\dots \\text{ (cálculos em Python logo abaixo)} \\\\\n",
    "&= \\begin{pmatrix} 5.362 \\\\ 3.774 \\end{pmatrix}\n",
    "\\end{align}\n",
    "$$"
   ]
  },
  {
   "cell_type": "code",
   "execution_count": 22,
   "id": "0011a376",
   "metadata": {},
   "outputs": [
    {
     "data": {
      "text/plain": [
       "array([[5.362],\n",
       "       [3.774]])"
      ]
     },
     "execution_count": 22,
     "metadata": {},
     "output_type": "execute_result"
    }
   ],
   "source": [
    "m0 = np.array([[5.006], [3.418]])\n",
    "m1 = np.array([[0.011], [0.011]])\n",
    "m2 = np.array([[0.011]])\n",
    "m3 = np.array([[x4 - 0.244]])\n",
    "\n",
    "m0 + m1 @ np.linalg.inv(m2) @ m3"
   ]
  },
  {
   "cell_type": "markdown",
   "id": "abee6394",
   "metadata": {},
   "source": [
    "$$\n",
    "\\begin{align}\n",
    "\\mathbf{V} &= \\Sigma_{11} - \\Sigma_{12}\\Sigma_{22}^{-1}\\Sigma_{21} \\\\\n",
    "&= \\begin{pmatrix} 0.124 & 0.1 \\\\ 0.1 & 0.145 \\end{pmatrix} - \\begin{pmatrix} 0.011 \\\\ 0.011 \\end{pmatrix} \\begin{pmatrix} 0.011 \\end{pmatrix}^{-1} \\begin{pmatrix} 0.011 & 0.011 \\end{pmatrix}\\\\\n",
    "&= \\dots \\text{ (cálculos em Python logo abaixo)} \\\\\n",
    "&= \\begin{pmatrix} 0.113 & 0.089 \\\\ 0.089 & 0.134 \\end{pmatrix}\n",
    "\\end{align}\n",
    "$$"
   ]
  },
  {
   "cell_type": "code",
   "execution_count": 23,
   "id": "3c3cb8ce",
   "metadata": {},
   "outputs": [
    {
     "data": {
      "text/plain": [
       "array([[0.113, 0.089],\n",
       "       [0.089, 0.134]])"
      ]
     },
     "execution_count": 23,
     "metadata": {},
     "output_type": "execute_result"
    }
   ],
   "source": [
    "m0 = np.array([[0.124, 0.1], [0.1, 0.145]])\n",
    "m1 = np.array([[0.011], [0.011]])\n",
    "m2 = np.array([[0.011]])\n",
    "m3 = np.array([[0.011, 0.011]])\n",
    "\n",
    "m0 - m1 @ np.linalg.inv(m2) @ m3"
   ]
  },
  {
   "cell_type": "markdown",
   "id": "83678988",
   "metadata": {},
   "source": [
    "- Comparando as três últimas respostas que você forneceu, qual das duas variáveis isoladamente, $X_3$ ou $X_4$, diminui a incerteza acerca de $X_2$ mais fortemente? Isto é, se você tivesse de escolher apenas uma delas, $X_3$ ou $X_4$, qual você iria preferir se seu objetivo fosse predizer o valor de $X_2$?"
   ]
  },
  {
   "cell_type": "markdown",
   "id": "b960ca03",
   "metadata": {},
   "source": [
    "**Resposta:**: A variável $X_4$ diminui a incerteza mais fortemente, uma vez que $\\mathbb{V}(X_2 \\,|\\, X_4) = 0.134$ é menor que $\\mathbb{V}(X_2 \\,|\\, X_3) = 0.140$."
   ]
  },
  {
   "cell_type": "markdown",
   "id": "0fbdded8",
   "metadata": {},
   "source": [
    "- Considere a melhor preditora para $X_2$ que você escolheu, dentre $X_3$ ou $X_4$, na questão anterior. Digamos que tenha sido $X_4$. Avalie quanto conhecer a outra variável (neste caso, $X_3$) reduz ADICIONALMENTE a incerteza acerca de $X_3$. Isto é, compare $\\mathbb{V}(X_2\\,|\\,X_4)$ com $\\mathbb{V}(X_2\\,|\\,X_3,X_4)$."
   ]
  },
  {
   "cell_type": "markdown",
   "id": "d8af1fd9",
   "metadata": {},
   "source": [
    "**Resposta:** A variável escolhida foi $X_4$. Teremos que $\\mathbb{V}(X_2\\,|\\,X_3,X_4) = 0.132$, sendo ainda menor do que conhecer apenas $X_4$, mas devemos estar cientes de possíveis erros de arredondamento. Além disso, em uma análise anterior, concluímos que a correlação entre $X_2$ e $X_3$ é a menor de todas, possivelmente não influenciando tanto assim na predição de $X_2$."
   ]
  },
  {
   "cell_type": "markdown",
   "id": "2656c289",
   "metadata": {},
   "source": [
    "## Questão 10)"
   ]
  },
  {
   "cell_type": "markdown",
   "id": "e7037c88",
   "metadata": {},
   "source": [
    "- Seja $\\mathbf{X} = (X_1, X_2, X_3)'$ um vetor aleatório com distribuição normal multivariada com $\\mathbb{\\mu} = (-1, 0, 2)'$ e\n",
    "$$\n",
    "\\Sigma =\n",
    "\\begin{pmatrix}\n",
    "1 & -2 & 0 \\\\\n",
    "-2 & 5 & 0 \\\\\n",
    "0 & 0 & 2\n",
    "\\end{pmatrix}\n",
    "$$\n",
    "\n",
    "- Seja $\\mathbf{b}$ um vetor $k$-dimensional e $\\mathbf{C}$ uma matriz $k\\times 3$ formada por constantes. Uma das propriedades da normal multivariada é que a distribuição do vetor $\\mathbf{b} + \\mathbf{CX}$ de dimensão $k$ é normal com vetor de médias $\\mathbf{b} + \\mathbf{C\\mu}$ e matriz de $k \\times k $ covariância $\\mathbf{C\\Sigma C}^T$. Use esta propriedade para obter a distribuição das seguintes variáveis:\n",
    "\n",
    "\n",
    "- Distribuição marginal de $X_1$, de $X_2$ e de $X_3$."
   ]
  },
  {
   "cell_type": "code",
   "execution_count": 24,
   "id": "d87e8455",
   "metadata": {},
   "outputs": [],
   "source": [
    "mu = np.array([[-1, 0, 2]]).T\n",
    "\n",
    "sigma = np.array([\n",
    "    [1, -2, 0],\n",
    "    [-2, 5, 0],\n",
    "    [0, 0, 2]\n",
    "])"
   ]
  },
  {
   "cell_type": "markdown",
   "id": "baad283c",
   "metadata": {},
   "source": [
    "**Resposta:** $X_1 \\sim N(-1, 1)$, $X_2 \\sim N(0, 5)$ e $X_3 \\sim N(2,2)$."
   ]
  },
  {
   "cell_type": "markdown",
   "id": "7b6e8872",
   "metadata": {},
   "source": [
    "- Distribuição de um indicador composto pelas 3 variáveis: $T = 0.4X_1 + 0.3X_2 + 0.3X_3$."
   ]
  },
  {
   "cell_type": "markdown",
   "id": "49a2fc98",
   "metadata": {},
   "source": [
    "**Resposta:** Teremos que $\\mathbf{C} = (0.4, 0.3, 0.3)'$ com $\\mathbf{b = 0}$ e que $T \\sim N_{k=1}(\\mathbf{C\\mu}, \\mathbf{C\\Sigma C^T})$, onde $\\mathbf{C\\mu} = 0.4\\mu_1 + 0.3\\mu_2 + 0.3\\mu_3 = 0.2$ e $\\mathbf{C\\Sigma C^T} = 0.31$ (cálculos logo abaixo em Python)."
   ]
  },
  {
   "cell_type": "code",
   "execution_count": 25,
   "id": "f8e56a33",
   "metadata": {},
   "outputs": [
    {
     "data": {
      "text/plain": [
       "array([[0.31]])"
      ]
     },
     "execution_count": 25,
     "metadata": {},
     "output_type": "execute_result"
    }
   ],
   "source": [
    "b = np.array([[0.0, 0.0, 0.0]])\n",
    "C = np.array([[0.4, 0.3, 0.3]])\n",
    "\n",
    "C @ sigma @ C.T"
   ]
  },
  {
   "cell_type": "markdown",
   "id": "72b68f88",
   "metadata": {},
   "source": [
    "- Distribuição de um indicador composto pelas 3 variáveis normalizadas: $T = 0.4(X_1 − 10)/2 + 0.3(X_2 − 20)/\\sqrt{30} + 0.3(X_3 + 50)/\\sqrt{94}$"
   ]
  },
  {
   "cell_type": "markdown",
   "id": "cb93a8f8",
   "metadata": {},
   "source": [
    "**Resposta:** Tentaremos decompor o indicador $T$ na forma $\\mathbf{b + CX}$:\n",
    "\n",
    "$$\n",
    "\\begin{align}\n",
    "T &= \\begin{pmatrix} 0.2 & \\frac{0.3}{\\sqrt{30}} & \\frac{0.3}{\\sqrt{94}} \\end{pmatrix} \\begin{pmatrix} X_1-10 \\\\ X_2-20 \\\\ X_3 + 50 \\end{pmatrix} \\\\\n",
    "&= \\begin{pmatrix} 0.2 & \\frac{0.3}{\\sqrt{30}} & \\frac{0.3}{\\sqrt{94}} \\end{pmatrix} \\begin{pmatrix} X_1 \\\\ X_2 \\\\ X_3 \\end{pmatrix} + \\begin{pmatrix} 0.2 & \\frac{0.3}{\\sqrt{30}} & \\frac{0.3}{\\sqrt{94}} \\end{pmatrix} \\begin{pmatrix} -10 \\\\ -20 \\\\ 50 \\end{pmatrix}\\\\\n",
    "&= \\begin{pmatrix} 0.2 & \\frac{0.3}{\\sqrt{30}} & \\frac{0.3}{\\sqrt{94}} \\end{pmatrix} \\begin{pmatrix} X_1 \\\\ X_2 \\\\ X_3 \\end{pmatrix} + (-1.54831)\n",
    "\\end{align}\n",
    "$$\n",
    "\n",
    "Sendo assim, saberemos que $T \\sim N_{k=1}(\\mathbf{b+C\\mu}, \\mathbf{C\\Sigma C^T})$, onde $\\mathbf{b+C\\mu} \\approx -1.68643$ e $\\mathbf{C\\Sigma C^T} \\approx 0.01309 $ (cálculos logo abaixo em Python)."
   ]
  },
  {
   "cell_type": "code",
   "execution_count": 26,
   "id": "0afb36c7",
   "metadata": {},
   "outputs": [
    {
     "data": {
      "text/plain": [
       "array([[-1.54831325]])"
      ]
     },
     "execution_count": 26,
     "metadata": {},
     "output_type": "execute_result"
    }
   ],
   "source": [
    "# Calculando valor de b\n",
    "b = np.array([[0.2, 0.3/np.sqrt(30), 0.3/np.sqrt(94)]]) @ np.array([[-10, -20, 50]]).T\n",
    "b"
   ]
  },
  {
   "cell_type": "code",
   "execution_count": 27,
   "id": "85b99258",
   "metadata": {},
   "outputs": [
    {
     "data": {
      "text/plain": [
       "array([[-1.68642797]])"
      ]
     },
     "execution_count": 27,
     "metadata": {},
     "output_type": "execute_result"
    }
   ],
   "source": [
    "# Calculando valor de b + C @ mu\n",
    "C = np.array([[0.2, 0.3/np.sqrt(30), 0.3/np.sqrt(94)]])\n",
    "b + C @ mu"
   ]
  },
  {
   "cell_type": "code",
   "execution_count": 28,
   "id": "1e490794",
   "metadata": {
    "scrolled": true
   },
   "outputs": [
    {
     "data": {
      "text/plain": [
       "array([[0.01309709]])"
      ]
     },
     "execution_count": 28,
     "metadata": {},
     "output_type": "execute_result"
    }
   ],
   "source": [
    "# Calculando valor de C @ sigma @ C.T\n",
    "C @ sigma @ C.T"
   ]
  },
  {
   "cell_type": "markdown",
   "id": "c215d39d",
   "metadata": {},
   "source": [
    "- Distribuição conjunta de $(X_1 - X_2, 4X_1 + 2X_2 - X_3)$."
   ]
  },
  {
   "cell_type": "markdown",
   "id": "278cd487",
   "metadata": {},
   "source": [
    "**Resposta:** Esse vetor segue uma distribuição normal multivariada com $k=2$, podendo ser decomposto na forma $\\mathbf{CX}$ onde\n",
    "$$ C = \\begin{pmatrix} 1 & -1 & 0 \\\\ 4 & 2 & -1 \\end{pmatrix} $$\n",
    "\n",
    "Sendo assim, $T \\sim N_{k=2}(\\mathbf{C\\mu}, \\mathbf{C\\Sigma C^T})$, onde $\\mathbf{C\\mu}$ e $\\mathbf{C\\Sigma C^T}$ são calculados logo abaixo em Python."
   ]
  },
  {
   "cell_type": "code",
   "execution_count": 29,
   "id": "1bffa83b",
   "metadata": {
    "scrolled": true
   },
   "outputs": [
    {
     "data": {
      "text/plain": [
       "array([[-1],\n",
       "       [-6]])"
      ]
     },
     "execution_count": 29,
     "metadata": {},
     "output_type": "execute_result"
    }
   ],
   "source": [
    "C = np.array([\n",
    "    [1, -1, 0],\n",
    "    [4, 2, -1]\n",
    "])\n",
    "\n",
    "C @ mu"
   ]
  },
  {
   "cell_type": "code",
   "execution_count": 30,
   "id": "83ff23e8",
   "metadata": {},
   "outputs": [
    {
     "data": {
      "text/plain": [
       "array([[10, -2],\n",
       "       [-2,  6]])"
      ]
     },
     "execution_count": 30,
     "metadata": {},
     "output_type": "execute_result"
    }
   ],
   "source": [
    "C @ sigma @ C.T"
   ]
  },
  {
   "cell_type": "markdown",
   "id": "35767f3d",
   "metadata": {},
   "source": [
    "- Distribuição conjunta de $(X_1, aX_1 + bX_2 + cX_3)$, onde $a$, $b$, $c$ são constantes reais. Em particular, encontre a covariância entre $X_1$ e o indicador $Y = aX_1 + bX_2 + cX_3$ formado pela combinação linear de $X_1$, $X_2$ e $X_3$."
   ]
  },
  {
   "cell_type": "markdown",
   "id": "225bce41",
   "metadata": {},
   "source": [
    "**Resposta:** Esse vetor segue uma distribuição normal multivariada com $k=2$, podendo ser decomposto na forma $\\mathbf{CX}$ onde\n",
    "$$ C = \\begin{pmatrix} 1 & 0 & 0 \\\\ a & b & c \\end{pmatrix} $$"
   ]
  },
  {
   "cell_type": "markdown",
   "id": "df35c0ec",
   "metadata": {},
   "source": [
    "O vetor de médias será o seguinte:\n",
    "\n",
    "$$ \\mathbf{C\\mu} = \\begin{pmatrix} 1 & 0 & 0 \\\\ a & b & c \\end{pmatrix} \\begin{pmatrix} -1 \\\\ 0 \\\\ 2 \\end{pmatrix} = \\begin{pmatrix} -1 \\\\ -a + 2c \\end{pmatrix} $$"
   ]
  },
  {
   "cell_type": "markdown",
   "id": "50f48432",
   "metadata": {},
   "source": [
    "A matriz de covariância será:\n",
    "\n",
    "$$\n",
    "\\begin{align}\n",
    "\\mathbf{C\\Sigma C^T} &= \\begin{pmatrix} 1 & 0 & 0 \\\\ a & b & c \\end{pmatrix} \\begin{pmatrix}\n",
    "1 & -2 & 0 \\\\\n",
    "-2 & 5 & 0 \\\\\n",
    "0 & 0 & 2\n",
    "\\end{pmatrix} \\begin{pmatrix} 1 & a \\\\ 0 & b \\\\ 0 & c \\end{pmatrix} \\\\ &= \\begin{pmatrix} 1 & -2 & 0 \\\\ a-2b & -2a + 5b & 2c \\end{pmatrix} \\begin{pmatrix} 1 & a \\\\ 0 & b \\\\ 0 & c \\end{pmatrix} \\\\ &= \\begin{pmatrix} 1 & a-2b \\\\ a-2b & a^2 -4ab + 5b^2 + 2c^2 \\end{pmatrix}\n",
    "\\end{align}\n",
    "$$"
   ]
  }
 ],
 "metadata": {
  "kernelspec": {
   "display_name": "Python 3 (ipykernel)",
   "language": "python",
   "name": "python3"
  },
  "language_info": {
   "codemirror_mode": {
    "name": "ipython",
    "version": 3
   },
   "file_extension": ".py",
   "mimetype": "text/x-python",
   "name": "python",
   "nbconvert_exporter": "python",
   "pygments_lexer": "ipython3",
   "version": "3.8.5"
  }
 },
 "nbformat": 4,
 "nbformat_minor": 5
}
